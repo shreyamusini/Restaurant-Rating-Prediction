{
 "cells": [
  {
   "cell_type": "code",
   "execution_count": 33,
   "id": "56c93dec",
   "metadata": {},
   "outputs": [],
   "source": [
    "import pandas as pd\n",
    "import numpy as np\n",
    "import re\n",
    "import warnings\n",
    "warnings.filterwarnings('ignore')\n",
    "\n",
    "import plotly.express as px\n",
    "import seaborn as sns\n",
    "import matplotlib.pyplot as plt\n",
    "\n",
    "from sentence_transformers import SentenceTransformer\n",
    "from sklearn.preprocessing import LabelEncoder, StandardScaler\n",
    "from sklearn.model_selection import train_test_split, TimeSeriesSplit, cross_val_score\n",
    "from transformers import pipeline\n",
    "\n",
    "from sklearn.ensemble import RandomForestRegressor\n",
    "from sklearn.metrics import mean_squared_error, r2_score\n",
    "\n"
   ]
  },
  {
   "cell_type": "markdown",
   "id": "cfd6220f",
   "metadata": {},
   "source": [
    "## Parsing the TXT File into a List"
   ]
  },
  {
   "cell_type": "code",
   "execution_count": 70,
   "id": "9f247d29",
   "metadata": {},
   "outputs": [
    {
     "ename": "FileNotFoundError",
     "evalue": "[Errno 2] No such file or directory: 'text-E1B5DBE1DEA1-1.txt'",
     "output_type": "error",
     "traceback": [
      "\u001b[0;31m---------------------------------------------------------------------------\u001b[0m",
      "\u001b[0;31mFileNotFoundError\u001b[0m                         Traceback (most recent call last)",
      "Cell \u001b[0;32mIn[70], line 1\u001b[0m\n\u001b[0;32m----> 1\u001b[0m \u001b[38;5;28;01mwith\u001b[39;00m \u001b[38;5;28mopen\u001b[39m(\u001b[38;5;124m'\u001b[39m\u001b[38;5;124mtext-E1B5DBE1DEA1-1.txt\u001b[39m\u001b[38;5;124m'\u001b[39m, \u001b[38;5;124m\"\u001b[39m\u001b[38;5;124mr\u001b[39m\u001b[38;5;124m\"\u001b[39m) \u001b[38;5;28;01mas\u001b[39;00m file:\n\u001b[1;32m      2\u001b[0m     lines \u001b[38;5;241m=\u001b[39m file\u001b[38;5;241m.\u001b[39mread()\n",
      "File \u001b[0;32m/opt/anaconda3/lib/python3.12/site-packages/IPython/core/interactiveshell.py:324\u001b[0m, in \u001b[0;36m_modified_open\u001b[0;34m(file, *args, **kwargs)\u001b[0m\n\u001b[1;32m    317\u001b[0m \u001b[38;5;28;01mif\u001b[39;00m file \u001b[38;5;129;01min\u001b[39;00m {\u001b[38;5;241m0\u001b[39m, \u001b[38;5;241m1\u001b[39m, \u001b[38;5;241m2\u001b[39m}:\n\u001b[1;32m    318\u001b[0m     \u001b[38;5;28;01mraise\u001b[39;00m \u001b[38;5;167;01mValueError\u001b[39;00m(\n\u001b[1;32m    319\u001b[0m         \u001b[38;5;124mf\u001b[39m\u001b[38;5;124m\"\u001b[39m\u001b[38;5;124mIPython won\u001b[39m\u001b[38;5;124m'\u001b[39m\u001b[38;5;124mt let you open fd=\u001b[39m\u001b[38;5;132;01m{\u001b[39;00mfile\u001b[38;5;132;01m}\u001b[39;00m\u001b[38;5;124m by default \u001b[39m\u001b[38;5;124m\"\u001b[39m\n\u001b[1;32m    320\u001b[0m         \u001b[38;5;124m\"\u001b[39m\u001b[38;5;124mas it is likely to crash IPython. If you know what you are doing, \u001b[39m\u001b[38;5;124m\"\u001b[39m\n\u001b[1;32m    321\u001b[0m         \u001b[38;5;124m\"\u001b[39m\u001b[38;5;124myou can use builtins\u001b[39m\u001b[38;5;124m'\u001b[39m\u001b[38;5;124m open.\u001b[39m\u001b[38;5;124m\"\u001b[39m\n\u001b[1;32m    322\u001b[0m     )\n\u001b[0;32m--> 324\u001b[0m \u001b[38;5;28;01mreturn\u001b[39;00m io_open(file, \u001b[38;5;241m*\u001b[39margs, \u001b[38;5;241m*\u001b[39m\u001b[38;5;241m*\u001b[39mkwargs)\n",
      "\u001b[0;31mFileNotFoundError\u001b[0m: [Errno 2] No such file or directory: 'text-E1B5DBE1DEA1-1.txt'"
     ]
    }
   ],
   "source": [
    "with open('text-E1B5DBE1DEA1-1.txt', \"r\") as file:\n",
    "    lines = file.read()"
   ]
  },
  {
   "cell_type": "code",
   "execution_count": 3,
   "id": "9e35ecc7",
   "metadata": {},
   "outputs": [
    {
     "data": {
      "text/plain": [
       "['So Saap (Laotian, Thai in City Heights)\\nhttps://sosaap.com/?utm_source=google\\nNotes: i forgot wat spice level i ordered but it was so flavorful and spiceful i loved my drunken noodles. the skewers were so tasty!! sugar cane was so sweet and refreshing. sugar cane should be my middle name',\n",
       " 'Kura Revolving Sushi Bar (Japanese, Sushi in Kearny Mesa)\\nhttps://kurasushi.com/locations/sandiegocaconvoy/\\nNotes: i am in love. sushi was great. 10/10',\n",
       " 'Kura Revolving Sushi Bar (Japanese, Sushi)\\nhttps://kurasushi.com/locations/pleasantonca/\\nNotes: we ate good. i got snow crab this time, didnt like it. got spicy salmon crispy rice too for the first time and it was so good. we got mochi too (strawberry and black sesame) but only liked strawberry',\n",
       " 'Sugar and Scribe (Bakery, Brunch in Village of La Jolla)\\nhttps://www.sugarandscribe.com/\\nNotes: the shashuka was so good! hot chocolate was good too on the slightly chilly day 💨. and the nutcracker cup was cute!',\n",
       " 'Hako Sushi Box (Sushi, Japanese)\\nhttps://www.hakosushibox.com/\\nNotes: the box had three rolls and was decently priced. they tasted great too and were unique! the yum yum roll was a delighted surprise i didn’t think id like it because of the mango salsa but it was just the right touch. and a soda with the box!',\n",
       " 'Mr. Shawarma Pacific Beach (Lebanese in Pacific Beach)\\nhttp://www.mrshawarmatrucks.com/\\nNotes: guys i feel like i had my 3rd, 4th, and 5th eye open after eating here. the fact that i got onion rings too (even tho i had to pay extra but it was so worth it) it was such a good pick me up meal cuz i was feeling like shit and this made my heart happy.',\n",
       " \"Caroline's Seaside Cafe by Giuseppe (American, Burgers, Sandwiches in La Jolla)\\nhttp://carolinesseasidecafe.com/\\nNotes: good sandwich, fries are top tier, and the discount makes it better ;)\",\n",
       " 'Blue Ocean / Harumama (Japanese, Sushi in Village of La Jolla)\\nhttps://www.harumamasd.com/lajollamenu',\n",
       " 'Nozomi Sushi La Jolla (Japanese, Korean, Sushi in La Jolla)\\nhttps://www.nozomilajolla.com/',\n",
       " \"Ramen Nagi (Japanese, Ramen in University City)\\nhttp://www.ramennagiusa.com/\\nNotes: i got the veggie king cuz i can't eat pork lol but it was good i liked the broth and the customization but i wish there was an option to add chicken / have chicken broth. i also added egg :D but i forgot to add other vegetables :((\",\n",
       " 'Buga Korean BBQ Restaurant (Barbecue, Korean in Clairemont)\\nhttp://www.bugabbq.com/\\nNotes: my first KBBQ outing. was good. i ate so good. i ate mostly chicken for meat and i still enjoyed myself. there’s so many sides that u can get and it was great omg esp the corn and rice ugh i think about it often.',\n",
       " 'Shan Xi Magic Kitchen (Chinese in Kearny Mesa)\\nhttps://www.shanximagickitchen.com/\\nNotes: i got noodles (i believe it was spicy hot oil hand dipped noodle with tomato and egg). it was magical.',\n",
       " 'YinTang Spicy Hot Pot (Hot Pot, Chinese, Soup in Mira Mesa)\\nhttp://yintangsandiego.com/\\nNotes: i got the green spicy dry base with a lot of seafood toppings. have leftovers for days. in love',\n",
       " 'Tous Les Jours (Bakery, Korean, French in La Jolla)\\nhttps://order.online/store/touslesjourslajolla30193814/?hideModal=true&pickup=true&utm_source=sdk&visitorId=18f120738c53a5990',\n",
       " 'Sogno Di Vino (Italian in Little Italy)\\nhttps://www.sognodivinosd.com/\\nNotes: i forgot wat i got but i did rlly like it!!! i think i also got wine but i don’t remember',\n",
       " 'Tahini Authentic Middle Eastern Street Food (Mediterranean in La Jolla)\\nhttp://www.tahinistreetfood.com/\\nNotes: everyone knows i’m in love with this place and i always get food from here whenever i can. i get the rice bowl. never been disappointed. actually i would say don’t get the pita because paying 14 for pita is a bit much but 17 for a rice bowl makes more sense in my head. i love tahini, everyone at UCSD knows i do.',\n",
       " 'The Halal Guys (Middle Eastern, Halal, Food Truck in Midtown Manhattan)\\nhttps://thehalalguys.com/locations/west53rdstreetnewyork/\\nNotes: i am assuming i went to this one, it’s the food truck near the moma. i loved this gyro so much i fell in love in front of the moma. i want to take it out to dinner and cherish it if it was a person. no one will love a gyro from this place as much as me.',\n",
       " 'Saigon Sandwich (Sandwiches, Vietnamese, Banh Mi in Tenderloin)\\nhttps://saigonsandwich.net/\\nNotes: got the roast chicken banh mi. was really good. had a rlly nice sauce, the chicken was good, and loved the bread. was freshly made!!',\n",
       " 'Golden Boy Pizza (Pizza in North Beach)\\nhttp://www.goldenboypizza.com/\\nNotes: we got two slices: the pesto veggie and the cheese. the pesto veggie was my favorite i loved that slice of pizza. the cheese was also good. both had rlly interesting bread that it was baked on, it made it rlly light and crunchy even though it was a thick pizza. the pesto had a lot of oil but it didn’t bother me.',\n",
       " 'Paraná Empanadas  UTC (Argentinian in University City)\\nhttp://www.paranaempanadas.com/',\n",
       " 'Bonchon Convoy (Fried Chicken, Korean in Kearny Mesa)\\nhttps://locations.bonchon.com/ll/US/CA/SanDiego/4690ConvoySt\\nNotes: got the $1 per wing deal and ordered 10 wings. I forgot the flavors but i had two: one was garlic i think and another was kbbq (don’t quote me on this) but they were so good',\n",
       " 'Joyride Pizza  Yerba Buena Gardens (Pizza in Yerba Buena)\\nhttp://www.joyridepizza.com/\\nNotes: it was so good i think about it sometimes',\n",
       " 'Sweet Maple (American, Californian, Breakfast in Lower Pacific Heights)\\nhttps://www.sweetmaplesf.com/\\nNotes: twas good, very unique, got a mocha too. \\nshould’ve got a drink :(',\n",
       " 'Cafe Coyote (Mexican in Old Town)\\nhttp://www.cafecoyoteoldtown.com/',\n",
       " \"Manny's Kitchen (Mexican)\\nNotes: (if i remember correctly) ordered fish tacos and was a blast in the rainy weather! warmed me right up :D\",\n",
       " 'Pacific Catch (American, Seafood in University City)\\nhttp://pacificcatch.com/',\n",
       " 'Haidilao Hotpot San Diego (Hotpot in University City)\\nhttps://www.superhiinternational.com/us/',\n",
       " 'Shorehouse Kitchen (Breakfast, Brunch, Californian in La Jolla)\\nhttp://www.shorehousekitchen.com/',\n",
       " 'Il Fornaio Carmel (Italian in Northwest Carmel)\\nhttps://www.ilfornaio.com/location/ilfornaiocarmel/\\nNotes: All the dishes tasted amazing. The pizza stole the show for the group. We ordered without the italian sausage. As well, we loved the Fusilloni. Only thing was that they gave mozzarella in a ball and we expected it to be melted so we can cut into it and have it ooze out, but it was cold. Not a huge problem for us, we enjoyed all the food and would come again!!!',\n",
       " \"Hennessey's Tavern (American in La Jolla)\\nhttp://hennesseystavern.com/\",\n",
       " 'AROI (Thai in La Jolla)\\nhttp://www.aroithailajolla.com/',\n",
       " \"Micheline's Pita House (La Jolla) (Mediterranean in La Jolla)\\nhttps://www.pitahousesd.com/\",\n",
       " 'Shank & Bône (Pho, Vietnamese in North Park)\\nhttp://www.shankandbone.com/\\nNotes: i had the chicken banh mi. it was so good. get it.',\n",
       " 'Country Waffles (American)\\nhttps://www.countrywaffleseastbay.com/\\nNotes: had a fire omelette. i ate that shit. yum',\n",
       " 'Dough Bros Pizzeria & Sub Shop (Pizza in River North)\\nhttps://doughbrospizzasubs.com/?utm_source=gbp\\nNotes: i don’t remember wat pizza i ate but bro this pizza was FIRE',\n",
       " 'Tofu House (Asian in Mira Mesa)\\nhttps://www.ustofuhouse.com/\\nNotes: for the kimchi fried rice and i loved it! it was not spicy at all (i have a high spice tolerance) and cleaned the plate LOL. will be going again for the other items :D',\n",
       " 'Pho La Jolla (Vietnamese in La Jolla)\\nhttp://www.pholajolla.com/',\n",
       " 'Bafang Dumpling (Taiwanese in Mira Mesa)\\nhttp://bafangdumpling.com/',\n",
       " 'Stratford Court Cafe (Cafe)\\nhttps://www.stratfordcourtcafe.com/',\n",
       " \"Miguel's Cocina (Mexican)\\nhttp://www.miguelscocina.com/\",\n",
       " \"Yo Yo's (Japanese in North Beach)\\nNotes: got the california roll and seared salmon with some coke in a glass bottle. both rolls were good, but nothing like out of this word. i should’ve got the udon here :(\",\n",
       " 'Curry Pizza House Dublin (Pizza)\\nhttp://www.currypizzahouse.com/\\nNotes: i love having pizza from here. the flavors are so bomb. i get the chicken tikka pizza and the tandoori one too.',\n",
       " \"Miguel's Cocina (Mexican in Old Town)\\nhttp://www.miguelscocina.com/\\nNotes: i went here and got fajitas again like i did with the one on north harbor lol but it was good.\",\n",
       " 'Nonna + Zucchero (Italian in Little Italy)\\nhttp://nonnasd.com/\\nNotes: had a rlly good pesto gnocchi and there was this one app that was rlly good too but forgot the name',\n",
       " 'Blue Bowl Superfoods (Açaí Bowls in La Jolla)\\nhttp://mybluebowl.com/\\nNotes: I LOVE BLUE BOWL i stuff that shit in the bowl and in my mouth.',\n",
       " \"Monica's Livermore (Breakfast)\\nhttps://www.monicaslivermore.com/\\nNotes: was so good, the hollandaise sauce was something else\",\n",
       " 'Morning Glory (American, Breakfast, Brunch in Little Italy)\\nhttps://morningglorybreakfast.com/\\nNotes: did i update this after manya jain posted because i forgot to put any description about this place and she had pictures i didn’t? NO \\nanyway i had the khachapuri which was super unique dish to have for brunch and i enjoyed it! \\nthe wait was rlly rlly long for this place we literally spent over an hour on the wait list so be sure to account for a long wait / go early. \\nas well the vibes inside were so cute! \\ni had some kind of coffee thing with coconut milk it was good but the coconut milk was rlly overpowering so i was eh about my latte.',\n",
       " \"Harry's Coffee Shop (Breakfast, Brunch, American in La Jolla)\\nhttp://harryscoffeeshop.com/\",\n",
       " 'SilverLake (Ramen in University City)\\nhttps://silverlakeramen.com/\\nNotes: i don’t remember what i got the first time but the second time i got shoyu fire ramen which was good and i got it extra spicy which was good to kick the ickyness out of my throat',\n",
       " 'Pazza Market & Cucina (Wine Bar, Italian in University City)\\nhttp://www.pazzamarket.com/',\n",
       " 'Palm House (Caribbean in Union Street)\\nhttps://www.palmhousesf.com/\\nNotes: we got the pineapple fried rice and the macademia mac and cheese. the pineapple fried rice was rlly good and the presentation was so cool! i normally don’t like pineapple but i enjoyed this. the mac and cheese was good too.',\n",
       " 'Hint of Desi \\nhttps://hintofdesi.com/\\nNotes: i had the chicken egg kathi roll. the meal was so good! i liked how the roll itself was very saucy on the inside and the meat was nice and tender. the chutney with it together was bomb.',\n",
       " \"Sultan's Kebab (Kebab, Mediterranean)\\nhttps://www.sultanskebab.net/\\nNotes: my go to place in pleasanton. sadly, doesn’t hit like it used to but i still like it.\",\n",
       " 'The Yasai: PlantBased Japanese Experience (Japanese in Kearny Mesa)\\nhttps://www.yasaivegan.com/\\nNotes: i had no photos of food. but i went here in freshman year and i was surprised to have liked it as much as i did. even though it was vegan, all the food was tasty and delicious. ambience was good too. do reserve before hand because when i went line was so long!',\n",
       " 'Santorini Greek Island Grill (Mediterranean, Greek in La Jolla)\\nNotes: mfs know if im not at tahini, im at santorini ordering their chicken shawarma wrap. the people working there know me and put two tzatziki sauces in my order every time. 🫶🏽🫶🏽 i order food from there too much',\n",
       " 'Shake Shack Westfield UTC (American, Burgers, Fast Food in University City)\\nhttps://www.shakeshack.com/location/westfieldutcca?utm_source=G&utm_medium=local&utm_campaign=googlelocal',\n",
       " \"John's of Bleecker Street (Pizza in South Village)\\nhttps://johnsofbleecker.com/\\nNotes: i think we got a large cheese pizza. it was good but i don’t think it was life changing\",\n",
       " 'Poki One N Half (Hawaiian, Poke in La Jolla)\\nNotes: the poke was good. only thing is they charge a lot for a relatively small amount of poke.',\n",
       " 'Bub City (Barbecue, Bar in Near North)\\nhttp://www.bubcity.com/',\n",
       " 'Taka (Sushi ,Grill and Chinese Cuisine) (Sushi, Chinese, Hawaiian)\\nhttp://www.takaorder.com/\\nNotes: i have memory of a goldfish (not rlly i ate this in 2023 so that’s two years ago ha) but the two rolls pictured were so good and unique!',\n",
       " 'Charminar Indian Restaurant & Catering (Indian in Sorrento Mesa)\\nhttps://www.charminarsd.com/',\n",
       " 'CAVA (Fast Food, Healthy, Mediterranean in La Jolla Village)\\nhttps://cava.com/locations/lajollaca',\n",
       " 'Turmeric Thai Garden (Thai in La Jolla)\\nhttps://www.turmericthai.com/\\nNotes: i had drunken noodles and i had a spicy level 8 (it wasn’t spicy). if you are a spice warrior consider going higher on the spice level',\n",
       " 'Star Anise Thai Cuisine (Thai in University City)\\nhttp://www.staranisesd.com/',\n",
       " 'Snooze, an A.M. Eatery (American, Diner in La Jolla Village)\\nhttps://www.snoozeeatery.com/restaurant/california/lajolla/',\n",
       " 'ChickfilA (Chicken, Fast Food in La Jolla)\\nhttps://www.chickfila.com/locations/ca/lajollavillage?utm_source=yext&utm_medium=link\\nNotes: i always eat here if i’m not at cava or ike’s',\n",
       " 'ULU Ocean Grill (Hawaiian)\\nhttps://www.fourseasons.com/hualalai/dining/restaurants/ulu_ocean_grill/?utm_source=google&utm_medium=organicsearch&utm_campaign=torkonfabmidseona&utm_content=nana&utm_term=na\\nNotes: i love eating fishsalmon and bagel good. i don’t like capers so i didn’t eat with it. cream cheese was interesting (good interesting) cuz it was dill flavored. i also had pog juice (i was a gamer). the pog juice was very pog.',\n",
       " \"Ike's Love & Sandwiches (Sandwiches in La Jolla)\\nhttps://locations.ikessandwich.com/ca/lajolla/517/?utm_source=gmb&utm_medium=profile&utm_campaign=lajollalocationpage\",\n",
       " \"Raising Cane's (Chicken, Fast Food in Mira Mesa)\\nhttps://www.raisingcanes.com/locations/c492\\nNotes: i am always down for cane’s\",\n",
       " 'Ramen 101 (Ramen)\\nhttp://www.ramen101online.com/\\nNotes: i had ramen from here like 6 years ago. it was good ramen from wat i remember but idk wat i got.',\n",
       " 'Plant Power Fast Food (Vegan in La Jolla)\\nhttps://www.plantpowerfastfood.com/ucsd\\nNotes: i think this place is good for a last minute snack tbh. doesn’t taste bad i do like their stuff but it would not be my first choice. that being said i do enjoy their “chicken” sandwiches and other sides too.',\n",
       " 'The Kebab Shop (Mediterranean, Kebab, Lebanese in La Jolla)\\nhttps://thekebabshop.com/locations/ca/sandiego/lajollautc/\\nNotes: i ate the thing in my profile pic. twas good after spending time in da pool  i ate that shit. it was bigger than my hand. i was in love and had leftovers yay!',\n",
       " 'Shōwa Ramen (Ramen, Japanese in La Jolla)\\nhttp://www.showaramen.com/\\nNotes: i usually get their fried rice it’s rlly good. their chicken karage is good and their ramen too. i wish they had more chicken options for ramen. as well, i have had better ramen but if ur on campus and need a hot meal its good',\n",
       " 'Casa Guadalajara (Mexican in Old Town)\\nhttps://www.casaguadalajara.com/\\nNotes: i thought the tacos were okay (if this is tacos i don’t remember wat i ordered) but i have had better. not terrible tho! i also got a margarita :D',\n",
       " 'Regents Pizzeria (Pizza in La Jolla)\\nhttps://regentspizza.com/\\nNotes: yo got the rigatoni chicken pesto. enjoyed the free bread and the portions (had leftovers).',\n",
       " 'Snooze, an A.M. Eatery (Breakfast in Hillcrest)\\nhttps://www.snoozeeatery.com/restaurant/california/hillcrest/?utm_source=gmb&utm_medium=Yext\\nNotes: the smashed avocado benedict was good. imo, it was a lot for breakfast in sense of amount of flavor so it was kinda heavy. hot chocolate was good. i got both with a deal that made it 12 bucks. i also swear there was more food, i forgot to let the camera eat and as a true big back i ate 😕',\n",
       " 'Star of Siam (Thai in Near North)\\nhttp://starofsiamchicago.com/\\nNotes: we got 4 dishes, one of which is drunken noodles. and tom yum soup. and this one tomato, chicken curry that starts with an m. twas good but very heavy.',\n",
       " \"Earl and Rosie's Seafood Place (Seafood)\\nNotes: fish and chips were decent. i think it was cod. the tartar sauce tho… that was amazing\",\n",
       " 'Delarosa (Italian, Pizza)\\nhttps://www.delarosasf.com/location/bishopranch/\\nNotes: i don’t remember wat i got, i think it was some kind of pasta and i remember that i didnt rlly like the chicken that was in my meal. it was decent but wouldn’t choose it as a first choice.',\n",
       " \"Chili's Grill & Bar (American)\\nhttps://www.chilis.com/locations/us/california/pleasanton/pleasanton?utm_source=google&utm_medium=local&utm_campaign=Chilis\\nNotes: got the triple dipper mozzarella sticks. i liked the nashville hot. these guys said it was my birthday so we got free ice cream too.\",\n",
       " 'Pizzeria Uno (Pizza in River North)\\nhttps://www.pizzeriaunodue.com/\\nNotes: we got the deep dish pizza. it was good but i think im not a fan of deep dish :(',\n",
       " 'Deccan Morsels Pleasanton \\nhttp://www.deccanmorsels.com/\\nNotes: guys i had onion samosas. 4.99 for 5 which is not bad tbh but i wouldn’t go for samosas again. seeing qubani ka meetha on the menu was like attending functions in hyd and its dessert time 😌😌😌. regardless, samosas were not bad but i should’ve went for their bun maska or other bun stuff or the shawarma AND FHE IRANI CHAI. i will be coming back here to eat these.',\n",
       " 'Peacock Indian Cuisine (Indian)\\nhttps://peacockdublin.com/',\n",
       " 'Toast Cafe & Grill (Brunch, American)\\nhttp://toastcafeandgrill.com/\\nNotes: it was decent. i had a california omelette and it was fine. the vibes were cool inside but it was just decent',\n",
       " 'Barbarella Restaurant & Bar (Italian in La Jolla)\\nhttps://barbarellarestaurant.com/?y_source=1_MjQzMTg2OTItNzE1LWxvY2F0aW9uLndlYnNpdGU%3D\\nNotes: the pasta al forno was good! i think imo leeks were a bit much. still enjoyed the food tho',\n",
       " 'Fomo Momo (Indian in The Heights)\\nhttps://www.fomomousa.com/\\nNotes: got a lot of momos (i think 3 types but note that i think of it two: tandoori chicken and chicken ones) happy to finally eat momos but i thought they were kinda eh tbh.',\n",
       " \"Denny's (American)\\nhttps://locations.dennys.com/CA/LIVERMORE/9622?utm_source=yext&utm_medium=locallisting&utm_campaign=yextlisting&y_source=1_MjU3NjQ5MTQtNzE1LWxvY2F0aW9uLndlYnNpdGU%3D\\nNotes: got southwestern benny. was okay nothing like extraordinary.\",\n",
       " 'Menya Ultra UTC La Jolla (Ramen, Japanese in University City)\\nhttps://menyaultra.com/',\n",
       " 'Fortunate Son Chinese (Chinese in North Park)\\nhttp://www.fortunatesonchinese.com/',\n",
       " 'The Taco Stand (Mexican, Tacos, Taqueria in Village of La Jolla)\\nhttp://www.letstaco.com/',\n",
       " 'The Melt (American in La Jolla)\\nhttp://www.themelt.com/',\n",
       " 'Queenstown Bistro (New Zealand in University City)\\nhttps://www.queenstownbistro.com/']"
      ]
     },
     "execution_count": 3,
     "metadata": {},
     "output_type": "execute_result"
    }
   ],
   "source": [
    "restaurants = \"\".join(lines).split(\"\\n\\n\")[1:-1]\n",
    "restaurants"
   ]
  },
  {
   "cell_type": "markdown",
   "id": "2befe3c7",
   "metadata": {},
   "source": [
    "## TXT File Contents to a Dictionary"
   ]
  },
  {
   "cell_type": "code",
   "execution_count": 4,
   "id": "69a304b4",
   "metadata": {},
   "outputs": [
    {
     "data": {
      "text/plain": [
       "['Kura Revolving Sushi Bar (Japanese, Sushi in Kearny Mesa)',\n",
       " 'https://kurasushi.com/locations/sandiegocaconvoy/',\n",
       " 'Notes: i am in love. sushi was great. 10/10']"
      ]
     },
     "execution_count": 4,
     "metadata": {},
     "output_type": "execute_result"
    }
   ],
   "source": [
    "restaurants[1].split('\\n')"
   ]
  },
  {
   "cell_type": "code",
   "execution_count": 5,
   "id": "a7124b3f",
   "metadata": {},
   "outputs": [],
   "source": [
    "restaurant_details = {}\n",
    "restaurant_details['Name'] = []\n",
    "restaurant_details['URL'] = []\n",
    "restaurant_details['Notes'] = []"
   ]
  },
  {
   "cell_type": "code",
   "execution_count": 6,
   "id": "74a19527",
   "metadata": {},
   "outputs": [],
   "source": [
    "for restaurant in restaurants:\n",
    "    info = restaurant.split('\\n')\n",
    "    restaurant_details['Name'].append(info[0])\n",
    "    restaurant_details['URL'].append(info[1])\n",
    "    if len(info) == 2:\n",
    "        restaurant_details['Notes'].append('No Notes')\n",
    "    else:\n",
    "        restaurant_details['Notes'].append(info[2][7:])"
   ]
  },
  {
   "cell_type": "markdown",
   "id": "b6c6d6af",
   "metadata": {},
   "source": [
    "## DataFrame of Restaurants and Making Columns for Location + Cuisines"
   ]
  },
  {
   "cell_type": "code",
   "execution_count": 7,
   "id": "9458af0a",
   "metadata": {},
   "outputs": [
    {
     "data": {
      "text/html": [
       "<div>\n",
       "<style scoped>\n",
       "    .dataframe tbody tr th:only-of-type {\n",
       "        vertical-align: middle;\n",
       "    }\n",
       "\n",
       "    .dataframe tbody tr th {\n",
       "        vertical-align: top;\n",
       "    }\n",
       "\n",
       "    .dataframe thead th {\n",
       "        text-align: right;\n",
       "    }\n",
       "</style>\n",
       "<table border=\"1\" class=\"dataframe\">\n",
       "  <thead>\n",
       "    <tr style=\"text-align: right;\">\n",
       "      <th></th>\n",
       "      <th>Name</th>\n",
       "      <th>URL</th>\n",
       "      <th>Notes</th>\n",
       "    </tr>\n",
       "  </thead>\n",
       "  <tbody>\n",
       "    <tr>\n",
       "      <th>0</th>\n",
       "      <td>So Saap (Laotian, Thai in City Heights)</td>\n",
       "      <td>https://sosaap.com/?utm_source=google</td>\n",
       "      <td>i forgot wat spice level i ordered but it was ...</td>\n",
       "    </tr>\n",
       "    <tr>\n",
       "      <th>1</th>\n",
       "      <td>Kura Revolving Sushi Bar (Japanese, Sushi in K...</td>\n",
       "      <td>https://kurasushi.com/locations/sandiegocaconvoy/</td>\n",
       "      <td>i am in love. sushi was great. 10/10</td>\n",
       "    </tr>\n",
       "    <tr>\n",
       "      <th>2</th>\n",
       "      <td>Kura Revolving Sushi Bar (Japanese, Sushi)</td>\n",
       "      <td>https://kurasushi.com/locations/pleasantonca/</td>\n",
       "      <td>we ate good. i got snow crab this time, didnt ...</td>\n",
       "    </tr>\n",
       "    <tr>\n",
       "      <th>3</th>\n",
       "      <td>Sugar and Scribe (Bakery, Brunch in Village of...</td>\n",
       "      <td>https://www.sugarandscribe.com/</td>\n",
       "      <td>the shashuka was so good! hot chocolate was go...</td>\n",
       "    </tr>\n",
       "    <tr>\n",
       "      <th>4</th>\n",
       "      <td>Hako Sushi Box (Sushi, Japanese)</td>\n",
       "      <td>https://www.hakosushibox.com/</td>\n",
       "      <td>the box had three rolls and was decently price...</td>\n",
       "    </tr>\n",
       "    <tr>\n",
       "      <th>...</th>\n",
       "      <td>...</td>\n",
       "      <td>...</td>\n",
       "      <td>...</td>\n",
       "    </tr>\n",
       "    <tr>\n",
       "      <th>87</th>\n",
       "      <td>Menya Ultra UTC La Jolla (Ramen, Japanese in U...</td>\n",
       "      <td>https://menyaultra.com/</td>\n",
       "      <td>No Notes</td>\n",
       "    </tr>\n",
       "    <tr>\n",
       "      <th>88</th>\n",
       "      <td>Fortunate Son Chinese (Chinese in North Park)</td>\n",
       "      <td>http://www.fortunatesonchinese.com/</td>\n",
       "      <td>No Notes</td>\n",
       "    </tr>\n",
       "    <tr>\n",
       "      <th>89</th>\n",
       "      <td>The Taco Stand (Mexican, Tacos, Taqueria in Vi...</td>\n",
       "      <td>http://www.letstaco.com/</td>\n",
       "      <td>No Notes</td>\n",
       "    </tr>\n",
       "    <tr>\n",
       "      <th>90</th>\n",
       "      <td>The Melt (American in La Jolla)</td>\n",
       "      <td>http://www.themelt.com/</td>\n",
       "      <td>No Notes</td>\n",
       "    </tr>\n",
       "    <tr>\n",
       "      <th>91</th>\n",
       "      <td>Queenstown Bistro (New Zealand in University C...</td>\n",
       "      <td>https://www.queenstownbistro.com/</td>\n",
       "      <td>No Notes</td>\n",
       "    </tr>\n",
       "  </tbody>\n",
       "</table>\n",
       "<p>92 rows × 3 columns</p>\n",
       "</div>"
      ],
      "text/plain": [
       "                                                 Name  \\\n",
       "0             So Saap (Laotian, Thai in City Heights)   \n",
       "1   Kura Revolving Sushi Bar (Japanese, Sushi in K...   \n",
       "2          Kura Revolving Sushi Bar (Japanese, Sushi)   \n",
       "3   Sugar and Scribe (Bakery, Brunch in Village of...   \n",
       "4                    Hako Sushi Box (Sushi, Japanese)   \n",
       "..                                                ...   \n",
       "87  Menya Ultra UTC La Jolla (Ramen, Japanese in U...   \n",
       "88      Fortunate Son Chinese (Chinese in North Park)   \n",
       "89  The Taco Stand (Mexican, Tacos, Taqueria in Vi...   \n",
       "90                    The Melt (American in La Jolla)   \n",
       "91  Queenstown Bistro (New Zealand in University C...   \n",
       "\n",
       "                                                  URL  \\\n",
       "0               https://sosaap.com/?utm_source=google   \n",
       "1   https://kurasushi.com/locations/sandiegocaconvoy/   \n",
       "2       https://kurasushi.com/locations/pleasantonca/   \n",
       "3                     https://www.sugarandscribe.com/   \n",
       "4                       https://www.hakosushibox.com/   \n",
       "..                                                ...   \n",
       "87                            https://menyaultra.com/   \n",
       "88                http://www.fortunatesonchinese.com/   \n",
       "89                           http://www.letstaco.com/   \n",
       "90                            http://www.themelt.com/   \n",
       "91                  https://www.queenstownbistro.com/   \n",
       "\n",
       "                                                Notes  \n",
       "0   i forgot wat spice level i ordered but it was ...  \n",
       "1                i am in love. sushi was great. 10/10  \n",
       "2   we ate good. i got snow crab this time, didnt ...  \n",
       "3   the shashuka was so good! hot chocolate was go...  \n",
       "4   the box had three rolls and was decently price...  \n",
       "..                                                ...  \n",
       "87                                           No Notes  \n",
       "88                                           No Notes  \n",
       "89                                           No Notes  \n",
       "90                                           No Notes  \n",
       "91                                           No Notes  \n",
       "\n",
       "[92 rows x 3 columns]"
      ]
     },
     "execution_count": 7,
     "metadata": {},
     "output_type": "execute_result"
    }
   ],
   "source": [
    "df = pd.DataFrame(restaurant_details)\n",
    "df"
   ]
  },
  {
   "cell_type": "code",
   "execution_count": 8,
   "id": "cd82c66b",
   "metadata": {},
   "outputs": [],
   "source": [
    "def cuisines_details(val):\n",
    "    if '(' not in val:\n",
    "        cuisine = 'No Cuisine'\n",
    "    else:\n",
    "        detail = val[val.find(\"(\") + 1 : val.find(')')]\n",
    "        if detail.find(' in ') == -1:\n",
    "            cuisine = detail.split(', ')\n",
    "        else:\n",
    "            cuisine = detail[:detail.find(' in ')].strip().split(', ')\n",
    "        return cuisine"
   ]
  },
  {
   "cell_type": "code",
   "execution_count": 9,
   "id": "96ad3733",
   "metadata": {},
   "outputs": [],
   "source": [
    "def location_details(val):\n",
    "    detail = val[val.find(\"(\") + 1 : val.find(')')]\n",
    "    if detail.find(' in ') == -1:\n",
    "        location = 'No Detail'\n",
    "    else:\n",
    "        location = detail[detail.find(' in ') + 4: ].strip()\n",
    "    return location"
   ]
  },
  {
   "cell_type": "code",
   "execution_count": 10,
   "id": "91345451",
   "metadata": {},
   "outputs": [
    {
     "data": {
      "text/html": [
       "<div>\n",
       "<style scoped>\n",
       "    .dataframe tbody tr th:only-of-type {\n",
       "        vertical-align: middle;\n",
       "    }\n",
       "\n",
       "    .dataframe tbody tr th {\n",
       "        vertical-align: top;\n",
       "    }\n",
       "\n",
       "    .dataframe thead th {\n",
       "        text-align: right;\n",
       "    }\n",
       "</style>\n",
       "<table border=\"1\" class=\"dataframe\">\n",
       "  <thead>\n",
       "    <tr style=\"text-align: right;\">\n",
       "      <th></th>\n",
       "      <th>Name</th>\n",
       "      <th>URL</th>\n",
       "      <th>Notes</th>\n",
       "      <th>Cuisines</th>\n",
       "    </tr>\n",
       "  </thead>\n",
       "  <tbody>\n",
       "    <tr>\n",
       "      <th>0</th>\n",
       "      <td>So Saap (Laotian, Thai in City Heights)</td>\n",
       "      <td>https://sosaap.com/?utm_source=google</td>\n",
       "      <td>i forgot wat spice level i ordered but it was ...</td>\n",
       "      <td>[Laotian, Thai]</td>\n",
       "    </tr>\n",
       "    <tr>\n",
       "      <th>1</th>\n",
       "      <td>Kura Revolving Sushi Bar (Japanese, Sushi in K...</td>\n",
       "      <td>https://kurasushi.com/locations/sandiegocaconvoy/</td>\n",
       "      <td>i am in love. sushi was great. 10/10</td>\n",
       "      <td>[Japanese, Sushi]</td>\n",
       "    </tr>\n",
       "    <tr>\n",
       "      <th>2</th>\n",
       "      <td>Kura Revolving Sushi Bar (Japanese, Sushi)</td>\n",
       "      <td>https://kurasushi.com/locations/pleasantonca/</td>\n",
       "      <td>we ate good. i got snow crab this time, didnt ...</td>\n",
       "      <td>[Japanese, Sushi]</td>\n",
       "    </tr>\n",
       "    <tr>\n",
       "      <th>3</th>\n",
       "      <td>Sugar and Scribe (Bakery, Brunch in Village of...</td>\n",
       "      <td>https://www.sugarandscribe.com/</td>\n",
       "      <td>the shashuka was so good! hot chocolate was go...</td>\n",
       "      <td>[Bakery, Brunch]</td>\n",
       "    </tr>\n",
       "    <tr>\n",
       "      <th>4</th>\n",
       "      <td>Hako Sushi Box (Sushi, Japanese)</td>\n",
       "      <td>https://www.hakosushibox.com/</td>\n",
       "      <td>the box had three rolls and was decently price...</td>\n",
       "      <td>[Sushi, Japanese]</td>\n",
       "    </tr>\n",
       "    <tr>\n",
       "      <th>...</th>\n",
       "      <td>...</td>\n",
       "      <td>...</td>\n",
       "      <td>...</td>\n",
       "      <td>...</td>\n",
       "    </tr>\n",
       "    <tr>\n",
       "      <th>87</th>\n",
       "      <td>Menya Ultra UTC La Jolla (Ramen, Japanese in U...</td>\n",
       "      <td>https://menyaultra.com/</td>\n",
       "      <td>No Notes</td>\n",
       "      <td>[Ramen, Japanese]</td>\n",
       "    </tr>\n",
       "    <tr>\n",
       "      <th>88</th>\n",
       "      <td>Fortunate Son Chinese (Chinese in North Park)</td>\n",
       "      <td>http://www.fortunatesonchinese.com/</td>\n",
       "      <td>No Notes</td>\n",
       "      <td>[Chinese]</td>\n",
       "    </tr>\n",
       "    <tr>\n",
       "      <th>89</th>\n",
       "      <td>The Taco Stand (Mexican, Tacos, Taqueria in Vi...</td>\n",
       "      <td>http://www.letstaco.com/</td>\n",
       "      <td>No Notes</td>\n",
       "      <td>[Mexican, Tacos, Taqueria]</td>\n",
       "    </tr>\n",
       "    <tr>\n",
       "      <th>90</th>\n",
       "      <td>The Melt (American in La Jolla)</td>\n",
       "      <td>http://www.themelt.com/</td>\n",
       "      <td>No Notes</td>\n",
       "      <td>[American]</td>\n",
       "    </tr>\n",
       "    <tr>\n",
       "      <th>91</th>\n",
       "      <td>Queenstown Bistro (New Zealand in University C...</td>\n",
       "      <td>https://www.queenstownbistro.com/</td>\n",
       "      <td>No Notes</td>\n",
       "      <td>[New Zealand]</td>\n",
       "    </tr>\n",
       "  </tbody>\n",
       "</table>\n",
       "<p>92 rows × 4 columns</p>\n",
       "</div>"
      ],
      "text/plain": [
       "                                                 Name  \\\n",
       "0             So Saap (Laotian, Thai in City Heights)   \n",
       "1   Kura Revolving Sushi Bar (Japanese, Sushi in K...   \n",
       "2          Kura Revolving Sushi Bar (Japanese, Sushi)   \n",
       "3   Sugar and Scribe (Bakery, Brunch in Village of...   \n",
       "4                    Hako Sushi Box (Sushi, Japanese)   \n",
       "..                                                ...   \n",
       "87  Menya Ultra UTC La Jolla (Ramen, Japanese in U...   \n",
       "88      Fortunate Son Chinese (Chinese in North Park)   \n",
       "89  The Taco Stand (Mexican, Tacos, Taqueria in Vi...   \n",
       "90                    The Melt (American in La Jolla)   \n",
       "91  Queenstown Bistro (New Zealand in University C...   \n",
       "\n",
       "                                                  URL  \\\n",
       "0               https://sosaap.com/?utm_source=google   \n",
       "1   https://kurasushi.com/locations/sandiegocaconvoy/   \n",
       "2       https://kurasushi.com/locations/pleasantonca/   \n",
       "3                     https://www.sugarandscribe.com/   \n",
       "4                       https://www.hakosushibox.com/   \n",
       "..                                                ...   \n",
       "87                            https://menyaultra.com/   \n",
       "88                http://www.fortunatesonchinese.com/   \n",
       "89                           http://www.letstaco.com/   \n",
       "90                            http://www.themelt.com/   \n",
       "91                  https://www.queenstownbistro.com/   \n",
       "\n",
       "                                                Notes  \\\n",
       "0   i forgot wat spice level i ordered but it was ...   \n",
       "1                i am in love. sushi was great. 10/10   \n",
       "2   we ate good. i got snow crab this time, didnt ...   \n",
       "3   the shashuka was so good! hot chocolate was go...   \n",
       "4   the box had three rolls and was decently price...   \n",
       "..                                                ...   \n",
       "87                                           No Notes   \n",
       "88                                           No Notes   \n",
       "89                                           No Notes   \n",
       "90                                           No Notes   \n",
       "91                                           No Notes   \n",
       "\n",
       "                      Cuisines  \n",
       "0              [Laotian, Thai]  \n",
       "1            [Japanese, Sushi]  \n",
       "2            [Japanese, Sushi]  \n",
       "3             [Bakery, Brunch]  \n",
       "4            [Sushi, Japanese]  \n",
       "..                         ...  \n",
       "87           [Ramen, Japanese]  \n",
       "88                   [Chinese]  \n",
       "89  [Mexican, Tacos, Taqueria]  \n",
       "90                  [American]  \n",
       "91               [New Zealand]  \n",
       "\n",
       "[92 rows x 4 columns]"
      ]
     },
     "execution_count": 10,
     "metadata": {},
     "output_type": "execute_result"
    }
   ],
   "source": [
    "df['Cuisines'] = df['Name'].apply(cuisines_details)\n",
    "df"
   ]
  },
  {
   "cell_type": "code",
   "execution_count": 11,
   "id": "b987ad5a",
   "metadata": {},
   "outputs": [
    {
     "data": {
      "text/html": [
       "<div>\n",
       "<style scoped>\n",
       "    .dataframe tbody tr th:only-of-type {\n",
       "        vertical-align: middle;\n",
       "    }\n",
       "\n",
       "    .dataframe tbody tr th {\n",
       "        vertical-align: top;\n",
       "    }\n",
       "\n",
       "    .dataframe thead th {\n",
       "        text-align: right;\n",
       "    }\n",
       "</style>\n",
       "<table border=\"1\" class=\"dataframe\">\n",
       "  <thead>\n",
       "    <tr style=\"text-align: right;\">\n",
       "      <th></th>\n",
       "      <th>Name</th>\n",
       "      <th>URL</th>\n",
       "      <th>Notes</th>\n",
       "      <th>Cuisines</th>\n",
       "      <th>Location</th>\n",
       "    </tr>\n",
       "  </thead>\n",
       "  <tbody>\n",
       "    <tr>\n",
       "      <th>0</th>\n",
       "      <td>So Saap (Laotian, Thai in City Heights)</td>\n",
       "      <td>https://sosaap.com/?utm_source=google</td>\n",
       "      <td>i forgot wat spice level i ordered but it was ...</td>\n",
       "      <td>[Laotian, Thai]</td>\n",
       "      <td>City Heights</td>\n",
       "    </tr>\n",
       "    <tr>\n",
       "      <th>1</th>\n",
       "      <td>Kura Revolving Sushi Bar (Japanese, Sushi in K...</td>\n",
       "      <td>https://kurasushi.com/locations/sandiegocaconvoy/</td>\n",
       "      <td>i am in love. sushi was great. 10/10</td>\n",
       "      <td>[Japanese, Sushi]</td>\n",
       "      <td>Kearny Mesa</td>\n",
       "    </tr>\n",
       "    <tr>\n",
       "      <th>2</th>\n",
       "      <td>Kura Revolving Sushi Bar (Japanese, Sushi)</td>\n",
       "      <td>https://kurasushi.com/locations/pleasantonca/</td>\n",
       "      <td>we ate good. i got snow crab this time, didnt ...</td>\n",
       "      <td>[Japanese, Sushi]</td>\n",
       "      <td>No Detail</td>\n",
       "    </tr>\n",
       "    <tr>\n",
       "      <th>3</th>\n",
       "      <td>Sugar and Scribe (Bakery, Brunch in Village of...</td>\n",
       "      <td>https://www.sugarandscribe.com/</td>\n",
       "      <td>the shashuka was so good! hot chocolate was go...</td>\n",
       "      <td>[Bakery, Brunch]</td>\n",
       "      <td>Village of La Jolla</td>\n",
       "    </tr>\n",
       "    <tr>\n",
       "      <th>4</th>\n",
       "      <td>Hako Sushi Box (Sushi, Japanese)</td>\n",
       "      <td>https://www.hakosushibox.com/</td>\n",
       "      <td>the box had three rolls and was decently price...</td>\n",
       "      <td>[Sushi, Japanese]</td>\n",
       "      <td>No Detail</td>\n",
       "    </tr>\n",
       "    <tr>\n",
       "      <th>...</th>\n",
       "      <td>...</td>\n",
       "      <td>...</td>\n",
       "      <td>...</td>\n",
       "      <td>...</td>\n",
       "      <td>...</td>\n",
       "    </tr>\n",
       "    <tr>\n",
       "      <th>87</th>\n",
       "      <td>Menya Ultra UTC La Jolla (Ramen, Japanese in U...</td>\n",
       "      <td>https://menyaultra.com/</td>\n",
       "      <td>No Notes</td>\n",
       "      <td>[Ramen, Japanese]</td>\n",
       "      <td>University City</td>\n",
       "    </tr>\n",
       "    <tr>\n",
       "      <th>88</th>\n",
       "      <td>Fortunate Son Chinese (Chinese in North Park)</td>\n",
       "      <td>http://www.fortunatesonchinese.com/</td>\n",
       "      <td>No Notes</td>\n",
       "      <td>[Chinese]</td>\n",
       "      <td>North Park</td>\n",
       "    </tr>\n",
       "    <tr>\n",
       "      <th>89</th>\n",
       "      <td>The Taco Stand (Mexican, Tacos, Taqueria in Vi...</td>\n",
       "      <td>http://www.letstaco.com/</td>\n",
       "      <td>No Notes</td>\n",
       "      <td>[Mexican, Tacos, Taqueria]</td>\n",
       "      <td>Village of La Jolla</td>\n",
       "    </tr>\n",
       "    <tr>\n",
       "      <th>90</th>\n",
       "      <td>The Melt (American in La Jolla)</td>\n",
       "      <td>http://www.themelt.com/</td>\n",
       "      <td>No Notes</td>\n",
       "      <td>[American]</td>\n",
       "      <td>La Jolla</td>\n",
       "    </tr>\n",
       "    <tr>\n",
       "      <th>91</th>\n",
       "      <td>Queenstown Bistro (New Zealand in University C...</td>\n",
       "      <td>https://www.queenstownbistro.com/</td>\n",
       "      <td>No Notes</td>\n",
       "      <td>[New Zealand]</td>\n",
       "      <td>University City</td>\n",
       "    </tr>\n",
       "  </tbody>\n",
       "</table>\n",
       "<p>92 rows × 5 columns</p>\n",
       "</div>"
      ],
      "text/plain": [
       "                                                 Name  \\\n",
       "0             So Saap (Laotian, Thai in City Heights)   \n",
       "1   Kura Revolving Sushi Bar (Japanese, Sushi in K...   \n",
       "2          Kura Revolving Sushi Bar (Japanese, Sushi)   \n",
       "3   Sugar and Scribe (Bakery, Brunch in Village of...   \n",
       "4                    Hako Sushi Box (Sushi, Japanese)   \n",
       "..                                                ...   \n",
       "87  Menya Ultra UTC La Jolla (Ramen, Japanese in U...   \n",
       "88      Fortunate Son Chinese (Chinese in North Park)   \n",
       "89  The Taco Stand (Mexican, Tacos, Taqueria in Vi...   \n",
       "90                    The Melt (American in La Jolla)   \n",
       "91  Queenstown Bistro (New Zealand in University C...   \n",
       "\n",
       "                                                  URL  \\\n",
       "0               https://sosaap.com/?utm_source=google   \n",
       "1   https://kurasushi.com/locations/sandiegocaconvoy/   \n",
       "2       https://kurasushi.com/locations/pleasantonca/   \n",
       "3                     https://www.sugarandscribe.com/   \n",
       "4                       https://www.hakosushibox.com/   \n",
       "..                                                ...   \n",
       "87                            https://menyaultra.com/   \n",
       "88                http://www.fortunatesonchinese.com/   \n",
       "89                           http://www.letstaco.com/   \n",
       "90                            http://www.themelt.com/   \n",
       "91                  https://www.queenstownbistro.com/   \n",
       "\n",
       "                                                Notes  \\\n",
       "0   i forgot wat spice level i ordered but it was ...   \n",
       "1                i am in love. sushi was great. 10/10   \n",
       "2   we ate good. i got snow crab this time, didnt ...   \n",
       "3   the shashuka was so good! hot chocolate was go...   \n",
       "4   the box had three rolls and was decently price...   \n",
       "..                                                ...   \n",
       "87                                           No Notes   \n",
       "88                                           No Notes   \n",
       "89                                           No Notes   \n",
       "90                                           No Notes   \n",
       "91                                           No Notes   \n",
       "\n",
       "                      Cuisines             Location  \n",
       "0              [Laotian, Thai]         City Heights  \n",
       "1            [Japanese, Sushi]          Kearny Mesa  \n",
       "2            [Japanese, Sushi]            No Detail  \n",
       "3             [Bakery, Brunch]  Village of La Jolla  \n",
       "4            [Sushi, Japanese]            No Detail  \n",
       "..                         ...                  ...  \n",
       "87           [Ramen, Japanese]      University City  \n",
       "88                   [Chinese]           North Park  \n",
       "89  [Mexican, Tacos, Taqueria]  Village of La Jolla  \n",
       "90                  [American]             La Jolla  \n",
       "91               [New Zealand]      University City  \n",
       "\n",
       "[92 rows x 5 columns]"
      ]
     },
     "execution_count": 11,
     "metadata": {},
     "output_type": "execute_result"
    }
   ],
   "source": [
    "df['Location'] = df['Name'].apply(location_details)\n",
    "df"
   ]
  },
  {
   "cell_type": "code",
   "execution_count": 12,
   "id": "cff16352",
   "metadata": {},
   "outputs": [
    {
     "data": {
      "text/html": [
       "<div>\n",
       "<style scoped>\n",
       "    .dataframe tbody tr th:only-of-type {\n",
       "        vertical-align: middle;\n",
       "    }\n",
       "\n",
       "    .dataframe tbody tr th {\n",
       "        vertical-align: top;\n",
       "    }\n",
       "\n",
       "    .dataframe thead th {\n",
       "        text-align: right;\n",
       "    }\n",
       "</style>\n",
       "<table border=\"1\" class=\"dataframe\">\n",
       "  <thead>\n",
       "    <tr style=\"text-align: right;\">\n",
       "      <th></th>\n",
       "      <th>Name</th>\n",
       "      <th>URL</th>\n",
       "      <th>Notes</th>\n",
       "      <th>Cuisines</th>\n",
       "      <th>Location</th>\n",
       "    </tr>\n",
       "  </thead>\n",
       "  <tbody>\n",
       "    <tr>\n",
       "      <th>0</th>\n",
       "      <td>So Saap</td>\n",
       "      <td>https://sosaap.com/?utm_source=google</td>\n",
       "      <td>i forgot wat spice level i ordered but it was ...</td>\n",
       "      <td>[Laotian, Thai]</td>\n",
       "      <td>City Heights</td>\n",
       "    </tr>\n",
       "    <tr>\n",
       "      <th>1</th>\n",
       "      <td>Kura Revolving Sushi Bar</td>\n",
       "      <td>https://kurasushi.com/locations/sandiegocaconvoy/</td>\n",
       "      <td>i am in love. sushi was great. 10/10</td>\n",
       "      <td>[Japanese, Sushi]</td>\n",
       "      <td>Kearny Mesa</td>\n",
       "    </tr>\n",
       "    <tr>\n",
       "      <th>2</th>\n",
       "      <td>Kura Revolving Sushi Bar</td>\n",
       "      <td>https://kurasushi.com/locations/pleasantonca/</td>\n",
       "      <td>we ate good. i got snow crab this time, didnt ...</td>\n",
       "      <td>[Japanese, Sushi]</td>\n",
       "      <td>No Detail</td>\n",
       "    </tr>\n",
       "    <tr>\n",
       "      <th>3</th>\n",
       "      <td>Sugar and Scribe</td>\n",
       "      <td>https://www.sugarandscribe.com/</td>\n",
       "      <td>the shashuka was so good! hot chocolate was go...</td>\n",
       "      <td>[Bakery, Brunch]</td>\n",
       "      <td>Village of La Jolla</td>\n",
       "    </tr>\n",
       "    <tr>\n",
       "      <th>4</th>\n",
       "      <td>Hako Sushi Box</td>\n",
       "      <td>https://www.hakosushibox.com/</td>\n",
       "      <td>the box had three rolls and was decently price...</td>\n",
       "      <td>[Sushi, Japanese]</td>\n",
       "      <td>No Detail</td>\n",
       "    </tr>\n",
       "    <tr>\n",
       "      <th>...</th>\n",
       "      <td>...</td>\n",
       "      <td>...</td>\n",
       "      <td>...</td>\n",
       "      <td>...</td>\n",
       "      <td>...</td>\n",
       "    </tr>\n",
       "    <tr>\n",
       "      <th>87</th>\n",
       "      <td>Menya Ultra UTC La Jolla</td>\n",
       "      <td>https://menyaultra.com/</td>\n",
       "      <td>No Notes</td>\n",
       "      <td>[Ramen, Japanese]</td>\n",
       "      <td>University City</td>\n",
       "    </tr>\n",
       "    <tr>\n",
       "      <th>88</th>\n",
       "      <td>Fortunate Son Chinese</td>\n",
       "      <td>http://www.fortunatesonchinese.com/</td>\n",
       "      <td>No Notes</td>\n",
       "      <td>[Chinese]</td>\n",
       "      <td>North Park</td>\n",
       "    </tr>\n",
       "    <tr>\n",
       "      <th>89</th>\n",
       "      <td>The Taco Stand</td>\n",
       "      <td>http://www.letstaco.com/</td>\n",
       "      <td>No Notes</td>\n",
       "      <td>[Mexican, Tacos, Taqueria]</td>\n",
       "      <td>Village of La Jolla</td>\n",
       "    </tr>\n",
       "    <tr>\n",
       "      <th>90</th>\n",
       "      <td>The Melt</td>\n",
       "      <td>http://www.themelt.com/</td>\n",
       "      <td>No Notes</td>\n",
       "      <td>[American]</td>\n",
       "      <td>La Jolla</td>\n",
       "    </tr>\n",
       "    <tr>\n",
       "      <th>91</th>\n",
       "      <td>Queenstown Bistro</td>\n",
       "      <td>https://www.queenstownbistro.com/</td>\n",
       "      <td>No Notes</td>\n",
       "      <td>[New Zealand]</td>\n",
       "      <td>University City</td>\n",
       "    </tr>\n",
       "  </tbody>\n",
       "</table>\n",
       "<p>92 rows × 5 columns</p>\n",
       "</div>"
      ],
      "text/plain": [
       "                        Name  \\\n",
       "0                    So Saap   \n",
       "1   Kura Revolving Sushi Bar   \n",
       "2   Kura Revolving Sushi Bar   \n",
       "3           Sugar and Scribe   \n",
       "4             Hako Sushi Box   \n",
       "..                       ...   \n",
       "87  Menya Ultra UTC La Jolla   \n",
       "88     Fortunate Son Chinese   \n",
       "89            The Taco Stand   \n",
       "90                  The Melt   \n",
       "91         Queenstown Bistro   \n",
       "\n",
       "                                                  URL  \\\n",
       "0               https://sosaap.com/?utm_source=google   \n",
       "1   https://kurasushi.com/locations/sandiegocaconvoy/   \n",
       "2       https://kurasushi.com/locations/pleasantonca/   \n",
       "3                     https://www.sugarandscribe.com/   \n",
       "4                       https://www.hakosushibox.com/   \n",
       "..                                                ...   \n",
       "87                            https://menyaultra.com/   \n",
       "88                http://www.fortunatesonchinese.com/   \n",
       "89                           http://www.letstaco.com/   \n",
       "90                            http://www.themelt.com/   \n",
       "91                  https://www.queenstownbistro.com/   \n",
       "\n",
       "                                                Notes  \\\n",
       "0   i forgot wat spice level i ordered but it was ...   \n",
       "1                i am in love. sushi was great. 10/10   \n",
       "2   we ate good. i got snow crab this time, didnt ...   \n",
       "3   the shashuka was so good! hot chocolate was go...   \n",
       "4   the box had three rolls and was decently price...   \n",
       "..                                                ...   \n",
       "87                                           No Notes   \n",
       "88                                           No Notes   \n",
       "89                                           No Notes   \n",
       "90                                           No Notes   \n",
       "91                                           No Notes   \n",
       "\n",
       "                      Cuisines             Location  \n",
       "0              [Laotian, Thai]         City Heights  \n",
       "1            [Japanese, Sushi]          Kearny Mesa  \n",
       "2            [Japanese, Sushi]            No Detail  \n",
       "3             [Bakery, Brunch]  Village of La Jolla  \n",
       "4            [Sushi, Japanese]            No Detail  \n",
       "..                         ...                  ...  \n",
       "87           [Ramen, Japanese]      University City  \n",
       "88                   [Chinese]           North Park  \n",
       "89  [Mexican, Tacos, Taqueria]  Village of La Jolla  \n",
       "90                  [American]             La Jolla  \n",
       "91               [New Zealand]      University City  \n",
       "\n",
       "[92 rows x 5 columns]"
      ]
     },
     "execution_count": 12,
     "metadata": {},
     "output_type": "execute_result"
    }
   ],
   "source": [
    "df['Name'] = df['Name'].str.split(r'\\((.*)\\)').str[0].str.strip()\n",
    "df"
   ]
  },
  {
   "cell_type": "code",
   "execution_count": 13,
   "id": "eff89b81",
   "metadata": {},
   "outputs": [],
   "source": [
    "missing_locations = df[df['Location'] == 'No Detail'].index.tolist()"
   ]
  },
  {
   "cell_type": "code",
   "execution_count": 14,
   "id": "1e937955",
   "metadata": {},
   "outputs": [
    {
     "data": {
      "text/html": [
       "<div>\n",
       "<style scoped>\n",
       "    .dataframe tbody tr th:only-of-type {\n",
       "        vertical-align: middle;\n",
       "    }\n",
       "\n",
       "    .dataframe tbody tr th {\n",
       "        vertical-align: top;\n",
       "    }\n",
       "\n",
       "    .dataframe thead th {\n",
       "        text-align: right;\n",
       "    }\n",
       "</style>\n",
       "<table border=\"1\" class=\"dataframe\">\n",
       "  <thead>\n",
       "    <tr style=\"text-align: right;\">\n",
       "      <th></th>\n",
       "      <th>Name</th>\n",
       "      <th>URL</th>\n",
       "      <th>Notes</th>\n",
       "      <th>Cuisines</th>\n",
       "      <th>Location</th>\n",
       "    </tr>\n",
       "  </thead>\n",
       "  <tbody>\n",
       "    <tr>\n",
       "      <th>2</th>\n",
       "      <td>Kura Revolving Sushi Bar</td>\n",
       "      <td>https://kurasushi.com/locations/pleasantonca/</td>\n",
       "      <td>we ate good. i got snow crab this time, didnt ...</td>\n",
       "      <td>[Japanese, Sushi]</td>\n",
       "      <td>No Detail</td>\n",
       "    </tr>\n",
       "    <tr>\n",
       "      <th>4</th>\n",
       "      <td>Hako Sushi Box</td>\n",
       "      <td>https://www.hakosushibox.com/</td>\n",
       "      <td>the box had three rolls and was decently price...</td>\n",
       "      <td>[Sushi, Japanese]</td>\n",
       "      <td>No Detail</td>\n",
       "    </tr>\n",
       "    <tr>\n",
       "      <th>24</th>\n",
       "      <td>Manny's Kitchen</td>\n",
       "      <td>Notes: (if i remember correctly) ordered fish ...</td>\n",
       "      <td>No Notes</td>\n",
       "      <td>[Mexican]</td>\n",
       "      <td>No Detail</td>\n",
       "    </tr>\n",
       "    <tr>\n",
       "      <th>31</th>\n",
       "      <td>Micheline's Pita House</td>\n",
       "      <td>https://www.pitahousesd.com/</td>\n",
       "      <td>No Notes</td>\n",
       "      <td>[La Jolla]</td>\n",
       "      <td>No Detail</td>\n",
       "    </tr>\n",
       "    <tr>\n",
       "      <th>33</th>\n",
       "      <td>Country Waffles</td>\n",
       "      <td>https://www.countrywaffleseastbay.com/</td>\n",
       "      <td>had a fire omelette. i ate that shit. yum</td>\n",
       "      <td>[American]</td>\n",
       "      <td>No Detail</td>\n",
       "    </tr>\n",
       "    <tr>\n",
       "      <th>38</th>\n",
       "      <td>Stratford Court Cafe</td>\n",
       "      <td>https://www.stratfordcourtcafe.com/</td>\n",
       "      <td>No Notes</td>\n",
       "      <td>[Cafe]</td>\n",
       "      <td>No Detail</td>\n",
       "    </tr>\n",
       "    <tr>\n",
       "      <th>39</th>\n",
       "      <td>Miguel's Cocina</td>\n",
       "      <td>http://www.miguelscocina.com/</td>\n",
       "      <td>No Notes</td>\n",
       "      <td>[Mexican]</td>\n",
       "      <td>No Detail</td>\n",
       "    </tr>\n",
       "    <tr>\n",
       "      <th>41</th>\n",
       "      <td>Curry Pizza House Dublin</td>\n",
       "      <td>http://www.currypizzahouse.com/</td>\n",
       "      <td>i love having pizza from here. the flavors are...</td>\n",
       "      <td>[Pizza]</td>\n",
       "      <td>No Detail</td>\n",
       "    </tr>\n",
       "    <tr>\n",
       "      <th>45</th>\n",
       "      <td>Monica's Livermore</td>\n",
       "      <td>https://www.monicaslivermore.com/</td>\n",
       "      <td>was so good, the hollandaise sauce was somethi...</td>\n",
       "      <td>[Breakfast]</td>\n",
       "      <td>No Detail</td>\n",
       "    </tr>\n",
       "    <tr>\n",
       "      <th>51</th>\n",
       "      <td>Hint of Desi</td>\n",
       "      <td>https://hintofdesi.com/</td>\n",
       "      <td>i had the chicken egg kathi roll. the meal was...</td>\n",
       "      <td>None</td>\n",
       "      <td>No Detail</td>\n",
       "    </tr>\n",
       "    <tr>\n",
       "      <th>52</th>\n",
       "      <td>Sultan's Kebab</td>\n",
       "      <td>https://www.sultanskebab.net/</td>\n",
       "      <td>my go to place in pleasanton. sadly, doesn’t h...</td>\n",
       "      <td>[Kebab, Mediterranean]</td>\n",
       "      <td>No Detail</td>\n",
       "    </tr>\n",
       "    <tr>\n",
       "      <th>59</th>\n",
       "      <td>Taka</td>\n",
       "      <td>http://www.takaorder.com/</td>\n",
       "      <td>i have memory of a goldfish (not rlly i ate th...</td>\n",
       "      <td>[Sushi ,Grill and Chinese Cuisine]</td>\n",
       "      <td>No Detail</td>\n",
       "    </tr>\n",
       "    <tr>\n",
       "      <th>66</th>\n",
       "      <td>ULU Ocean Grill</td>\n",
       "      <td>https://www.fourseasons.com/hualalai/dining/re...</td>\n",
       "      <td>i love eating fishsalmon and bagel good. i don...</td>\n",
       "      <td>[Hawaiian]</td>\n",
       "      <td>No Detail</td>\n",
       "    </tr>\n",
       "    <tr>\n",
       "      <th>69</th>\n",
       "      <td>Ramen 101</td>\n",
       "      <td>http://www.ramen101online.com/</td>\n",
       "      <td>i had ramen from here like 6 years ago. it was...</td>\n",
       "      <td>[Ramen]</td>\n",
       "      <td>No Detail</td>\n",
       "    </tr>\n",
       "    <tr>\n",
       "      <th>77</th>\n",
       "      <td>Earl and Rosie's Seafood Place</td>\n",
       "      <td>Notes: fish and chips were decent. i think it ...</td>\n",
       "      <td>No Notes</td>\n",
       "      <td>[Seafood]</td>\n",
       "      <td>No Detail</td>\n",
       "    </tr>\n",
       "    <tr>\n",
       "      <th>78</th>\n",
       "      <td>Delarosa</td>\n",
       "      <td>https://www.delarosasf.com/location/bishopranch/</td>\n",
       "      <td>i don’t remember wat i got, i think it was som...</td>\n",
       "      <td>[Italian, Pizza]</td>\n",
       "      <td>No Detail</td>\n",
       "    </tr>\n",
       "    <tr>\n",
       "      <th>79</th>\n",
       "      <td>Chili's Grill &amp; Bar</td>\n",
       "      <td>https://www.chilis.com/locations/us/california...</td>\n",
       "      <td>got the triple dipper mozzarella sticks. i lik...</td>\n",
       "      <td>[American]</td>\n",
       "      <td>No Detail</td>\n",
       "    </tr>\n",
       "    <tr>\n",
       "      <th>81</th>\n",
       "      <td>Deccan Morsels Pleasanton</td>\n",
       "      <td>http://www.deccanmorsels.com/</td>\n",
       "      <td>guys i had onion samosas. 4.99 for 5 which is ...</td>\n",
       "      <td>None</td>\n",
       "      <td>No Detail</td>\n",
       "    </tr>\n",
       "    <tr>\n",
       "      <th>82</th>\n",
       "      <td>Peacock Indian Cuisine</td>\n",
       "      <td>https://peacockdublin.com/</td>\n",
       "      <td>No Notes</td>\n",
       "      <td>[Indian]</td>\n",
       "      <td>No Detail</td>\n",
       "    </tr>\n",
       "    <tr>\n",
       "      <th>83</th>\n",
       "      <td>Toast Cafe &amp; Grill</td>\n",
       "      <td>http://toastcafeandgrill.com/</td>\n",
       "      <td>it was decent. i had a california omelette and...</td>\n",
       "      <td>[Brunch, American]</td>\n",
       "      <td>No Detail</td>\n",
       "    </tr>\n",
       "    <tr>\n",
       "      <th>86</th>\n",
       "      <td>Denny's</td>\n",
       "      <td>https://locations.dennys.com/CA/LIVERMORE/9622...</td>\n",
       "      <td>got southwestern benny. was okay nothing like ...</td>\n",
       "      <td>[American]</td>\n",
       "      <td>No Detail</td>\n",
       "    </tr>\n",
       "  </tbody>\n",
       "</table>\n",
       "</div>"
      ],
      "text/plain": [
       "                              Name  \\\n",
       "2         Kura Revolving Sushi Bar   \n",
       "4                   Hako Sushi Box   \n",
       "24                 Manny's Kitchen   \n",
       "31          Micheline's Pita House   \n",
       "33                 Country Waffles   \n",
       "38            Stratford Court Cafe   \n",
       "39                 Miguel's Cocina   \n",
       "41        Curry Pizza House Dublin   \n",
       "45              Monica's Livermore   \n",
       "51                    Hint of Desi   \n",
       "52                  Sultan's Kebab   \n",
       "59                            Taka   \n",
       "66                 ULU Ocean Grill   \n",
       "69                       Ramen 101   \n",
       "77  Earl and Rosie's Seafood Place   \n",
       "78                        Delarosa   \n",
       "79             Chili's Grill & Bar   \n",
       "81       Deccan Morsels Pleasanton   \n",
       "82          Peacock Indian Cuisine   \n",
       "83              Toast Cafe & Grill   \n",
       "86                         Denny's   \n",
       "\n",
       "                                                  URL  \\\n",
       "2       https://kurasushi.com/locations/pleasantonca/   \n",
       "4                       https://www.hakosushibox.com/   \n",
       "24  Notes: (if i remember correctly) ordered fish ...   \n",
       "31                       https://www.pitahousesd.com/   \n",
       "33             https://www.countrywaffleseastbay.com/   \n",
       "38                https://www.stratfordcourtcafe.com/   \n",
       "39                      http://www.miguelscocina.com/   \n",
       "41                    http://www.currypizzahouse.com/   \n",
       "45                  https://www.monicaslivermore.com/   \n",
       "51                            https://hintofdesi.com/   \n",
       "52                      https://www.sultanskebab.net/   \n",
       "59                          http://www.takaorder.com/   \n",
       "66  https://www.fourseasons.com/hualalai/dining/re...   \n",
       "69                     http://www.ramen101online.com/   \n",
       "77  Notes: fish and chips were decent. i think it ...   \n",
       "78   https://www.delarosasf.com/location/bishopranch/   \n",
       "79  https://www.chilis.com/locations/us/california...   \n",
       "81                      http://www.deccanmorsels.com/   \n",
       "82                         https://peacockdublin.com/   \n",
       "83                      http://toastcafeandgrill.com/   \n",
       "86  https://locations.dennys.com/CA/LIVERMORE/9622...   \n",
       "\n",
       "                                                Notes  \\\n",
       "2   we ate good. i got snow crab this time, didnt ...   \n",
       "4   the box had three rolls and was decently price...   \n",
       "24                                           No Notes   \n",
       "31                                           No Notes   \n",
       "33          had a fire omelette. i ate that shit. yum   \n",
       "38                                           No Notes   \n",
       "39                                           No Notes   \n",
       "41  i love having pizza from here. the flavors are...   \n",
       "45  was so good, the hollandaise sauce was somethi...   \n",
       "51  i had the chicken egg kathi roll. the meal was...   \n",
       "52  my go to place in pleasanton. sadly, doesn’t h...   \n",
       "59  i have memory of a goldfish (not rlly i ate th...   \n",
       "66  i love eating fishsalmon and bagel good. i don...   \n",
       "69  i had ramen from here like 6 years ago. it was...   \n",
       "77                                           No Notes   \n",
       "78  i don’t remember wat i got, i think it was som...   \n",
       "79  got the triple dipper mozzarella sticks. i lik...   \n",
       "81  guys i had onion samosas. 4.99 for 5 which is ...   \n",
       "82                                           No Notes   \n",
       "83  it was decent. i had a california omelette and...   \n",
       "86  got southwestern benny. was okay nothing like ...   \n",
       "\n",
       "                              Cuisines   Location  \n",
       "2                    [Japanese, Sushi]  No Detail  \n",
       "4                    [Sushi, Japanese]  No Detail  \n",
       "24                           [Mexican]  No Detail  \n",
       "31                          [La Jolla]  No Detail  \n",
       "33                          [American]  No Detail  \n",
       "38                              [Cafe]  No Detail  \n",
       "39                           [Mexican]  No Detail  \n",
       "41                             [Pizza]  No Detail  \n",
       "45                         [Breakfast]  No Detail  \n",
       "51                                None  No Detail  \n",
       "52              [Kebab, Mediterranean]  No Detail  \n",
       "59  [Sushi ,Grill and Chinese Cuisine]  No Detail  \n",
       "66                          [Hawaiian]  No Detail  \n",
       "69                             [Ramen]  No Detail  \n",
       "77                           [Seafood]  No Detail  \n",
       "78                    [Italian, Pizza]  No Detail  \n",
       "79                          [American]  No Detail  \n",
       "81                                None  No Detail  \n",
       "82                            [Indian]  No Detail  \n",
       "83                  [Brunch, American]  No Detail  \n",
       "86                          [American]  No Detail  "
      ]
     },
     "execution_count": 14,
     "metadata": {},
     "output_type": "execute_result"
    }
   ],
   "source": [
    "df[df['Location'] == 'No Detail']"
   ]
  },
  {
   "cell_type": "code",
   "execution_count": 15,
   "id": "3001a8c2",
   "metadata": {},
   "outputs": [],
   "source": [
    "df['Location'].iloc[2] = 'Pleasanton'\n",
    "df['Location'].iloc[4] = 'Chula Vista'\n",
    "df['Location'].iloc[24] = 'Captain Cook'\n",
    "df['Location'].iloc[31] = 'La Jolla'\n",
    "df['Location'].iloc[33] = 'Dublin'\n",
    "df['Location'].iloc[38] = 'Del Mar'\n",
    "df['Location'].iloc[39] = 'San Diego'\n",
    "df['Location'].iloc[41] = 'Dublin'\n",
    "df['Location'].iloc[45] = 'Livermore'\n",
    "df['Location'].iloc[51] = 'Food Truck'\n",
    "df['Location'].iloc[52] = 'Pleasanton'\n",
    "df['Location'].iloc[59] = 'Kailua-Kona'\n",
    "df['Location'].iloc[66] = 'Kailua-Kona'\n",
    "df['Location'].iloc[69] = 'Pleasanton'\n",
    "df['Location'].iloc[77] = 'Avalon'\n",
    "df['Location'].iloc[78] = 'San Ramon'\n",
    "df['Location'].iloc[79] = 'Pleasanton'\n",
    "df['Location'].iloc[81] = 'Pleasanton'\n",
    "df['Location'].iloc[82] = 'Dublin'\n",
    "df['Location'].iloc[83] = 'Pleasanton'\n",
    "df['Location'].iloc[86] = 'Livermore'"
   ]
  },
  {
   "cell_type": "code",
   "execution_count": 16,
   "id": "2a8a36d2",
   "metadata": {},
   "outputs": [
    {
     "data": {
      "text/html": [
       "<div>\n",
       "<style scoped>\n",
       "    .dataframe tbody tr th:only-of-type {\n",
       "        vertical-align: middle;\n",
       "    }\n",
       "\n",
       "    .dataframe tbody tr th {\n",
       "        vertical-align: top;\n",
       "    }\n",
       "\n",
       "    .dataframe thead th {\n",
       "        text-align: right;\n",
       "    }\n",
       "</style>\n",
       "<table border=\"1\" class=\"dataframe\">\n",
       "  <thead>\n",
       "    <tr style=\"text-align: right;\">\n",
       "      <th></th>\n",
       "      <th>Name</th>\n",
       "      <th>URL</th>\n",
       "      <th>Notes</th>\n",
       "      <th>Cuisines</th>\n",
       "      <th>Location</th>\n",
       "      <th>Ratings</th>\n",
       "    </tr>\n",
       "  </thead>\n",
       "  <tbody>\n",
       "    <tr>\n",
       "      <th>0</th>\n",
       "      <td>So Saap</td>\n",
       "      <td>https://sosaap.com/?utm_source=google</td>\n",
       "      <td>i forgot wat spice level i ordered but it was ...</td>\n",
       "      <td>[Laotian, Thai]</td>\n",
       "      <td>City Heights</td>\n",
       "      <td>None</td>\n",
       "    </tr>\n",
       "    <tr>\n",
       "      <th>1</th>\n",
       "      <td>Kura Revolving Sushi Bar</td>\n",
       "      <td>https://kurasushi.com/locations/sandiegocaconvoy/</td>\n",
       "      <td>i am in love. sushi was great. 10/10</td>\n",
       "      <td>[Japanese, Sushi]</td>\n",
       "      <td>Kearny Mesa</td>\n",
       "      <td>None</td>\n",
       "    </tr>\n",
       "    <tr>\n",
       "      <th>2</th>\n",
       "      <td>Kura Revolving Sushi Bar</td>\n",
       "      <td>https://kurasushi.com/locations/pleasantonca/</td>\n",
       "      <td>we ate good. i got snow crab this time, didnt ...</td>\n",
       "      <td>[Japanese, Sushi]</td>\n",
       "      <td>Pleasanton</td>\n",
       "      <td>None</td>\n",
       "    </tr>\n",
       "    <tr>\n",
       "      <th>3</th>\n",
       "      <td>Sugar and Scribe</td>\n",
       "      <td>https://www.sugarandscribe.com/</td>\n",
       "      <td>the shashuka was so good! hot chocolate was go...</td>\n",
       "      <td>[Bakery, Brunch]</td>\n",
       "      <td>Village of La Jolla</td>\n",
       "      <td>None</td>\n",
       "    </tr>\n",
       "    <tr>\n",
       "      <th>4</th>\n",
       "      <td>Hako Sushi Box</td>\n",
       "      <td>https://www.hakosushibox.com/</td>\n",
       "      <td>the box had three rolls and was decently price...</td>\n",
       "      <td>[Sushi, Japanese]</td>\n",
       "      <td>Chula Vista</td>\n",
       "      <td>None</td>\n",
       "    </tr>\n",
       "    <tr>\n",
       "      <th>...</th>\n",
       "      <td>...</td>\n",
       "      <td>...</td>\n",
       "      <td>...</td>\n",
       "      <td>...</td>\n",
       "      <td>...</td>\n",
       "      <td>...</td>\n",
       "    </tr>\n",
       "    <tr>\n",
       "      <th>87</th>\n",
       "      <td>Menya Ultra UTC La Jolla</td>\n",
       "      <td>https://menyaultra.com/</td>\n",
       "      <td>No Notes</td>\n",
       "      <td>[Ramen, Japanese]</td>\n",
       "      <td>University City</td>\n",
       "      <td>None</td>\n",
       "    </tr>\n",
       "    <tr>\n",
       "      <th>88</th>\n",
       "      <td>Fortunate Son Chinese</td>\n",
       "      <td>http://www.fortunatesonchinese.com/</td>\n",
       "      <td>No Notes</td>\n",
       "      <td>[Chinese]</td>\n",
       "      <td>North Park</td>\n",
       "      <td>None</td>\n",
       "    </tr>\n",
       "    <tr>\n",
       "      <th>89</th>\n",
       "      <td>The Taco Stand</td>\n",
       "      <td>http://www.letstaco.com/</td>\n",
       "      <td>No Notes</td>\n",
       "      <td>[Mexican, Tacos, Taqueria]</td>\n",
       "      <td>Village of La Jolla</td>\n",
       "      <td>None</td>\n",
       "    </tr>\n",
       "    <tr>\n",
       "      <th>90</th>\n",
       "      <td>The Melt</td>\n",
       "      <td>http://www.themelt.com/</td>\n",
       "      <td>No Notes</td>\n",
       "      <td>[American]</td>\n",
       "      <td>La Jolla</td>\n",
       "      <td>None</td>\n",
       "    </tr>\n",
       "    <tr>\n",
       "      <th>91</th>\n",
       "      <td>Queenstown Bistro</td>\n",
       "      <td>https://www.queenstownbistro.com/</td>\n",
       "      <td>No Notes</td>\n",
       "      <td>[New Zealand]</td>\n",
       "      <td>University City</td>\n",
       "      <td>None</td>\n",
       "    </tr>\n",
       "  </tbody>\n",
       "</table>\n",
       "<p>92 rows × 6 columns</p>\n",
       "</div>"
      ],
      "text/plain": [
       "                        Name  \\\n",
       "0                    So Saap   \n",
       "1   Kura Revolving Sushi Bar   \n",
       "2   Kura Revolving Sushi Bar   \n",
       "3           Sugar and Scribe   \n",
       "4             Hako Sushi Box   \n",
       "..                       ...   \n",
       "87  Menya Ultra UTC La Jolla   \n",
       "88     Fortunate Son Chinese   \n",
       "89            The Taco Stand   \n",
       "90                  The Melt   \n",
       "91         Queenstown Bistro   \n",
       "\n",
       "                                                  URL  \\\n",
       "0               https://sosaap.com/?utm_source=google   \n",
       "1   https://kurasushi.com/locations/sandiegocaconvoy/   \n",
       "2       https://kurasushi.com/locations/pleasantonca/   \n",
       "3                     https://www.sugarandscribe.com/   \n",
       "4                       https://www.hakosushibox.com/   \n",
       "..                                                ...   \n",
       "87                            https://menyaultra.com/   \n",
       "88                http://www.fortunatesonchinese.com/   \n",
       "89                           http://www.letstaco.com/   \n",
       "90                            http://www.themelt.com/   \n",
       "91                  https://www.queenstownbistro.com/   \n",
       "\n",
       "                                                Notes  \\\n",
       "0   i forgot wat spice level i ordered but it was ...   \n",
       "1                i am in love. sushi was great. 10/10   \n",
       "2   we ate good. i got snow crab this time, didnt ...   \n",
       "3   the shashuka was so good! hot chocolate was go...   \n",
       "4   the box had three rolls and was decently price...   \n",
       "..                                                ...   \n",
       "87                                           No Notes   \n",
       "88                                           No Notes   \n",
       "89                                           No Notes   \n",
       "90                                           No Notes   \n",
       "91                                           No Notes   \n",
       "\n",
       "                      Cuisines             Location Ratings  \n",
       "0              [Laotian, Thai]         City Heights    None  \n",
       "1            [Japanese, Sushi]          Kearny Mesa    None  \n",
       "2            [Japanese, Sushi]           Pleasanton    None  \n",
       "3             [Bakery, Brunch]  Village of La Jolla    None  \n",
       "4            [Sushi, Japanese]          Chula Vista    None  \n",
       "..                         ...                  ...     ...  \n",
       "87           [Ramen, Japanese]      University City    None  \n",
       "88                   [Chinese]           North Park    None  \n",
       "89  [Mexican, Tacos, Taqueria]  Village of La Jolla    None  \n",
       "90                  [American]             La Jolla    None  \n",
       "91               [New Zealand]      University City    None  \n",
       "\n",
       "[92 rows x 6 columns]"
      ]
     },
     "execution_count": 16,
     "metadata": {},
     "output_type": "execute_result"
    }
   ],
   "source": [
    "df['Ratings'] = None\n",
    "df"
   ]
  },
  {
   "cell_type": "code",
   "execution_count": 17,
   "id": "ce15afb0",
   "metadata": {},
   "outputs": [],
   "source": [
    "df.loc[0:2, 'Ratings'] = 10.0\n",
    "df.loc[3:6, 'Ratings'] = 9.9\n",
    "df.loc[7:14, 'Ratings'] = 9.7\n",
    "df.loc[14, 'Ratings'] = 9.5\n",
    "df.loc[15:17, 'Ratings'] = 9.4\n",
    "df.loc[17:20, 'Ratings'] = 9.3\n",
    "df.loc[20:33, 'Ratings'] = 9.2\n",
    "df.loc[33:35, 'Ratings'] = 8.7\n",
    "df.loc[35:39, 'Ratings'] = 8.6\n",
    "df.loc[39, 'Ratings'] = 8.5\n",
    "df.loc[40:44, 'Ratings'] = 8.4\n",
    "df.loc[44:46, 'Ratings'] = 8.3\n",
    "df.loc[46:50, 'Ratings'] = 8.2\n",
    "df.loc[50, 'Ratings'] = 8.1\n",
    "df.loc[51:53, 'Ratings'] = 8.0\n",
    "df.loc[53:56, 'Ratings'] = 7.9\n",
    "df.loc[56:58, 'Ratings'] = 7.8\n",
    "df.loc[58:65, 'Ratings'] = 7.7\n",
    "df.loc[65, 'Ratings'] = 7.5\n",
    "df.loc[66:69, 'Ratings'] = 7.4\n",
    "df.loc[69:71, 'Ratings'] = 7.3\n",
    "df.loc[71:74, 'Ratings'] = 7.2\n",
    "df.loc[74:76, 'Ratings'] = 7.1\n",
    "df.loc[76:79, 'Ratings'] = 7.0\n",
    "df.loc[79:82, 'Ratings'] = 6.9\n",
    "df.loc[82:84, 'Ratings'] = 6.8\n",
    "df.loc[84:86, 'Ratings'] = 6.7\n",
    "df.loc[86, 'Ratings'] = 6.2\n",
    "df.loc[87, 'Ratings'] = 5.6\n",
    "df.loc[88:90, 'Ratings'] = 5.0\n",
    "df.loc[90, 'Ratings'] = 4.0\n",
    "df.loc[91, 'Ratings'] = 3.4"
   ]
  },
  {
   "cell_type": "code",
   "execution_count": 18,
   "id": "6a8a5b1d",
   "metadata": {},
   "outputs": [],
   "source": [
    "df.loc[df['Cuisines'].apply(lambda x: x == ['La Jolla']), 'Cuisines'] = df.loc[\n",
    "    df['Cuisines'].apply(lambda x: x == ['La Jolla'])\n",
    "]['Cuisines'].apply(lambda _: ['Mediterranean'])"
   ]
  },
  {
   "cell_type": "code",
   "execution_count": 19,
   "id": "6ec6f4fc",
   "metadata": {},
   "outputs": [
    {
     "data": {
      "text/plain": [
       "Cuisines\n",
       "[Pizza]                                7\n",
       "[Mexican]                              5\n",
       "[American]                             5\n",
       "[Thai]                                 4\n",
       "[Italian]                              4\n",
       "[Indian]                               3\n",
       "[Japanese, Sushi]                      3\n",
       "[Chicken, Fast Food]                   2\n",
       "[Mediterranean]                        2\n",
       "[Breakfast]                            2\n",
       "[Chinese]                              2\n",
       "[Ramen, Japanese]                      2\n",
       "[Japanese]                             2\n",
       "[Ramen]                                2\n",
       "[Barbecue, Bar]                        1\n",
       "[Kebab, Mediterranean]                 1\n",
       "[Caribbean]                            1\n",
       "[Wine Bar, Italian]                    1\n",
       "[American, Burgers, Fast Food]         1\n",
       "[Hawaiian, Poke]                       1\n",
       "[Mediterranean, Greek]                 1\n",
       "[Laotian, Thai]                        1\n",
       "[Sushi ,Grill and Chinese Cuisine]     1\n",
       "[Breakfast, Brunch, American]          1\n",
       "[American, Diner]                      1\n",
       "[Hawaiian]                             1\n",
       "[Sandwiches]                           1\n",
       "[Vegan]                                1\n",
       "[Mediterranean, Kebab, Lebanese]       1\n",
       "[Seafood]                              1\n",
       "[Italian, Pizza]                       1\n",
       "[Brunch, American]                     1\n",
       "[Mexican, Tacos, Taqueria]             1\n",
       "[Fast Food, Healthy, Mediterranean]    1\n",
       "[Taiwanese]                            1\n",
       "[American, Breakfast, Brunch]          1\n",
       "[Açaí Bowls]                           1\n",
       "[Bakery, Brunch]                       1\n",
       "[Sushi, Japanese]                      1\n",
       "[Lebanese]                             1\n",
       "[American, Burgers, Sandwiches]        1\n",
       "[Japanese, Korean, Sushi]              1\n",
       "[Japanese, Ramen]                      1\n",
       "[Barbecue, Korean]                     1\n",
       "[Hot Pot, Chinese, Soup]               1\n",
       "[Bakery, Korean, French]               1\n",
       "[Middle Eastern, Halal, Food Truck]    1\n",
       "[Sandwiches, Vietnamese, Banh Mi]      1\n",
       "[Argentinian]                          1\n",
       "[Fried Chicken, Korean]                1\n",
       "[American, Californian, Breakfast]     1\n",
       "[American, Seafood]                    1\n",
       "[Hotpot]                               1\n",
       "[Breakfast, Brunch, Californian]       1\n",
       "[Pho, Vietnamese]                      1\n",
       "[Asian]                                1\n",
       "[Vietnamese]                           1\n",
       "[Cafe]                                 1\n",
       "[New Zealand]                          1\n",
       "Name: count, dtype: int64"
      ]
     },
     "execution_count": 19,
     "metadata": {},
     "output_type": "execute_result"
    }
   ],
   "source": [
    "df['Cuisines'].value_counts()"
   ]
  },
  {
   "cell_type": "code",
   "execution_count": 20,
   "id": "1f9a353e",
   "metadata": {},
   "outputs": [
    {
     "data": {
      "text/plain": [
       "'(if i remember correctly) ordered fish tacos and was a blast in the rainy weather! warmed me right up :D'"
      ]
     },
     "execution_count": 20,
     "metadata": {},
     "output_type": "execute_result"
    }
   ],
   "source": [
    "df[df['Name'] == \"Manny's Kitchen\"]['URL'].iloc[0][7:]"
   ]
  },
  {
   "cell_type": "code",
   "execution_count": 21,
   "id": "aef13821",
   "metadata": {},
   "outputs": [],
   "source": [
    "def moving_notes(row):\n",
    "    url = row['URL'][7:]\n",
    "    if 'http' not in row['URL']:\n",
    "        row['Notes'] = url\n",
    "        row['URL'] = 'No URL'\n",
    "    return row"
   ]
  },
  {
   "cell_type": "code",
   "execution_count": 22,
   "id": "285d321e",
   "metadata": {},
   "outputs": [
    {
     "data": {
      "text/html": [
       "<div>\n",
       "<style scoped>\n",
       "    .dataframe tbody tr th:only-of-type {\n",
       "        vertical-align: middle;\n",
       "    }\n",
       "\n",
       "    .dataframe tbody tr th {\n",
       "        vertical-align: top;\n",
       "    }\n",
       "\n",
       "    .dataframe thead th {\n",
       "        text-align: right;\n",
       "    }\n",
       "</style>\n",
       "<table border=\"1\" class=\"dataframe\">\n",
       "  <thead>\n",
       "    <tr style=\"text-align: right;\">\n",
       "      <th></th>\n",
       "      <th>Name</th>\n",
       "      <th>URL</th>\n",
       "      <th>Notes</th>\n",
       "      <th>Cuisines</th>\n",
       "      <th>Location</th>\n",
       "      <th>Ratings</th>\n",
       "    </tr>\n",
       "  </thead>\n",
       "  <tbody>\n",
       "    <tr>\n",
       "      <th>0</th>\n",
       "      <td>So Saap</td>\n",
       "      <td>https://sosaap.com/?utm_source=google</td>\n",
       "      <td>i forgot wat spice level i ordered but it was ...</td>\n",
       "      <td>[Laotian, Thai]</td>\n",
       "      <td>City Heights</td>\n",
       "      <td>10.0</td>\n",
       "    </tr>\n",
       "    <tr>\n",
       "      <th>1</th>\n",
       "      <td>Kura Revolving Sushi Bar</td>\n",
       "      <td>https://kurasushi.com/locations/sandiegocaconvoy/</td>\n",
       "      <td>i am in love. sushi was great. 10/10</td>\n",
       "      <td>[Japanese, Sushi]</td>\n",
       "      <td>Kearny Mesa</td>\n",
       "      <td>10.0</td>\n",
       "    </tr>\n",
       "    <tr>\n",
       "      <th>2</th>\n",
       "      <td>Kura Revolving Sushi Bar</td>\n",
       "      <td>https://kurasushi.com/locations/pleasantonca/</td>\n",
       "      <td>we ate good. i got snow crab this time, didnt ...</td>\n",
       "      <td>[Japanese, Sushi]</td>\n",
       "      <td>Pleasanton</td>\n",
       "      <td>10.0</td>\n",
       "    </tr>\n",
       "    <tr>\n",
       "      <th>3</th>\n",
       "      <td>Sugar and Scribe</td>\n",
       "      <td>https://www.sugarandscribe.com/</td>\n",
       "      <td>the shashuka was so good! hot chocolate was go...</td>\n",
       "      <td>[Bakery, Brunch]</td>\n",
       "      <td>Village of La Jolla</td>\n",
       "      <td>9.9</td>\n",
       "    </tr>\n",
       "    <tr>\n",
       "      <th>4</th>\n",
       "      <td>Hako Sushi Box</td>\n",
       "      <td>https://www.hakosushibox.com/</td>\n",
       "      <td>the box had three rolls and was decently price...</td>\n",
       "      <td>[Sushi, Japanese]</td>\n",
       "      <td>Chula Vista</td>\n",
       "      <td>9.9</td>\n",
       "    </tr>\n",
       "    <tr>\n",
       "      <th>...</th>\n",
       "      <td>...</td>\n",
       "      <td>...</td>\n",
       "      <td>...</td>\n",
       "      <td>...</td>\n",
       "      <td>...</td>\n",
       "      <td>...</td>\n",
       "    </tr>\n",
       "    <tr>\n",
       "      <th>87</th>\n",
       "      <td>Menya Ultra UTC La Jolla</td>\n",
       "      <td>https://menyaultra.com/</td>\n",
       "      <td>No Notes</td>\n",
       "      <td>[Ramen, Japanese]</td>\n",
       "      <td>University City</td>\n",
       "      <td>5.6</td>\n",
       "    </tr>\n",
       "    <tr>\n",
       "      <th>88</th>\n",
       "      <td>Fortunate Son Chinese</td>\n",
       "      <td>http://www.fortunatesonchinese.com/</td>\n",
       "      <td>No Notes</td>\n",
       "      <td>[Chinese]</td>\n",
       "      <td>North Park</td>\n",
       "      <td>5.0</td>\n",
       "    </tr>\n",
       "    <tr>\n",
       "      <th>89</th>\n",
       "      <td>The Taco Stand</td>\n",
       "      <td>http://www.letstaco.com/</td>\n",
       "      <td>No Notes</td>\n",
       "      <td>[Mexican, Tacos, Taqueria]</td>\n",
       "      <td>Village of La Jolla</td>\n",
       "      <td>5.0</td>\n",
       "    </tr>\n",
       "    <tr>\n",
       "      <th>90</th>\n",
       "      <td>The Melt</td>\n",
       "      <td>http://www.themelt.com/</td>\n",
       "      <td>No Notes</td>\n",
       "      <td>[American]</td>\n",
       "      <td>La Jolla</td>\n",
       "      <td>4.0</td>\n",
       "    </tr>\n",
       "    <tr>\n",
       "      <th>91</th>\n",
       "      <td>Queenstown Bistro</td>\n",
       "      <td>https://www.queenstownbistro.com/</td>\n",
       "      <td>No Notes</td>\n",
       "      <td>[New Zealand]</td>\n",
       "      <td>University City</td>\n",
       "      <td>3.4</td>\n",
       "    </tr>\n",
       "  </tbody>\n",
       "</table>\n",
       "<p>92 rows × 6 columns</p>\n",
       "</div>"
      ],
      "text/plain": [
       "                        Name  \\\n",
       "0                    So Saap   \n",
       "1   Kura Revolving Sushi Bar   \n",
       "2   Kura Revolving Sushi Bar   \n",
       "3           Sugar and Scribe   \n",
       "4             Hako Sushi Box   \n",
       "..                       ...   \n",
       "87  Menya Ultra UTC La Jolla   \n",
       "88     Fortunate Son Chinese   \n",
       "89            The Taco Stand   \n",
       "90                  The Melt   \n",
       "91         Queenstown Bistro   \n",
       "\n",
       "                                                  URL  \\\n",
       "0               https://sosaap.com/?utm_source=google   \n",
       "1   https://kurasushi.com/locations/sandiegocaconvoy/   \n",
       "2       https://kurasushi.com/locations/pleasantonca/   \n",
       "3                     https://www.sugarandscribe.com/   \n",
       "4                       https://www.hakosushibox.com/   \n",
       "..                                                ...   \n",
       "87                            https://menyaultra.com/   \n",
       "88                http://www.fortunatesonchinese.com/   \n",
       "89                           http://www.letstaco.com/   \n",
       "90                            http://www.themelt.com/   \n",
       "91                  https://www.queenstownbistro.com/   \n",
       "\n",
       "                                                Notes  \\\n",
       "0   i forgot wat spice level i ordered but it was ...   \n",
       "1                i am in love. sushi was great. 10/10   \n",
       "2   we ate good. i got snow crab this time, didnt ...   \n",
       "3   the shashuka was so good! hot chocolate was go...   \n",
       "4   the box had three rolls and was decently price...   \n",
       "..                                                ...   \n",
       "87                                           No Notes   \n",
       "88                                           No Notes   \n",
       "89                                           No Notes   \n",
       "90                                           No Notes   \n",
       "91                                           No Notes   \n",
       "\n",
       "                      Cuisines             Location  Ratings  \n",
       "0              [Laotian, Thai]         City Heights     10.0  \n",
       "1            [Japanese, Sushi]          Kearny Mesa     10.0  \n",
       "2            [Japanese, Sushi]           Pleasanton     10.0  \n",
       "3             [Bakery, Brunch]  Village of La Jolla      9.9  \n",
       "4            [Sushi, Japanese]          Chula Vista      9.9  \n",
       "..                         ...                  ...      ...  \n",
       "87           [Ramen, Japanese]      University City      5.6  \n",
       "88                   [Chinese]           North Park      5.0  \n",
       "89  [Mexican, Tacos, Taqueria]  Village of La Jolla      5.0  \n",
       "90                  [American]             La Jolla      4.0  \n",
       "91               [New Zealand]      University City      3.4  \n",
       "\n",
       "[92 rows x 6 columns]"
      ]
     },
     "execution_count": 22,
     "metadata": {},
     "output_type": "execute_result"
    }
   ],
   "source": [
    "df = df.apply(moving_notes, axis = 1)\n",
    "df"
   ]
  },
  {
   "cell_type": "markdown",
   "id": "812eb587",
   "metadata": {},
   "source": [
    "### Final Data Frame"
   ]
  },
  {
   "cell_type": "code",
   "execution_count": 23,
   "id": "7d3429ca",
   "metadata": {},
   "outputs": [
    {
     "data": {
      "text/html": [
       "<div>\n",
       "<style scoped>\n",
       "    .dataframe tbody tr th:only-of-type {\n",
       "        vertical-align: middle;\n",
       "    }\n",
       "\n",
       "    .dataframe tbody tr th {\n",
       "        vertical-align: top;\n",
       "    }\n",
       "\n",
       "    .dataframe thead th {\n",
       "        text-align: right;\n",
       "    }\n",
       "</style>\n",
       "<table border=\"1\" class=\"dataframe\">\n",
       "  <thead>\n",
       "    <tr style=\"text-align: right;\">\n",
       "      <th></th>\n",
       "      <th>Name</th>\n",
       "      <th>URL</th>\n",
       "      <th>Notes</th>\n",
       "      <th>Cuisines</th>\n",
       "      <th>Location</th>\n",
       "      <th>Ratings</th>\n",
       "    </tr>\n",
       "  </thead>\n",
       "  <tbody>\n",
       "    <tr>\n",
       "      <th>0</th>\n",
       "      <td>So Saap</td>\n",
       "      <td>https://sosaap.com/?utm_source=google</td>\n",
       "      <td>i forgot wat spice level i ordered but it was ...</td>\n",
       "      <td>[Laotian, Thai]</td>\n",
       "      <td>City Heights</td>\n",
       "      <td>10.0</td>\n",
       "    </tr>\n",
       "    <tr>\n",
       "      <th>1</th>\n",
       "      <td>Kura Revolving Sushi Bar</td>\n",
       "      <td>https://kurasushi.com/locations/sandiegocaconvoy/</td>\n",
       "      <td>i am in love. sushi was great. 10/10</td>\n",
       "      <td>[Japanese, Sushi]</td>\n",
       "      <td>Kearny Mesa</td>\n",
       "      <td>10.0</td>\n",
       "    </tr>\n",
       "    <tr>\n",
       "      <th>2</th>\n",
       "      <td>Kura Revolving Sushi Bar</td>\n",
       "      <td>https://kurasushi.com/locations/pleasantonca/</td>\n",
       "      <td>we ate good. i got snow crab this time, didnt ...</td>\n",
       "      <td>[Japanese, Sushi]</td>\n",
       "      <td>Pleasanton</td>\n",
       "      <td>10.0</td>\n",
       "    </tr>\n",
       "    <tr>\n",
       "      <th>3</th>\n",
       "      <td>Sugar and Scribe</td>\n",
       "      <td>https://www.sugarandscribe.com/</td>\n",
       "      <td>the shashuka was so good! hot chocolate was go...</td>\n",
       "      <td>[Bakery, Brunch]</td>\n",
       "      <td>Village of La Jolla</td>\n",
       "      <td>9.9</td>\n",
       "    </tr>\n",
       "    <tr>\n",
       "      <th>4</th>\n",
       "      <td>Hako Sushi Box</td>\n",
       "      <td>https://www.hakosushibox.com/</td>\n",
       "      <td>the box had three rolls and was decently price...</td>\n",
       "      <td>[Sushi, Japanese]</td>\n",
       "      <td>Chula Vista</td>\n",
       "      <td>9.9</td>\n",
       "    </tr>\n",
       "    <tr>\n",
       "      <th>...</th>\n",
       "      <td>...</td>\n",
       "      <td>...</td>\n",
       "      <td>...</td>\n",
       "      <td>...</td>\n",
       "      <td>...</td>\n",
       "      <td>...</td>\n",
       "    </tr>\n",
       "    <tr>\n",
       "      <th>87</th>\n",
       "      <td>Menya Ultra UTC La Jolla</td>\n",
       "      <td>https://menyaultra.com/</td>\n",
       "      <td>No Notes</td>\n",
       "      <td>[Ramen, Japanese]</td>\n",
       "      <td>University City</td>\n",
       "      <td>5.6</td>\n",
       "    </tr>\n",
       "    <tr>\n",
       "      <th>88</th>\n",
       "      <td>Fortunate Son Chinese</td>\n",
       "      <td>http://www.fortunatesonchinese.com/</td>\n",
       "      <td>No Notes</td>\n",
       "      <td>[Chinese]</td>\n",
       "      <td>North Park</td>\n",
       "      <td>5.0</td>\n",
       "    </tr>\n",
       "    <tr>\n",
       "      <th>89</th>\n",
       "      <td>The Taco Stand</td>\n",
       "      <td>http://www.letstaco.com/</td>\n",
       "      <td>No Notes</td>\n",
       "      <td>[Mexican, Tacos, Taqueria]</td>\n",
       "      <td>Village of La Jolla</td>\n",
       "      <td>5.0</td>\n",
       "    </tr>\n",
       "    <tr>\n",
       "      <th>90</th>\n",
       "      <td>The Melt</td>\n",
       "      <td>http://www.themelt.com/</td>\n",
       "      <td>No Notes</td>\n",
       "      <td>[American]</td>\n",
       "      <td>La Jolla</td>\n",
       "      <td>4.0</td>\n",
       "    </tr>\n",
       "    <tr>\n",
       "      <th>91</th>\n",
       "      <td>Queenstown Bistro</td>\n",
       "      <td>https://www.queenstownbistro.com/</td>\n",
       "      <td>No Notes</td>\n",
       "      <td>[New Zealand]</td>\n",
       "      <td>University City</td>\n",
       "      <td>3.4</td>\n",
       "    </tr>\n",
       "  </tbody>\n",
       "</table>\n",
       "<p>92 rows × 6 columns</p>\n",
       "</div>"
      ],
      "text/plain": [
       "                        Name  \\\n",
       "0                    So Saap   \n",
       "1   Kura Revolving Sushi Bar   \n",
       "2   Kura Revolving Sushi Bar   \n",
       "3           Sugar and Scribe   \n",
       "4             Hako Sushi Box   \n",
       "..                       ...   \n",
       "87  Menya Ultra UTC La Jolla   \n",
       "88     Fortunate Son Chinese   \n",
       "89            The Taco Stand   \n",
       "90                  The Melt   \n",
       "91         Queenstown Bistro   \n",
       "\n",
       "                                                  URL  \\\n",
       "0               https://sosaap.com/?utm_source=google   \n",
       "1   https://kurasushi.com/locations/sandiegocaconvoy/   \n",
       "2       https://kurasushi.com/locations/pleasantonca/   \n",
       "3                     https://www.sugarandscribe.com/   \n",
       "4                       https://www.hakosushibox.com/   \n",
       "..                                                ...   \n",
       "87                            https://menyaultra.com/   \n",
       "88                http://www.fortunatesonchinese.com/   \n",
       "89                           http://www.letstaco.com/   \n",
       "90                            http://www.themelt.com/   \n",
       "91                  https://www.queenstownbistro.com/   \n",
       "\n",
       "                                                Notes  \\\n",
       "0   i forgot wat spice level i ordered but it was ...   \n",
       "1                i am in love. sushi was great. 10/10   \n",
       "2   we ate good. i got snow crab this time, didnt ...   \n",
       "3   the shashuka was so good! hot chocolate was go...   \n",
       "4   the box had three rolls and was decently price...   \n",
       "..                                                ...   \n",
       "87                                           No Notes   \n",
       "88                                           No Notes   \n",
       "89                                           No Notes   \n",
       "90                                           No Notes   \n",
       "91                                           No Notes   \n",
       "\n",
       "                      Cuisines             Location  Ratings  \n",
       "0              [Laotian, Thai]         City Heights     10.0  \n",
       "1            [Japanese, Sushi]          Kearny Mesa     10.0  \n",
       "2            [Japanese, Sushi]           Pleasanton     10.0  \n",
       "3             [Bakery, Brunch]  Village of La Jolla      9.9  \n",
       "4            [Sushi, Japanese]          Chula Vista      9.9  \n",
       "..                         ...                  ...      ...  \n",
       "87           [Ramen, Japanese]      University City      5.6  \n",
       "88                   [Chinese]           North Park      5.0  \n",
       "89  [Mexican, Tacos, Taqueria]  Village of La Jolla      5.0  \n",
       "90                  [American]             La Jolla      4.0  \n",
       "91               [New Zealand]      University City      3.4  \n",
       "\n",
       "[92 rows x 6 columns]"
      ]
     },
     "execution_count": 23,
     "metadata": {},
     "output_type": "execute_result"
    }
   ],
   "source": [
    "df"
   ]
  },
  {
   "cell_type": "code",
   "execution_count": 32,
   "id": "2b25e166",
   "metadata": {},
   "outputs": [],
   "source": [
    "df.to_csv('cleaned_beli.csv', header = True, index = False)"
   ]
  },
  {
   "cell_type": "markdown",
   "id": "16b23989",
   "metadata": {},
   "source": [
    "### Missing Values + General Data Frame Statistics"
   ]
  },
  {
   "cell_type": "code",
   "execution_count": 59,
   "id": "f5d29510",
   "metadata": {},
   "outputs": [
    {
     "data": {
      "text/plain": [
       "0"
      ]
     },
     "execution_count": 59,
     "metadata": {},
     "output_type": "execute_result"
    }
   ],
   "source": [
    "df[df['Cuisines'] == 'No Cuisine']['Cuisines'].count()"
   ]
  },
  {
   "cell_type": "code",
   "execution_count": 57,
   "id": "2f854449",
   "metadata": {},
   "outputs": [
    {
     "data": {
      "text/plain": [
       "30"
      ]
     },
     "execution_count": 57,
     "metadata": {},
     "output_type": "execute_result"
    }
   ],
   "source": [
    "df[df['Notes'] == 'No Notes']['Notes'].count()"
   ]
  },
  {
   "cell_type": "code",
   "execution_count": 60,
   "id": "55df66f3",
   "metadata": {},
   "outputs": [
    {
     "data": {
      "text/plain": [
       "0"
      ]
     },
     "execution_count": 60,
     "metadata": {},
     "output_type": "execute_result"
    }
   ],
   "source": [
    "df[df['Location'] == 'No Location']['Location'].count()"
   ]
  },
  {
   "cell_type": "code",
   "execution_count": 61,
   "id": "56ed6cdf",
   "metadata": {},
   "outputs": [
    {
     "data": {
      "text/plain": [
       "5"
      ]
     },
     "execution_count": 61,
     "metadata": {},
     "output_type": "execute_result"
    }
   ],
   "source": [
    "df[df['URL'] == 'No URL']['URL'].count()"
   ]
  },
  {
   "cell_type": "code",
   "execution_count": 64,
   "id": "f8705bd0",
   "metadata": {},
   "outputs": [
    {
     "data": {
      "text/plain": [
       "(92, 6)"
      ]
     },
     "execution_count": 64,
     "metadata": {},
     "output_type": "execute_result"
    }
   ],
   "source": [
    "df.shape"
   ]
  },
  {
   "cell_type": "markdown",
   "id": "7100620b",
   "metadata": {},
   "source": [
    "## Graphs and EDA"
   ]
  },
  {
   "cell_type": "code",
   "execution_count": 126,
   "id": "772384bf",
   "metadata": {},
   "outputs": [
    {
     "data": {
      "application/vnd.plotly.v1+json": {
       "config": {
        "plotlyServerURL": "https://plot.ly"
       },
       "data": [
        {
         "alignmentgroup": "True",
         "hovertemplate": "variable=count<br>Locations=%{x}<br>Frequency=%{y}<extra></extra>",
         "legendgroup": "count",
         "marker": {
          "color": "#636efa",
          "pattern": {
           "shape": ""
          }
         },
         "name": "count",
         "offsetgroup": "count",
         "orientation": "v",
         "showlegend": true,
         "textposition": "auto",
         "type": "bar",
         "x": [
          "La Jolla",
          "University City",
          "Pleasanton",
          "Mira Mesa",
          "Kearny Mesa",
          "Village of La Jolla",
          "Old Town",
          "Dublin",
          "Little Italy",
          "North Beach",
          "Near North",
          "Kailua-Kona",
          "North Park",
          "Livermore",
          "La Jolla Village",
          "River North",
          "Food Truck",
          "City Heights",
          "Sorrento Mesa",
          "South Village",
          "Hillcrest",
          "Avalon",
          "San Ramon",
          "Union Street",
          "Northwest Carmel",
          "San Diego",
          "Del Mar",
          "Captain Cook",
          "Lower Pacific Heights",
          "Yerba Buena",
          "Tenderloin",
          "Midtown Manhattan",
          "Clairemont",
          "Pacific Beach",
          "Chula Vista",
          "The Heights"
         ],
         "xaxis": "x",
         "y": [
          22,
          10,
          6,
          4,
          4,
          3,
          3,
          3,
          3,
          2,
          2,
          2,
          2,
          2,
          2,
          2,
          1,
          1,
          1,
          1,
          1,
          1,
          1,
          1,
          1,
          1,
          1,
          1,
          1,
          1,
          1,
          1,
          1,
          1,
          1,
          1
         ],
         "yaxis": "y"
        }
       ],
       "layout": {
        "barmode": "relative",
        "legend": {
         "title": {
          "text": "variable"
         },
         "tracegroupgap": 0
        },
        "template": {
         "data": {
          "bar": [
           {
            "error_x": {
             "color": "#2a3f5f"
            },
            "error_y": {
             "color": "#2a3f5f"
            },
            "marker": {
             "line": {
              "color": "#E5ECF6",
              "width": 0.5
             },
             "pattern": {
              "fillmode": "overlay",
              "size": 10,
              "solidity": 0.2
             }
            },
            "type": "bar"
           }
          ],
          "barpolar": [
           {
            "marker": {
             "line": {
              "color": "#E5ECF6",
              "width": 0.5
             },
             "pattern": {
              "fillmode": "overlay",
              "size": 10,
              "solidity": 0.2
             }
            },
            "type": "barpolar"
           }
          ],
          "carpet": [
           {
            "aaxis": {
             "endlinecolor": "#2a3f5f",
             "gridcolor": "white",
             "linecolor": "white",
             "minorgridcolor": "white",
             "startlinecolor": "#2a3f5f"
            },
            "baxis": {
             "endlinecolor": "#2a3f5f",
             "gridcolor": "white",
             "linecolor": "white",
             "minorgridcolor": "white",
             "startlinecolor": "#2a3f5f"
            },
            "type": "carpet"
           }
          ],
          "choropleth": [
           {
            "colorbar": {
             "outlinewidth": 0,
             "ticks": ""
            },
            "type": "choropleth"
           }
          ],
          "contour": [
           {
            "colorbar": {
             "outlinewidth": 0,
             "ticks": ""
            },
            "colorscale": [
             [
              0,
              "#0d0887"
             ],
             [
              0.1111111111111111,
              "#46039f"
             ],
             [
              0.2222222222222222,
              "#7201a8"
             ],
             [
              0.3333333333333333,
              "#9c179e"
             ],
             [
              0.4444444444444444,
              "#bd3786"
             ],
             [
              0.5555555555555556,
              "#d8576b"
             ],
             [
              0.6666666666666666,
              "#ed7953"
             ],
             [
              0.7777777777777778,
              "#fb9f3a"
             ],
             [
              0.8888888888888888,
              "#fdca26"
             ],
             [
              1,
              "#f0f921"
             ]
            ],
            "type": "contour"
           }
          ],
          "contourcarpet": [
           {
            "colorbar": {
             "outlinewidth": 0,
             "ticks": ""
            },
            "type": "contourcarpet"
           }
          ],
          "heatmap": [
           {
            "colorbar": {
             "outlinewidth": 0,
             "ticks": ""
            },
            "colorscale": [
             [
              0,
              "#0d0887"
             ],
             [
              0.1111111111111111,
              "#46039f"
             ],
             [
              0.2222222222222222,
              "#7201a8"
             ],
             [
              0.3333333333333333,
              "#9c179e"
             ],
             [
              0.4444444444444444,
              "#bd3786"
             ],
             [
              0.5555555555555556,
              "#d8576b"
             ],
             [
              0.6666666666666666,
              "#ed7953"
             ],
             [
              0.7777777777777778,
              "#fb9f3a"
             ],
             [
              0.8888888888888888,
              "#fdca26"
             ],
             [
              1,
              "#f0f921"
             ]
            ],
            "type": "heatmap"
           }
          ],
          "heatmapgl": [
           {
            "colorbar": {
             "outlinewidth": 0,
             "ticks": ""
            },
            "colorscale": [
             [
              0,
              "#0d0887"
             ],
             [
              0.1111111111111111,
              "#46039f"
             ],
             [
              0.2222222222222222,
              "#7201a8"
             ],
             [
              0.3333333333333333,
              "#9c179e"
             ],
             [
              0.4444444444444444,
              "#bd3786"
             ],
             [
              0.5555555555555556,
              "#d8576b"
             ],
             [
              0.6666666666666666,
              "#ed7953"
             ],
             [
              0.7777777777777778,
              "#fb9f3a"
             ],
             [
              0.8888888888888888,
              "#fdca26"
             ],
             [
              1,
              "#f0f921"
             ]
            ],
            "type": "heatmapgl"
           }
          ],
          "histogram": [
           {
            "marker": {
             "pattern": {
              "fillmode": "overlay",
              "size": 10,
              "solidity": 0.2
             }
            },
            "type": "histogram"
           }
          ],
          "histogram2d": [
           {
            "colorbar": {
             "outlinewidth": 0,
             "ticks": ""
            },
            "colorscale": [
             [
              0,
              "#0d0887"
             ],
             [
              0.1111111111111111,
              "#46039f"
             ],
             [
              0.2222222222222222,
              "#7201a8"
             ],
             [
              0.3333333333333333,
              "#9c179e"
             ],
             [
              0.4444444444444444,
              "#bd3786"
             ],
             [
              0.5555555555555556,
              "#d8576b"
             ],
             [
              0.6666666666666666,
              "#ed7953"
             ],
             [
              0.7777777777777778,
              "#fb9f3a"
             ],
             [
              0.8888888888888888,
              "#fdca26"
             ],
             [
              1,
              "#f0f921"
             ]
            ],
            "type": "histogram2d"
           }
          ],
          "histogram2dcontour": [
           {
            "colorbar": {
             "outlinewidth": 0,
             "ticks": ""
            },
            "colorscale": [
             [
              0,
              "#0d0887"
             ],
             [
              0.1111111111111111,
              "#46039f"
             ],
             [
              0.2222222222222222,
              "#7201a8"
             ],
             [
              0.3333333333333333,
              "#9c179e"
             ],
             [
              0.4444444444444444,
              "#bd3786"
             ],
             [
              0.5555555555555556,
              "#d8576b"
             ],
             [
              0.6666666666666666,
              "#ed7953"
             ],
             [
              0.7777777777777778,
              "#fb9f3a"
             ],
             [
              0.8888888888888888,
              "#fdca26"
             ],
             [
              1,
              "#f0f921"
             ]
            ],
            "type": "histogram2dcontour"
           }
          ],
          "mesh3d": [
           {
            "colorbar": {
             "outlinewidth": 0,
             "ticks": ""
            },
            "type": "mesh3d"
           }
          ],
          "parcoords": [
           {
            "line": {
             "colorbar": {
              "outlinewidth": 0,
              "ticks": ""
             }
            },
            "type": "parcoords"
           }
          ],
          "pie": [
           {
            "automargin": true,
            "type": "pie"
           }
          ],
          "scatter": [
           {
            "fillpattern": {
             "fillmode": "overlay",
             "size": 10,
             "solidity": 0.2
            },
            "type": "scatter"
           }
          ],
          "scatter3d": [
           {
            "line": {
             "colorbar": {
              "outlinewidth": 0,
              "ticks": ""
             }
            },
            "marker": {
             "colorbar": {
              "outlinewidth": 0,
              "ticks": ""
             }
            },
            "type": "scatter3d"
           }
          ],
          "scattercarpet": [
           {
            "marker": {
             "colorbar": {
              "outlinewidth": 0,
              "ticks": ""
             }
            },
            "type": "scattercarpet"
           }
          ],
          "scattergeo": [
           {
            "marker": {
             "colorbar": {
              "outlinewidth": 0,
              "ticks": ""
             }
            },
            "type": "scattergeo"
           }
          ],
          "scattergl": [
           {
            "marker": {
             "colorbar": {
              "outlinewidth": 0,
              "ticks": ""
             }
            },
            "type": "scattergl"
           }
          ],
          "scattermapbox": [
           {
            "marker": {
             "colorbar": {
              "outlinewidth": 0,
              "ticks": ""
             }
            },
            "type": "scattermapbox"
           }
          ],
          "scatterpolar": [
           {
            "marker": {
             "colorbar": {
              "outlinewidth": 0,
              "ticks": ""
             }
            },
            "type": "scatterpolar"
           }
          ],
          "scatterpolargl": [
           {
            "marker": {
             "colorbar": {
              "outlinewidth": 0,
              "ticks": ""
             }
            },
            "type": "scatterpolargl"
           }
          ],
          "scatterternary": [
           {
            "marker": {
             "colorbar": {
              "outlinewidth": 0,
              "ticks": ""
             }
            },
            "type": "scatterternary"
           }
          ],
          "surface": [
           {
            "colorbar": {
             "outlinewidth": 0,
             "ticks": ""
            },
            "colorscale": [
             [
              0,
              "#0d0887"
             ],
             [
              0.1111111111111111,
              "#46039f"
             ],
             [
              0.2222222222222222,
              "#7201a8"
             ],
             [
              0.3333333333333333,
              "#9c179e"
             ],
             [
              0.4444444444444444,
              "#bd3786"
             ],
             [
              0.5555555555555556,
              "#d8576b"
             ],
             [
              0.6666666666666666,
              "#ed7953"
             ],
             [
              0.7777777777777778,
              "#fb9f3a"
             ],
             [
              0.8888888888888888,
              "#fdca26"
             ],
             [
              1,
              "#f0f921"
             ]
            ],
            "type": "surface"
           }
          ],
          "table": [
           {
            "cells": {
             "fill": {
              "color": "#EBF0F8"
             },
             "line": {
              "color": "white"
             }
            },
            "header": {
             "fill": {
              "color": "#C8D4E3"
             },
             "line": {
              "color": "white"
             }
            },
            "type": "table"
           }
          ]
         },
         "layout": {
          "annotationdefaults": {
           "arrowcolor": "#2a3f5f",
           "arrowhead": 0,
           "arrowwidth": 1
          },
          "autotypenumbers": "strict",
          "coloraxis": {
           "colorbar": {
            "outlinewidth": 0,
            "ticks": ""
           }
          },
          "colorscale": {
           "diverging": [
            [
             0,
             "#8e0152"
            ],
            [
             0.1,
             "#c51b7d"
            ],
            [
             0.2,
             "#de77ae"
            ],
            [
             0.3,
             "#f1b6da"
            ],
            [
             0.4,
             "#fde0ef"
            ],
            [
             0.5,
             "#f7f7f7"
            ],
            [
             0.6,
             "#e6f5d0"
            ],
            [
             0.7,
             "#b8e186"
            ],
            [
             0.8,
             "#7fbc41"
            ],
            [
             0.9,
             "#4d9221"
            ],
            [
             1,
             "#276419"
            ]
           ],
           "sequential": [
            [
             0,
             "#0d0887"
            ],
            [
             0.1111111111111111,
             "#46039f"
            ],
            [
             0.2222222222222222,
             "#7201a8"
            ],
            [
             0.3333333333333333,
             "#9c179e"
            ],
            [
             0.4444444444444444,
             "#bd3786"
            ],
            [
             0.5555555555555556,
             "#d8576b"
            ],
            [
             0.6666666666666666,
             "#ed7953"
            ],
            [
             0.7777777777777778,
             "#fb9f3a"
            ],
            [
             0.8888888888888888,
             "#fdca26"
            ],
            [
             1,
             "#f0f921"
            ]
           ],
           "sequentialminus": [
            [
             0,
             "#0d0887"
            ],
            [
             0.1111111111111111,
             "#46039f"
            ],
            [
             0.2222222222222222,
             "#7201a8"
            ],
            [
             0.3333333333333333,
             "#9c179e"
            ],
            [
             0.4444444444444444,
             "#bd3786"
            ],
            [
             0.5555555555555556,
             "#d8576b"
            ],
            [
             0.6666666666666666,
             "#ed7953"
            ],
            [
             0.7777777777777778,
             "#fb9f3a"
            ],
            [
             0.8888888888888888,
             "#fdca26"
            ],
            [
             1,
             "#f0f921"
            ]
           ]
          },
          "colorway": [
           "#636efa",
           "#EF553B",
           "#00cc96",
           "#ab63fa",
           "#FFA15A",
           "#19d3f3",
           "#FF6692",
           "#B6E880",
           "#FF97FF",
           "#FECB52"
          ],
          "font": {
           "color": "#2a3f5f"
          },
          "geo": {
           "bgcolor": "white",
           "lakecolor": "white",
           "landcolor": "#E5ECF6",
           "showlakes": true,
           "showland": true,
           "subunitcolor": "white"
          },
          "hoverlabel": {
           "align": "left"
          },
          "hovermode": "closest",
          "mapbox": {
           "style": "light"
          },
          "paper_bgcolor": "white",
          "plot_bgcolor": "#E5ECF6",
          "polar": {
           "angularaxis": {
            "gridcolor": "white",
            "linecolor": "white",
            "ticks": ""
           },
           "bgcolor": "#E5ECF6",
           "radialaxis": {
            "gridcolor": "white",
            "linecolor": "white",
            "ticks": ""
           }
          },
          "scene": {
           "xaxis": {
            "backgroundcolor": "#E5ECF6",
            "gridcolor": "white",
            "gridwidth": 2,
            "linecolor": "white",
            "showbackground": true,
            "ticks": "",
            "zerolinecolor": "white"
           },
           "yaxis": {
            "backgroundcolor": "#E5ECF6",
            "gridcolor": "white",
            "gridwidth": 2,
            "linecolor": "white",
            "showbackground": true,
            "ticks": "",
            "zerolinecolor": "white"
           },
           "zaxis": {
            "backgroundcolor": "#E5ECF6",
            "gridcolor": "white",
            "gridwidth": 2,
            "linecolor": "white",
            "showbackground": true,
            "ticks": "",
            "zerolinecolor": "white"
           }
          },
          "shapedefaults": {
           "line": {
            "color": "#2a3f5f"
           }
          },
          "ternary": {
           "aaxis": {
            "gridcolor": "white",
            "linecolor": "white",
            "ticks": ""
           },
           "baxis": {
            "gridcolor": "white",
            "linecolor": "white",
            "ticks": ""
           },
           "bgcolor": "#E5ECF6",
           "caxis": {
            "gridcolor": "white",
            "linecolor": "white",
            "ticks": ""
           }
          },
          "title": {
           "x": 0.05
          },
          "xaxis": {
           "automargin": true,
           "gridcolor": "white",
           "linecolor": "white",
           "ticks": "",
           "title": {
            "standoff": 15
           },
           "zerolinecolor": "white",
           "zerolinewidth": 2
          },
          "yaxis": {
           "automargin": true,
           "gridcolor": "white",
           "linecolor": "white",
           "ticks": "",
           "title": {
            "standoff": 15
           },
           "zerolinecolor": "white",
           "zerolinewidth": 2
          }
         }
        },
        "title": {
         "text": "Counts of Location of Restaurants"
        },
        "xaxis": {
         "anchor": "y",
         "domain": [
          0,
          1
         ],
         "title": {
          "text": "Locations"
         }
        },
        "yaxis": {
         "anchor": "x",
         "domain": [
          0,
          1
         ],
         "title": {
          "text": "Frequency"
         }
        }
       }
      }
     },
     "metadata": {},
     "output_type": "display_data"
    }
   ],
   "source": [
    "fig = px.bar(df['Location'].value_counts(), \n",
    "             title = 'Counts of Location of Restaurants',\n",
    "             labels = {'Location' : 'Locations', 'value' : 'Frequency'})\n",
    "fig.show()"
   ]
  },
  {
   "cell_type": "code",
   "execution_count": 24,
   "id": "e041592e",
   "metadata": {},
   "outputs": [
    {
     "data": {
      "application/vnd.plotly.v1+json": {
       "config": {
        "plotlyServerURL": "https://plot.ly"
       },
       "data": [
        {
         "domain": {
          "x": [
           0,
           1
          ],
          "y": [
           0,
           1
          ]
         },
         "hovertemplate": "Cuisine=%{label}<br>Count=%{value}<extra></extra>",
         "labels": [
          "American",
          "Japanese",
          "Pizza",
          "Mediterranean",
          "Italian",
          "Breakfast",
          "Mexican",
          "Brunch",
          "Thai",
          "Sushi",
          "Ramen",
          "Korean",
          "Fast Food",
          "Chinese",
          "Vietnamese",
          "Sandwiches",
          "Indian",
          "Barbecue",
          "Bakery",
          "Lebanese",
          "Burgers",
          "Kebab",
          "Chicken",
          "Hawaiian",
          "Seafood",
          "Californian",
          "Food Truck",
          "Pho",
          "Hotpot",
          "Fried Chicken",
          "Argentinian",
          "Banh Mi",
          "Middle Eastern",
          "Halal",
          "French",
          "Soup",
          "Hot Pot",
          "Taiwanese",
          "Asian",
          "Diner",
          "Cafe",
          "Açaí Bowls",
          "Laotian",
          "Caribbean",
          "Greek",
          "Poke",
          "Taqueria",
          "Tacos",
          "Vegan",
          "Bar",
          "Sushi ,Grill and Chinese Cuisine",
          "Wine Bar",
          "Healthy",
          "New Zealand"
         ],
         "legendgroup": "",
         "name": "",
         "showlegend": true,
         "textinfo": "none",
         "type": "pie",
         "values": [
          13,
          10,
          8,
          6,
          6,
          6,
          6,
          5,
          5,
          5,
          5,
          4,
          4,
          3,
          3,
          3,
          3,
          2,
          2,
          2,
          2,
          2,
          2,
          2,
          2,
          2,
          1,
          1,
          1,
          1,
          1,
          1,
          1,
          1,
          1,
          1,
          1,
          1,
          1,
          1,
          1,
          1,
          1,
          1,
          1,
          1,
          1,
          1,
          1,
          1,
          1,
          1,
          1,
          1
         ]
        }
       ],
       "layout": {
        "legend": {
         "tracegroupgap": 0
        },
        "template": {
         "data": {
          "bar": [
           {
            "error_x": {
             "color": "#2a3f5f"
            },
            "error_y": {
             "color": "#2a3f5f"
            },
            "marker": {
             "line": {
              "color": "#E5ECF6",
              "width": 0.5
             },
             "pattern": {
              "fillmode": "overlay",
              "size": 10,
              "solidity": 0.2
             }
            },
            "type": "bar"
           }
          ],
          "barpolar": [
           {
            "marker": {
             "line": {
              "color": "#E5ECF6",
              "width": 0.5
             },
             "pattern": {
              "fillmode": "overlay",
              "size": 10,
              "solidity": 0.2
             }
            },
            "type": "barpolar"
           }
          ],
          "carpet": [
           {
            "aaxis": {
             "endlinecolor": "#2a3f5f",
             "gridcolor": "white",
             "linecolor": "white",
             "minorgridcolor": "white",
             "startlinecolor": "#2a3f5f"
            },
            "baxis": {
             "endlinecolor": "#2a3f5f",
             "gridcolor": "white",
             "linecolor": "white",
             "minorgridcolor": "white",
             "startlinecolor": "#2a3f5f"
            },
            "type": "carpet"
           }
          ],
          "choropleth": [
           {
            "colorbar": {
             "outlinewidth": 0,
             "ticks": ""
            },
            "type": "choropleth"
           }
          ],
          "contour": [
           {
            "colorbar": {
             "outlinewidth": 0,
             "ticks": ""
            },
            "colorscale": [
             [
              0,
              "#0d0887"
             ],
             [
              0.1111111111111111,
              "#46039f"
             ],
             [
              0.2222222222222222,
              "#7201a8"
             ],
             [
              0.3333333333333333,
              "#9c179e"
             ],
             [
              0.4444444444444444,
              "#bd3786"
             ],
             [
              0.5555555555555556,
              "#d8576b"
             ],
             [
              0.6666666666666666,
              "#ed7953"
             ],
             [
              0.7777777777777778,
              "#fb9f3a"
             ],
             [
              0.8888888888888888,
              "#fdca26"
             ],
             [
              1,
              "#f0f921"
             ]
            ],
            "type": "contour"
           }
          ],
          "contourcarpet": [
           {
            "colorbar": {
             "outlinewidth": 0,
             "ticks": ""
            },
            "type": "contourcarpet"
           }
          ],
          "heatmap": [
           {
            "colorbar": {
             "outlinewidth": 0,
             "ticks": ""
            },
            "colorscale": [
             [
              0,
              "#0d0887"
             ],
             [
              0.1111111111111111,
              "#46039f"
             ],
             [
              0.2222222222222222,
              "#7201a8"
             ],
             [
              0.3333333333333333,
              "#9c179e"
             ],
             [
              0.4444444444444444,
              "#bd3786"
             ],
             [
              0.5555555555555556,
              "#d8576b"
             ],
             [
              0.6666666666666666,
              "#ed7953"
             ],
             [
              0.7777777777777778,
              "#fb9f3a"
             ],
             [
              0.8888888888888888,
              "#fdca26"
             ],
             [
              1,
              "#f0f921"
             ]
            ],
            "type": "heatmap"
           }
          ],
          "heatmapgl": [
           {
            "colorbar": {
             "outlinewidth": 0,
             "ticks": ""
            },
            "colorscale": [
             [
              0,
              "#0d0887"
             ],
             [
              0.1111111111111111,
              "#46039f"
             ],
             [
              0.2222222222222222,
              "#7201a8"
             ],
             [
              0.3333333333333333,
              "#9c179e"
             ],
             [
              0.4444444444444444,
              "#bd3786"
             ],
             [
              0.5555555555555556,
              "#d8576b"
             ],
             [
              0.6666666666666666,
              "#ed7953"
             ],
             [
              0.7777777777777778,
              "#fb9f3a"
             ],
             [
              0.8888888888888888,
              "#fdca26"
             ],
             [
              1,
              "#f0f921"
             ]
            ],
            "type": "heatmapgl"
           }
          ],
          "histogram": [
           {
            "marker": {
             "pattern": {
              "fillmode": "overlay",
              "size": 10,
              "solidity": 0.2
             }
            },
            "type": "histogram"
           }
          ],
          "histogram2d": [
           {
            "colorbar": {
             "outlinewidth": 0,
             "ticks": ""
            },
            "colorscale": [
             [
              0,
              "#0d0887"
             ],
             [
              0.1111111111111111,
              "#46039f"
             ],
             [
              0.2222222222222222,
              "#7201a8"
             ],
             [
              0.3333333333333333,
              "#9c179e"
             ],
             [
              0.4444444444444444,
              "#bd3786"
             ],
             [
              0.5555555555555556,
              "#d8576b"
             ],
             [
              0.6666666666666666,
              "#ed7953"
             ],
             [
              0.7777777777777778,
              "#fb9f3a"
             ],
             [
              0.8888888888888888,
              "#fdca26"
             ],
             [
              1,
              "#f0f921"
             ]
            ],
            "type": "histogram2d"
           }
          ],
          "histogram2dcontour": [
           {
            "colorbar": {
             "outlinewidth": 0,
             "ticks": ""
            },
            "colorscale": [
             [
              0,
              "#0d0887"
             ],
             [
              0.1111111111111111,
              "#46039f"
             ],
             [
              0.2222222222222222,
              "#7201a8"
             ],
             [
              0.3333333333333333,
              "#9c179e"
             ],
             [
              0.4444444444444444,
              "#bd3786"
             ],
             [
              0.5555555555555556,
              "#d8576b"
             ],
             [
              0.6666666666666666,
              "#ed7953"
             ],
             [
              0.7777777777777778,
              "#fb9f3a"
             ],
             [
              0.8888888888888888,
              "#fdca26"
             ],
             [
              1,
              "#f0f921"
             ]
            ],
            "type": "histogram2dcontour"
           }
          ],
          "mesh3d": [
           {
            "colorbar": {
             "outlinewidth": 0,
             "ticks": ""
            },
            "type": "mesh3d"
           }
          ],
          "parcoords": [
           {
            "line": {
             "colorbar": {
              "outlinewidth": 0,
              "ticks": ""
             }
            },
            "type": "parcoords"
           }
          ],
          "pie": [
           {
            "automargin": true,
            "type": "pie"
           }
          ],
          "scatter": [
           {
            "fillpattern": {
             "fillmode": "overlay",
             "size": 10,
             "solidity": 0.2
            },
            "type": "scatter"
           }
          ],
          "scatter3d": [
           {
            "line": {
             "colorbar": {
              "outlinewidth": 0,
              "ticks": ""
             }
            },
            "marker": {
             "colorbar": {
              "outlinewidth": 0,
              "ticks": ""
             }
            },
            "type": "scatter3d"
           }
          ],
          "scattercarpet": [
           {
            "marker": {
             "colorbar": {
              "outlinewidth": 0,
              "ticks": ""
             }
            },
            "type": "scattercarpet"
           }
          ],
          "scattergeo": [
           {
            "marker": {
             "colorbar": {
              "outlinewidth": 0,
              "ticks": ""
             }
            },
            "type": "scattergeo"
           }
          ],
          "scattergl": [
           {
            "marker": {
             "colorbar": {
              "outlinewidth": 0,
              "ticks": ""
             }
            },
            "type": "scattergl"
           }
          ],
          "scattermapbox": [
           {
            "marker": {
             "colorbar": {
              "outlinewidth": 0,
              "ticks": ""
             }
            },
            "type": "scattermapbox"
           }
          ],
          "scatterpolar": [
           {
            "marker": {
             "colorbar": {
              "outlinewidth": 0,
              "ticks": ""
             }
            },
            "type": "scatterpolar"
           }
          ],
          "scatterpolargl": [
           {
            "marker": {
             "colorbar": {
              "outlinewidth": 0,
              "ticks": ""
             }
            },
            "type": "scatterpolargl"
           }
          ],
          "scatterternary": [
           {
            "marker": {
             "colorbar": {
              "outlinewidth": 0,
              "ticks": ""
             }
            },
            "type": "scatterternary"
           }
          ],
          "surface": [
           {
            "colorbar": {
             "outlinewidth": 0,
             "ticks": ""
            },
            "colorscale": [
             [
              0,
              "#0d0887"
             ],
             [
              0.1111111111111111,
              "#46039f"
             ],
             [
              0.2222222222222222,
              "#7201a8"
             ],
             [
              0.3333333333333333,
              "#9c179e"
             ],
             [
              0.4444444444444444,
              "#bd3786"
             ],
             [
              0.5555555555555556,
              "#d8576b"
             ],
             [
              0.6666666666666666,
              "#ed7953"
             ],
             [
              0.7777777777777778,
              "#fb9f3a"
             ],
             [
              0.8888888888888888,
              "#fdca26"
             ],
             [
              1,
              "#f0f921"
             ]
            ],
            "type": "surface"
           }
          ],
          "table": [
           {
            "cells": {
             "fill": {
              "color": "#EBF0F8"
             },
             "line": {
              "color": "white"
             }
            },
            "header": {
             "fill": {
              "color": "#C8D4E3"
             },
             "line": {
              "color": "white"
             }
            },
            "type": "table"
           }
          ]
         },
         "layout": {
          "annotationdefaults": {
           "arrowcolor": "#2a3f5f",
           "arrowhead": 0,
           "arrowwidth": 1
          },
          "autotypenumbers": "strict",
          "coloraxis": {
           "colorbar": {
            "outlinewidth": 0,
            "ticks": ""
           }
          },
          "colorscale": {
           "diverging": [
            [
             0,
             "#8e0152"
            ],
            [
             0.1,
             "#c51b7d"
            ],
            [
             0.2,
             "#de77ae"
            ],
            [
             0.3,
             "#f1b6da"
            ],
            [
             0.4,
             "#fde0ef"
            ],
            [
             0.5,
             "#f7f7f7"
            ],
            [
             0.6,
             "#e6f5d0"
            ],
            [
             0.7,
             "#b8e186"
            ],
            [
             0.8,
             "#7fbc41"
            ],
            [
             0.9,
             "#4d9221"
            ],
            [
             1,
             "#276419"
            ]
           ],
           "sequential": [
            [
             0,
             "#0d0887"
            ],
            [
             0.1111111111111111,
             "#46039f"
            ],
            [
             0.2222222222222222,
             "#7201a8"
            ],
            [
             0.3333333333333333,
             "#9c179e"
            ],
            [
             0.4444444444444444,
             "#bd3786"
            ],
            [
             0.5555555555555556,
             "#d8576b"
            ],
            [
             0.6666666666666666,
             "#ed7953"
            ],
            [
             0.7777777777777778,
             "#fb9f3a"
            ],
            [
             0.8888888888888888,
             "#fdca26"
            ],
            [
             1,
             "#f0f921"
            ]
           ],
           "sequentialminus": [
            [
             0,
             "#0d0887"
            ],
            [
             0.1111111111111111,
             "#46039f"
            ],
            [
             0.2222222222222222,
             "#7201a8"
            ],
            [
             0.3333333333333333,
             "#9c179e"
            ],
            [
             0.4444444444444444,
             "#bd3786"
            ],
            [
             0.5555555555555556,
             "#d8576b"
            ],
            [
             0.6666666666666666,
             "#ed7953"
            ],
            [
             0.7777777777777778,
             "#fb9f3a"
            ],
            [
             0.8888888888888888,
             "#fdca26"
            ],
            [
             1,
             "#f0f921"
            ]
           ]
          },
          "colorway": [
           "#636efa",
           "#EF553B",
           "#00cc96",
           "#ab63fa",
           "#FFA15A",
           "#19d3f3",
           "#FF6692",
           "#B6E880",
           "#FF97FF",
           "#FECB52"
          ],
          "font": {
           "color": "#2a3f5f"
          },
          "geo": {
           "bgcolor": "white",
           "lakecolor": "white",
           "landcolor": "#E5ECF6",
           "showlakes": true,
           "showland": true,
           "subunitcolor": "white"
          },
          "hoverlabel": {
           "align": "left"
          },
          "hovermode": "closest",
          "mapbox": {
           "style": "light"
          },
          "paper_bgcolor": "white",
          "plot_bgcolor": "#E5ECF6",
          "polar": {
           "angularaxis": {
            "gridcolor": "white",
            "linecolor": "white",
            "ticks": ""
           },
           "bgcolor": "#E5ECF6",
           "radialaxis": {
            "gridcolor": "white",
            "linecolor": "white",
            "ticks": ""
           }
          },
          "scene": {
           "xaxis": {
            "backgroundcolor": "#E5ECF6",
            "gridcolor": "white",
            "gridwidth": 2,
            "linecolor": "white",
            "showbackground": true,
            "ticks": "",
            "zerolinecolor": "white"
           },
           "yaxis": {
            "backgroundcolor": "#E5ECF6",
            "gridcolor": "white",
            "gridwidth": 2,
            "linecolor": "white",
            "showbackground": true,
            "ticks": "",
            "zerolinecolor": "white"
           },
           "zaxis": {
            "backgroundcolor": "#E5ECF6",
            "gridcolor": "white",
            "gridwidth": 2,
            "linecolor": "white",
            "showbackground": true,
            "ticks": "",
            "zerolinecolor": "white"
           }
          },
          "shapedefaults": {
           "line": {
            "color": "#2a3f5f"
           }
          },
          "ternary": {
           "aaxis": {
            "gridcolor": "white",
            "linecolor": "white",
            "ticks": ""
           },
           "baxis": {
            "gridcolor": "white",
            "linecolor": "white",
            "ticks": ""
           },
           "bgcolor": "#E5ECF6",
           "caxis": {
            "gridcolor": "white",
            "linecolor": "white",
            "ticks": ""
           }
          },
          "title": {
           "x": 0.05
          },
          "xaxis": {
           "automargin": true,
           "gridcolor": "white",
           "linecolor": "white",
           "ticks": "",
           "title": {
            "standoff": 15
           },
           "zerolinecolor": "white",
           "zerolinewidth": 2
          },
          "yaxis": {
           "automargin": true,
           "gridcolor": "white",
           "linecolor": "white",
           "ticks": "",
           "title": {
            "standoff": 15
           },
           "zerolinecolor": "white",
           "zerolinewidth": 2
          }
         }
        },
        "title": {
         "text": "Frequency of Cuisines"
        }
       }
      }
     },
     "metadata": {},
     "output_type": "display_data"
    }
   ],
   "source": [
    "df_cuisines = df.explode('Cuisines')\n",
    "cuisine_counts = df_cuisines['Cuisines'].value_counts().reset_index()\n",
    "\n",
    "cuisine_counts.columns = ['Cuisine', 'Count']\n",
    "\n",
    "cuisine_counts = cuisine_counts.sort_values('Count', ascending=False).reset_index(drop=True)\n",
    "\n",
    "fig1 = px.pie(cuisine_counts, names = 'Cuisine', values = 'Count', title = 'Frequency of Cuisines')\n",
    "\n",
    "fig1.update_traces(textinfo='none')\n",
    "fig1.show()"
   ]
  },
  {
   "cell_type": "code",
   "execution_count": 25,
   "id": "23b92193",
   "metadata": {},
   "outputs": [
    {
     "data": {
      "application/vnd.plotly.v1+json": {
       "config": {
        "plotlyServerURL": "https://plot.ly"
       },
       "data": [
        {
         "alignmentgroup": "True",
         "hovertemplate": "Cuisine=%{x}<br>Count of Cuisine=%{y}<extra></extra>",
         "legendgroup": "",
         "marker": {
          "color": "#636efa",
          "pattern": {
           "shape": ""
          }
         },
         "name": "",
         "offsetgroup": "",
         "orientation": "v",
         "showlegend": false,
         "textposition": "inside",
         "texttemplate": "%{y}",
         "type": "bar",
         "x": [
          "American",
          "Japanese",
          "Pizza",
          "Mediterranean",
          "Italian",
          "Breakfast",
          "Mexican",
          "Brunch",
          "Thai",
          "Sushi",
          "Ramen",
          "Korean",
          "Fast Food",
          "Chinese",
          "Vietnamese",
          "Sandwiches",
          "Indian",
          "Barbecue",
          "Bakery",
          "Lebanese",
          "Burgers",
          "Kebab",
          "Chicken",
          "Hawaiian",
          "Seafood",
          "Californian",
          "Food Truck",
          "Pho",
          "Hotpot",
          "Fried Chicken",
          "Argentinian",
          "Banh Mi",
          "Middle Eastern",
          "Halal",
          "French",
          "Soup",
          "Hot Pot",
          "Taiwanese",
          "Asian",
          "Diner",
          "Cafe",
          "Açaí Bowls",
          "Laotian",
          "Caribbean",
          "Greek",
          "Poke",
          "Taqueria",
          "Tacos",
          "Vegan",
          "Bar",
          "Sushi ,Grill and Chinese Cuisine",
          "Wine Bar",
          "Healthy",
          "New Zealand"
         ],
         "xaxis": "x",
         "y": [
          13,
          10,
          8,
          6,
          6,
          6,
          6,
          5,
          5,
          5,
          5,
          4,
          4,
          3,
          3,
          3,
          3,
          2,
          2,
          2,
          2,
          2,
          2,
          2,
          2,
          2,
          1,
          1,
          1,
          1,
          1,
          1,
          1,
          1,
          1,
          1,
          1,
          1,
          1,
          1,
          1,
          1,
          1,
          1,
          1,
          1,
          1,
          1,
          1,
          1,
          1,
          1,
          1,
          1
         ],
         "yaxis": "y"
        }
       ],
       "layout": {
        "barmode": "relative",
        "legend": {
         "tracegroupgap": 0
        },
        "template": {
         "data": {
          "bar": [
           {
            "error_x": {
             "color": "#2a3f5f"
            },
            "error_y": {
             "color": "#2a3f5f"
            },
            "marker": {
             "line": {
              "color": "#E5ECF6",
              "width": 0.5
             },
             "pattern": {
              "fillmode": "overlay",
              "size": 10,
              "solidity": 0.2
             }
            },
            "type": "bar"
           }
          ],
          "barpolar": [
           {
            "marker": {
             "line": {
              "color": "#E5ECF6",
              "width": 0.5
             },
             "pattern": {
              "fillmode": "overlay",
              "size": 10,
              "solidity": 0.2
             }
            },
            "type": "barpolar"
           }
          ],
          "carpet": [
           {
            "aaxis": {
             "endlinecolor": "#2a3f5f",
             "gridcolor": "white",
             "linecolor": "white",
             "minorgridcolor": "white",
             "startlinecolor": "#2a3f5f"
            },
            "baxis": {
             "endlinecolor": "#2a3f5f",
             "gridcolor": "white",
             "linecolor": "white",
             "minorgridcolor": "white",
             "startlinecolor": "#2a3f5f"
            },
            "type": "carpet"
           }
          ],
          "choropleth": [
           {
            "colorbar": {
             "outlinewidth": 0,
             "ticks": ""
            },
            "type": "choropleth"
           }
          ],
          "contour": [
           {
            "colorbar": {
             "outlinewidth": 0,
             "ticks": ""
            },
            "colorscale": [
             [
              0,
              "#0d0887"
             ],
             [
              0.1111111111111111,
              "#46039f"
             ],
             [
              0.2222222222222222,
              "#7201a8"
             ],
             [
              0.3333333333333333,
              "#9c179e"
             ],
             [
              0.4444444444444444,
              "#bd3786"
             ],
             [
              0.5555555555555556,
              "#d8576b"
             ],
             [
              0.6666666666666666,
              "#ed7953"
             ],
             [
              0.7777777777777778,
              "#fb9f3a"
             ],
             [
              0.8888888888888888,
              "#fdca26"
             ],
             [
              1,
              "#f0f921"
             ]
            ],
            "type": "contour"
           }
          ],
          "contourcarpet": [
           {
            "colorbar": {
             "outlinewidth": 0,
             "ticks": ""
            },
            "type": "contourcarpet"
           }
          ],
          "heatmap": [
           {
            "colorbar": {
             "outlinewidth": 0,
             "ticks": ""
            },
            "colorscale": [
             [
              0,
              "#0d0887"
             ],
             [
              0.1111111111111111,
              "#46039f"
             ],
             [
              0.2222222222222222,
              "#7201a8"
             ],
             [
              0.3333333333333333,
              "#9c179e"
             ],
             [
              0.4444444444444444,
              "#bd3786"
             ],
             [
              0.5555555555555556,
              "#d8576b"
             ],
             [
              0.6666666666666666,
              "#ed7953"
             ],
             [
              0.7777777777777778,
              "#fb9f3a"
             ],
             [
              0.8888888888888888,
              "#fdca26"
             ],
             [
              1,
              "#f0f921"
             ]
            ],
            "type": "heatmap"
           }
          ],
          "heatmapgl": [
           {
            "colorbar": {
             "outlinewidth": 0,
             "ticks": ""
            },
            "colorscale": [
             [
              0,
              "#0d0887"
             ],
             [
              0.1111111111111111,
              "#46039f"
             ],
             [
              0.2222222222222222,
              "#7201a8"
             ],
             [
              0.3333333333333333,
              "#9c179e"
             ],
             [
              0.4444444444444444,
              "#bd3786"
             ],
             [
              0.5555555555555556,
              "#d8576b"
             ],
             [
              0.6666666666666666,
              "#ed7953"
             ],
             [
              0.7777777777777778,
              "#fb9f3a"
             ],
             [
              0.8888888888888888,
              "#fdca26"
             ],
             [
              1,
              "#f0f921"
             ]
            ],
            "type": "heatmapgl"
           }
          ],
          "histogram": [
           {
            "marker": {
             "pattern": {
              "fillmode": "overlay",
              "size": 10,
              "solidity": 0.2
             }
            },
            "type": "histogram"
           }
          ],
          "histogram2d": [
           {
            "colorbar": {
             "outlinewidth": 0,
             "ticks": ""
            },
            "colorscale": [
             [
              0,
              "#0d0887"
             ],
             [
              0.1111111111111111,
              "#46039f"
             ],
             [
              0.2222222222222222,
              "#7201a8"
             ],
             [
              0.3333333333333333,
              "#9c179e"
             ],
             [
              0.4444444444444444,
              "#bd3786"
             ],
             [
              0.5555555555555556,
              "#d8576b"
             ],
             [
              0.6666666666666666,
              "#ed7953"
             ],
             [
              0.7777777777777778,
              "#fb9f3a"
             ],
             [
              0.8888888888888888,
              "#fdca26"
             ],
             [
              1,
              "#f0f921"
             ]
            ],
            "type": "histogram2d"
           }
          ],
          "histogram2dcontour": [
           {
            "colorbar": {
             "outlinewidth": 0,
             "ticks": ""
            },
            "colorscale": [
             [
              0,
              "#0d0887"
             ],
             [
              0.1111111111111111,
              "#46039f"
             ],
             [
              0.2222222222222222,
              "#7201a8"
             ],
             [
              0.3333333333333333,
              "#9c179e"
             ],
             [
              0.4444444444444444,
              "#bd3786"
             ],
             [
              0.5555555555555556,
              "#d8576b"
             ],
             [
              0.6666666666666666,
              "#ed7953"
             ],
             [
              0.7777777777777778,
              "#fb9f3a"
             ],
             [
              0.8888888888888888,
              "#fdca26"
             ],
             [
              1,
              "#f0f921"
             ]
            ],
            "type": "histogram2dcontour"
           }
          ],
          "mesh3d": [
           {
            "colorbar": {
             "outlinewidth": 0,
             "ticks": ""
            },
            "type": "mesh3d"
           }
          ],
          "parcoords": [
           {
            "line": {
             "colorbar": {
              "outlinewidth": 0,
              "ticks": ""
             }
            },
            "type": "parcoords"
           }
          ],
          "pie": [
           {
            "automargin": true,
            "type": "pie"
           }
          ],
          "scatter": [
           {
            "fillpattern": {
             "fillmode": "overlay",
             "size": 10,
             "solidity": 0.2
            },
            "type": "scatter"
           }
          ],
          "scatter3d": [
           {
            "line": {
             "colorbar": {
              "outlinewidth": 0,
              "ticks": ""
             }
            },
            "marker": {
             "colorbar": {
              "outlinewidth": 0,
              "ticks": ""
             }
            },
            "type": "scatter3d"
           }
          ],
          "scattercarpet": [
           {
            "marker": {
             "colorbar": {
              "outlinewidth": 0,
              "ticks": ""
             }
            },
            "type": "scattercarpet"
           }
          ],
          "scattergeo": [
           {
            "marker": {
             "colorbar": {
              "outlinewidth": 0,
              "ticks": ""
             }
            },
            "type": "scattergeo"
           }
          ],
          "scattergl": [
           {
            "marker": {
             "colorbar": {
              "outlinewidth": 0,
              "ticks": ""
             }
            },
            "type": "scattergl"
           }
          ],
          "scattermapbox": [
           {
            "marker": {
             "colorbar": {
              "outlinewidth": 0,
              "ticks": ""
             }
            },
            "type": "scattermapbox"
           }
          ],
          "scatterpolar": [
           {
            "marker": {
             "colorbar": {
              "outlinewidth": 0,
              "ticks": ""
             }
            },
            "type": "scatterpolar"
           }
          ],
          "scatterpolargl": [
           {
            "marker": {
             "colorbar": {
              "outlinewidth": 0,
              "ticks": ""
             }
            },
            "type": "scatterpolargl"
           }
          ],
          "scatterternary": [
           {
            "marker": {
             "colorbar": {
              "outlinewidth": 0,
              "ticks": ""
             }
            },
            "type": "scatterternary"
           }
          ],
          "surface": [
           {
            "colorbar": {
             "outlinewidth": 0,
             "ticks": ""
            },
            "colorscale": [
             [
              0,
              "#0d0887"
             ],
             [
              0.1111111111111111,
              "#46039f"
             ],
             [
              0.2222222222222222,
              "#7201a8"
             ],
             [
              0.3333333333333333,
              "#9c179e"
             ],
             [
              0.4444444444444444,
              "#bd3786"
             ],
             [
              0.5555555555555556,
              "#d8576b"
             ],
             [
              0.6666666666666666,
              "#ed7953"
             ],
             [
              0.7777777777777778,
              "#fb9f3a"
             ],
             [
              0.8888888888888888,
              "#fdca26"
             ],
             [
              1,
              "#f0f921"
             ]
            ],
            "type": "surface"
           }
          ],
          "table": [
           {
            "cells": {
             "fill": {
              "color": "#EBF0F8"
             },
             "line": {
              "color": "white"
             }
            },
            "header": {
             "fill": {
              "color": "#C8D4E3"
             },
             "line": {
              "color": "white"
             }
            },
            "type": "table"
           }
          ]
         },
         "layout": {
          "annotationdefaults": {
           "arrowcolor": "#2a3f5f",
           "arrowhead": 0,
           "arrowwidth": 1
          },
          "autotypenumbers": "strict",
          "coloraxis": {
           "colorbar": {
            "outlinewidth": 0,
            "ticks": ""
           }
          },
          "colorscale": {
           "diverging": [
            [
             0,
             "#8e0152"
            ],
            [
             0.1,
             "#c51b7d"
            ],
            [
             0.2,
             "#de77ae"
            ],
            [
             0.3,
             "#f1b6da"
            ],
            [
             0.4,
             "#fde0ef"
            ],
            [
             0.5,
             "#f7f7f7"
            ],
            [
             0.6,
             "#e6f5d0"
            ],
            [
             0.7,
             "#b8e186"
            ],
            [
             0.8,
             "#7fbc41"
            ],
            [
             0.9,
             "#4d9221"
            ],
            [
             1,
             "#276419"
            ]
           ],
           "sequential": [
            [
             0,
             "#0d0887"
            ],
            [
             0.1111111111111111,
             "#46039f"
            ],
            [
             0.2222222222222222,
             "#7201a8"
            ],
            [
             0.3333333333333333,
             "#9c179e"
            ],
            [
             0.4444444444444444,
             "#bd3786"
            ],
            [
             0.5555555555555556,
             "#d8576b"
            ],
            [
             0.6666666666666666,
             "#ed7953"
            ],
            [
             0.7777777777777778,
             "#fb9f3a"
            ],
            [
             0.8888888888888888,
             "#fdca26"
            ],
            [
             1,
             "#f0f921"
            ]
           ],
           "sequentialminus": [
            [
             0,
             "#0d0887"
            ],
            [
             0.1111111111111111,
             "#46039f"
            ],
            [
             0.2222222222222222,
             "#7201a8"
            ],
            [
             0.3333333333333333,
             "#9c179e"
            ],
            [
             0.4444444444444444,
             "#bd3786"
            ],
            [
             0.5555555555555556,
             "#d8576b"
            ],
            [
             0.6666666666666666,
             "#ed7953"
            ],
            [
             0.7777777777777778,
             "#fb9f3a"
            ],
            [
             0.8888888888888888,
             "#fdca26"
            ],
            [
             1,
             "#f0f921"
            ]
           ]
          },
          "colorway": [
           "#636efa",
           "#EF553B",
           "#00cc96",
           "#ab63fa",
           "#FFA15A",
           "#19d3f3",
           "#FF6692",
           "#B6E880",
           "#FF97FF",
           "#FECB52"
          ],
          "font": {
           "color": "#2a3f5f"
          },
          "geo": {
           "bgcolor": "white",
           "lakecolor": "white",
           "landcolor": "#E5ECF6",
           "showlakes": true,
           "showland": true,
           "subunitcolor": "white"
          },
          "hoverlabel": {
           "align": "left"
          },
          "hovermode": "closest",
          "mapbox": {
           "style": "light"
          },
          "paper_bgcolor": "white",
          "plot_bgcolor": "#E5ECF6",
          "polar": {
           "angularaxis": {
            "gridcolor": "white",
            "linecolor": "white",
            "ticks": ""
           },
           "bgcolor": "#E5ECF6",
           "radialaxis": {
            "gridcolor": "white",
            "linecolor": "white",
            "ticks": ""
           }
          },
          "scene": {
           "xaxis": {
            "backgroundcolor": "#E5ECF6",
            "gridcolor": "white",
            "gridwidth": 2,
            "linecolor": "white",
            "showbackground": true,
            "ticks": "",
            "zerolinecolor": "white"
           },
           "yaxis": {
            "backgroundcolor": "#E5ECF6",
            "gridcolor": "white",
            "gridwidth": 2,
            "linecolor": "white",
            "showbackground": true,
            "ticks": "",
            "zerolinecolor": "white"
           },
           "zaxis": {
            "backgroundcolor": "#E5ECF6",
            "gridcolor": "white",
            "gridwidth": 2,
            "linecolor": "white",
            "showbackground": true,
            "ticks": "",
            "zerolinecolor": "white"
           }
          },
          "shapedefaults": {
           "line": {
            "color": "#2a3f5f"
           }
          },
          "ternary": {
           "aaxis": {
            "gridcolor": "white",
            "linecolor": "white",
            "ticks": ""
           },
           "baxis": {
            "gridcolor": "white",
            "linecolor": "white",
            "ticks": ""
           },
           "bgcolor": "#E5ECF6",
           "caxis": {
            "gridcolor": "white",
            "linecolor": "white",
            "ticks": ""
           }
          },
          "title": {
           "x": 0.05
          },
          "xaxis": {
           "automargin": true,
           "gridcolor": "white",
           "linecolor": "white",
           "ticks": "",
           "title": {
            "standoff": 15
           },
           "zerolinecolor": "white",
           "zerolinewidth": 2
          },
          "yaxis": {
           "automargin": true,
           "gridcolor": "white",
           "linecolor": "white",
           "ticks": "",
           "title": {
            "standoff": 15
           },
           "zerolinecolor": "white",
           "zerolinewidth": 2
          }
         }
        },
        "title": {
         "text": "Frequency of Cuisines"
        },
        "uniformtext": {
         "minsize": 8
        },
        "xaxis": {
         "anchor": "y",
         "domain": [
          0,
          1
         ],
         "title": {
          "text": "Cuisine"
         }
        },
        "yaxis": {
         "anchor": "x",
         "domain": [
          0,
          1
         ],
         "title": {
          "text": "Count of Cuisine"
         }
        }
       }
      }
     },
     "metadata": {},
     "output_type": "display_data"
    }
   ],
   "source": [
    "fig2 = px.bar(cuisine_counts, \n",
    "              x = 'Cuisine', \n",
    "              y = 'Count', \n",
    "              title = 'Frequency of Cuisines', \n",
    "              labels = {'Count' : 'Count of Cuisine'},\n",
    "              text_auto= True)\n",
    "fig2.update_traces(textposition='inside')\n",
    "fig2.update_layout(uniformtext_minsize=8) \n",
    "fig2.show()"
   ]
  },
  {
   "cell_type": "code",
   "execution_count": 26,
   "id": "3a01d07b",
   "metadata": {},
   "outputs": [
    {
     "data": {
      "application/vnd.plotly.v1+json": {
       "config": {
        "plotlyServerURL": "https://plot.ly"
       },
       "data": [
        {
         "alignmentgroup": "True",
         "bingroup": "x",
         "histfunc": "sum",
         "hovertemplate": "Rating=%{x}<br>sum of Count=%{y}<extra></extra>",
         "legendgroup": "",
         "marker": {
          "color": "#636efa",
          "pattern": {
           "shape": ""
          }
         },
         "name": "",
         "offsetgroup": "",
         "orientation": "v",
         "showlegend": false,
         "textposition": "inside",
         "type": "histogram",
         "x": [
          9.2,
          7.7,
          9.7,
          9.9,
          8.6,
          8.2,
          8.4,
          6.9,
          9.3,
          7.4,
          7.9,
          7.2,
          7,
          10,
          7.8,
          9.4,
          8.7,
          8.3,
          8,
          6.7,
          7.3,
          5,
          6.8,
          7.1,
          7.5,
          8.1,
          8.5,
          6.2,
          5.6,
          9.5,
          4,
          3.4
         ],
         "xaxis": "x",
         "y": [
          13,
          7,
          7,
          4,
          4,
          4,
          4,
          3,
          3,
          3,
          3,
          3,
          3,
          3,
          2,
          2,
          2,
          2,
          2,
          2,
          2,
          2,
          2,
          2,
          1,
          1,
          1,
          1,
          1,
          1,
          1,
          1
         ],
         "yaxis": "y"
        }
       ],
       "layout": {
        "barmode": "relative",
        "legend": {
         "tracegroupgap": 0
        },
        "template": {
         "data": {
          "bar": [
           {
            "error_x": {
             "color": "#2a3f5f"
            },
            "error_y": {
             "color": "#2a3f5f"
            },
            "marker": {
             "line": {
              "color": "#E5ECF6",
              "width": 0.5
             },
             "pattern": {
              "fillmode": "overlay",
              "size": 10,
              "solidity": 0.2
             }
            },
            "type": "bar"
           }
          ],
          "barpolar": [
           {
            "marker": {
             "line": {
              "color": "#E5ECF6",
              "width": 0.5
             },
             "pattern": {
              "fillmode": "overlay",
              "size": 10,
              "solidity": 0.2
             }
            },
            "type": "barpolar"
           }
          ],
          "carpet": [
           {
            "aaxis": {
             "endlinecolor": "#2a3f5f",
             "gridcolor": "white",
             "linecolor": "white",
             "minorgridcolor": "white",
             "startlinecolor": "#2a3f5f"
            },
            "baxis": {
             "endlinecolor": "#2a3f5f",
             "gridcolor": "white",
             "linecolor": "white",
             "minorgridcolor": "white",
             "startlinecolor": "#2a3f5f"
            },
            "type": "carpet"
           }
          ],
          "choropleth": [
           {
            "colorbar": {
             "outlinewidth": 0,
             "ticks": ""
            },
            "type": "choropleth"
           }
          ],
          "contour": [
           {
            "colorbar": {
             "outlinewidth": 0,
             "ticks": ""
            },
            "colorscale": [
             [
              0,
              "#0d0887"
             ],
             [
              0.1111111111111111,
              "#46039f"
             ],
             [
              0.2222222222222222,
              "#7201a8"
             ],
             [
              0.3333333333333333,
              "#9c179e"
             ],
             [
              0.4444444444444444,
              "#bd3786"
             ],
             [
              0.5555555555555556,
              "#d8576b"
             ],
             [
              0.6666666666666666,
              "#ed7953"
             ],
             [
              0.7777777777777778,
              "#fb9f3a"
             ],
             [
              0.8888888888888888,
              "#fdca26"
             ],
             [
              1,
              "#f0f921"
             ]
            ],
            "type": "contour"
           }
          ],
          "contourcarpet": [
           {
            "colorbar": {
             "outlinewidth": 0,
             "ticks": ""
            },
            "type": "contourcarpet"
           }
          ],
          "heatmap": [
           {
            "colorbar": {
             "outlinewidth": 0,
             "ticks": ""
            },
            "colorscale": [
             [
              0,
              "#0d0887"
             ],
             [
              0.1111111111111111,
              "#46039f"
             ],
             [
              0.2222222222222222,
              "#7201a8"
             ],
             [
              0.3333333333333333,
              "#9c179e"
             ],
             [
              0.4444444444444444,
              "#bd3786"
             ],
             [
              0.5555555555555556,
              "#d8576b"
             ],
             [
              0.6666666666666666,
              "#ed7953"
             ],
             [
              0.7777777777777778,
              "#fb9f3a"
             ],
             [
              0.8888888888888888,
              "#fdca26"
             ],
             [
              1,
              "#f0f921"
             ]
            ],
            "type": "heatmap"
           }
          ],
          "heatmapgl": [
           {
            "colorbar": {
             "outlinewidth": 0,
             "ticks": ""
            },
            "colorscale": [
             [
              0,
              "#0d0887"
             ],
             [
              0.1111111111111111,
              "#46039f"
             ],
             [
              0.2222222222222222,
              "#7201a8"
             ],
             [
              0.3333333333333333,
              "#9c179e"
             ],
             [
              0.4444444444444444,
              "#bd3786"
             ],
             [
              0.5555555555555556,
              "#d8576b"
             ],
             [
              0.6666666666666666,
              "#ed7953"
             ],
             [
              0.7777777777777778,
              "#fb9f3a"
             ],
             [
              0.8888888888888888,
              "#fdca26"
             ],
             [
              1,
              "#f0f921"
             ]
            ],
            "type": "heatmapgl"
           }
          ],
          "histogram": [
           {
            "marker": {
             "pattern": {
              "fillmode": "overlay",
              "size": 10,
              "solidity": 0.2
             }
            },
            "type": "histogram"
           }
          ],
          "histogram2d": [
           {
            "colorbar": {
             "outlinewidth": 0,
             "ticks": ""
            },
            "colorscale": [
             [
              0,
              "#0d0887"
             ],
             [
              0.1111111111111111,
              "#46039f"
             ],
             [
              0.2222222222222222,
              "#7201a8"
             ],
             [
              0.3333333333333333,
              "#9c179e"
             ],
             [
              0.4444444444444444,
              "#bd3786"
             ],
             [
              0.5555555555555556,
              "#d8576b"
             ],
             [
              0.6666666666666666,
              "#ed7953"
             ],
             [
              0.7777777777777778,
              "#fb9f3a"
             ],
             [
              0.8888888888888888,
              "#fdca26"
             ],
             [
              1,
              "#f0f921"
             ]
            ],
            "type": "histogram2d"
           }
          ],
          "histogram2dcontour": [
           {
            "colorbar": {
             "outlinewidth": 0,
             "ticks": ""
            },
            "colorscale": [
             [
              0,
              "#0d0887"
             ],
             [
              0.1111111111111111,
              "#46039f"
             ],
             [
              0.2222222222222222,
              "#7201a8"
             ],
             [
              0.3333333333333333,
              "#9c179e"
             ],
             [
              0.4444444444444444,
              "#bd3786"
             ],
             [
              0.5555555555555556,
              "#d8576b"
             ],
             [
              0.6666666666666666,
              "#ed7953"
             ],
             [
              0.7777777777777778,
              "#fb9f3a"
             ],
             [
              0.8888888888888888,
              "#fdca26"
             ],
             [
              1,
              "#f0f921"
             ]
            ],
            "type": "histogram2dcontour"
           }
          ],
          "mesh3d": [
           {
            "colorbar": {
             "outlinewidth": 0,
             "ticks": ""
            },
            "type": "mesh3d"
           }
          ],
          "parcoords": [
           {
            "line": {
             "colorbar": {
              "outlinewidth": 0,
              "ticks": ""
             }
            },
            "type": "parcoords"
           }
          ],
          "pie": [
           {
            "automargin": true,
            "type": "pie"
           }
          ],
          "scatter": [
           {
            "fillpattern": {
             "fillmode": "overlay",
             "size": 10,
             "solidity": 0.2
            },
            "type": "scatter"
           }
          ],
          "scatter3d": [
           {
            "line": {
             "colorbar": {
              "outlinewidth": 0,
              "ticks": ""
             }
            },
            "marker": {
             "colorbar": {
              "outlinewidth": 0,
              "ticks": ""
             }
            },
            "type": "scatter3d"
           }
          ],
          "scattercarpet": [
           {
            "marker": {
             "colorbar": {
              "outlinewidth": 0,
              "ticks": ""
             }
            },
            "type": "scattercarpet"
           }
          ],
          "scattergeo": [
           {
            "marker": {
             "colorbar": {
              "outlinewidth": 0,
              "ticks": ""
             }
            },
            "type": "scattergeo"
           }
          ],
          "scattergl": [
           {
            "marker": {
             "colorbar": {
              "outlinewidth": 0,
              "ticks": ""
             }
            },
            "type": "scattergl"
           }
          ],
          "scattermapbox": [
           {
            "marker": {
             "colorbar": {
              "outlinewidth": 0,
              "ticks": ""
             }
            },
            "type": "scattermapbox"
           }
          ],
          "scatterpolar": [
           {
            "marker": {
             "colorbar": {
              "outlinewidth": 0,
              "ticks": ""
             }
            },
            "type": "scatterpolar"
           }
          ],
          "scatterpolargl": [
           {
            "marker": {
             "colorbar": {
              "outlinewidth": 0,
              "ticks": ""
             }
            },
            "type": "scatterpolargl"
           }
          ],
          "scatterternary": [
           {
            "marker": {
             "colorbar": {
              "outlinewidth": 0,
              "ticks": ""
             }
            },
            "type": "scatterternary"
           }
          ],
          "surface": [
           {
            "colorbar": {
             "outlinewidth": 0,
             "ticks": ""
            },
            "colorscale": [
             [
              0,
              "#0d0887"
             ],
             [
              0.1111111111111111,
              "#46039f"
             ],
             [
              0.2222222222222222,
              "#7201a8"
             ],
             [
              0.3333333333333333,
              "#9c179e"
             ],
             [
              0.4444444444444444,
              "#bd3786"
             ],
             [
              0.5555555555555556,
              "#d8576b"
             ],
             [
              0.6666666666666666,
              "#ed7953"
             ],
             [
              0.7777777777777778,
              "#fb9f3a"
             ],
             [
              0.8888888888888888,
              "#fdca26"
             ],
             [
              1,
              "#f0f921"
             ]
            ],
            "type": "surface"
           }
          ],
          "table": [
           {
            "cells": {
             "fill": {
              "color": "#EBF0F8"
             },
             "line": {
              "color": "white"
             }
            },
            "header": {
             "fill": {
              "color": "#C8D4E3"
             },
             "line": {
              "color": "white"
             }
            },
            "type": "table"
           }
          ]
         },
         "layout": {
          "annotationdefaults": {
           "arrowcolor": "#2a3f5f",
           "arrowhead": 0,
           "arrowwidth": 1
          },
          "autotypenumbers": "strict",
          "coloraxis": {
           "colorbar": {
            "outlinewidth": 0,
            "ticks": ""
           }
          },
          "colorscale": {
           "diverging": [
            [
             0,
             "#8e0152"
            ],
            [
             0.1,
             "#c51b7d"
            ],
            [
             0.2,
             "#de77ae"
            ],
            [
             0.3,
             "#f1b6da"
            ],
            [
             0.4,
             "#fde0ef"
            ],
            [
             0.5,
             "#f7f7f7"
            ],
            [
             0.6,
             "#e6f5d0"
            ],
            [
             0.7,
             "#b8e186"
            ],
            [
             0.8,
             "#7fbc41"
            ],
            [
             0.9,
             "#4d9221"
            ],
            [
             1,
             "#276419"
            ]
           ],
           "sequential": [
            [
             0,
             "#0d0887"
            ],
            [
             0.1111111111111111,
             "#46039f"
            ],
            [
             0.2222222222222222,
             "#7201a8"
            ],
            [
             0.3333333333333333,
             "#9c179e"
            ],
            [
             0.4444444444444444,
             "#bd3786"
            ],
            [
             0.5555555555555556,
             "#d8576b"
            ],
            [
             0.6666666666666666,
             "#ed7953"
            ],
            [
             0.7777777777777778,
             "#fb9f3a"
            ],
            [
             0.8888888888888888,
             "#fdca26"
            ],
            [
             1,
             "#f0f921"
            ]
           ],
           "sequentialminus": [
            [
             0,
             "#0d0887"
            ],
            [
             0.1111111111111111,
             "#46039f"
            ],
            [
             0.2222222222222222,
             "#7201a8"
            ],
            [
             0.3333333333333333,
             "#9c179e"
            ],
            [
             0.4444444444444444,
             "#bd3786"
            ],
            [
             0.5555555555555556,
             "#d8576b"
            ],
            [
             0.6666666666666666,
             "#ed7953"
            ],
            [
             0.7777777777777778,
             "#fb9f3a"
            ],
            [
             0.8888888888888888,
             "#fdca26"
            ],
            [
             1,
             "#f0f921"
            ]
           ]
          },
          "colorway": [
           "#636efa",
           "#EF553B",
           "#00cc96",
           "#ab63fa",
           "#FFA15A",
           "#19d3f3",
           "#FF6692",
           "#B6E880",
           "#FF97FF",
           "#FECB52"
          ],
          "font": {
           "color": "#2a3f5f"
          },
          "geo": {
           "bgcolor": "white",
           "lakecolor": "white",
           "landcolor": "#E5ECF6",
           "showlakes": true,
           "showland": true,
           "subunitcolor": "white"
          },
          "hoverlabel": {
           "align": "left"
          },
          "hovermode": "closest",
          "mapbox": {
           "style": "light"
          },
          "paper_bgcolor": "white",
          "plot_bgcolor": "#E5ECF6",
          "polar": {
           "angularaxis": {
            "gridcolor": "white",
            "linecolor": "white",
            "ticks": ""
           },
           "bgcolor": "#E5ECF6",
           "radialaxis": {
            "gridcolor": "white",
            "linecolor": "white",
            "ticks": ""
           }
          },
          "scene": {
           "xaxis": {
            "backgroundcolor": "#E5ECF6",
            "gridcolor": "white",
            "gridwidth": 2,
            "linecolor": "white",
            "showbackground": true,
            "ticks": "",
            "zerolinecolor": "white"
           },
           "yaxis": {
            "backgroundcolor": "#E5ECF6",
            "gridcolor": "white",
            "gridwidth": 2,
            "linecolor": "white",
            "showbackground": true,
            "ticks": "",
            "zerolinecolor": "white"
           },
           "zaxis": {
            "backgroundcolor": "#E5ECF6",
            "gridcolor": "white",
            "gridwidth": 2,
            "linecolor": "white",
            "showbackground": true,
            "ticks": "",
            "zerolinecolor": "white"
           }
          },
          "shapedefaults": {
           "line": {
            "color": "#2a3f5f"
           }
          },
          "ternary": {
           "aaxis": {
            "gridcolor": "white",
            "linecolor": "white",
            "ticks": ""
           },
           "baxis": {
            "gridcolor": "white",
            "linecolor": "white",
            "ticks": ""
           },
           "bgcolor": "#E5ECF6",
           "caxis": {
            "gridcolor": "white",
            "linecolor": "white",
            "ticks": ""
           }
          },
          "title": {
           "x": 0.05
          },
          "xaxis": {
           "automargin": true,
           "gridcolor": "white",
           "linecolor": "white",
           "ticks": "",
           "title": {
            "standoff": 15
           },
           "zerolinecolor": "white",
           "zerolinewidth": 2
          },
          "yaxis": {
           "automargin": true,
           "gridcolor": "white",
           "linecolor": "white",
           "ticks": "",
           "title": {
            "standoff": 15
           },
           "zerolinecolor": "white",
           "zerolinewidth": 2
          }
         }
        },
        "title": {
         "text": "Distribution of Ratings of Restaurants"
        },
        "uniformtext": {
         "minsize": 8
        },
        "xaxis": {
         "anchor": "y",
         "domain": [
          0,
          1
         ],
         "title": {
          "text": "Rating"
         }
        },
        "yaxis": {
         "anchor": "x",
         "domain": [
          0,
          1
         ],
         "title": {
          "text": "sum of Count"
         }
        }
       }
      }
     },
     "metadata": {},
     "output_type": "display_data"
    }
   ],
   "source": [
    "ratings_count = df['Ratings'].value_counts().reset_index()\n",
    "\n",
    "ratings_count.columns = ['Rating', 'Count']\n",
    "\n",
    "ratings_count = ratings_count.sort_values('Count', ascending=False).reset_index(drop=True)\n",
    "\n",
    "fig3 = px.histogram(ratings_count, x = 'Rating', y = 'Count',\n",
    "             title = 'Distribution of Ratings of Restaurants',\n",
    "             labels = {'value' : 'Frequency'})\n",
    "fig3.update_traces(textposition='inside')\n",
    "fig3.update_layout(uniformtext_minsize=8) \n",
    "fig3.show()"
   ]
  },
  {
   "cell_type": "code",
   "execution_count": 27,
   "id": "ecaba9a5",
   "metadata": {},
   "outputs": [
    {
     "data": {
      "text/html": [
       "<div>\n",
       "<style scoped>\n",
       "    .dataframe tbody tr th:only-of-type {\n",
       "        vertical-align: middle;\n",
       "    }\n",
       "\n",
       "    .dataframe tbody tr th {\n",
       "        vertical-align: top;\n",
       "    }\n",
       "\n",
       "    .dataframe thead th {\n",
       "        text-align: right;\n",
       "    }\n",
       "</style>\n",
       "<table border=\"1\" class=\"dataframe\">\n",
       "  <thead>\n",
       "    <tr style=\"text-align: right;\">\n",
       "      <th></th>\n",
       "      <th>Location</th>\n",
       "      <th>mean</th>\n",
       "      <th>count</th>\n",
       "    </tr>\n",
       "  </thead>\n",
       "  <tbody>\n",
       "    <tr>\n",
       "      <th>0</th>\n",
       "      <td>Avalon</td>\n",
       "      <td>7.000000</td>\n",
       "      <td>1</td>\n",
       "    </tr>\n",
       "    <tr>\n",
       "      <th>1</th>\n",
       "      <td>Captain Cook</td>\n",
       "      <td>9.200000</td>\n",
       "      <td>1</td>\n",
       "    </tr>\n",
       "    <tr>\n",
       "      <th>2</th>\n",
       "      <td>Chula Vista</td>\n",
       "      <td>9.900000</td>\n",
       "      <td>1</td>\n",
       "    </tr>\n",
       "    <tr>\n",
       "      <th>3</th>\n",
       "      <td>City Heights</td>\n",
       "      <td>10.000000</td>\n",
       "      <td>1</td>\n",
       "    </tr>\n",
       "    <tr>\n",
       "      <th>4</th>\n",
       "      <td>Clairemont</td>\n",
       "      <td>9.700000</td>\n",
       "      <td>1</td>\n",
       "    </tr>\n",
       "    <tr>\n",
       "      <th>5</th>\n",
       "      <td>Del Mar</td>\n",
       "      <td>8.600000</td>\n",
       "      <td>1</td>\n",
       "    </tr>\n",
       "    <tr>\n",
       "      <th>6</th>\n",
       "      <td>Dublin</td>\n",
       "      <td>7.966667</td>\n",
       "      <td>3</td>\n",
       "    </tr>\n",
       "    <tr>\n",
       "      <th>7</th>\n",
       "      <td>Food Truck</td>\n",
       "      <td>8.000000</td>\n",
       "      <td>1</td>\n",
       "    </tr>\n",
       "    <tr>\n",
       "      <th>8</th>\n",
       "      <td>Hillcrest</td>\n",
       "      <td>7.100000</td>\n",
       "      <td>1</td>\n",
       "    </tr>\n",
       "    <tr>\n",
       "      <th>9</th>\n",
       "      <td>Kailua-Kona</td>\n",
       "      <td>7.550000</td>\n",
       "      <td>2</td>\n",
       "    </tr>\n",
       "    <tr>\n",
       "      <th>10</th>\n",
       "      <td>Kearny Mesa</td>\n",
       "      <td>9.200000</td>\n",
       "      <td>4</td>\n",
       "    </tr>\n",
       "    <tr>\n",
       "      <th>11</th>\n",
       "      <td>La Jolla</td>\n",
       "      <td>8.109091</td>\n",
       "      <td>22</td>\n",
       "    </tr>\n",
       "    <tr>\n",
       "      <th>12</th>\n",
       "      <td>La Jolla Village</td>\n",
       "      <td>7.700000</td>\n",
       "      <td>2</td>\n",
       "    </tr>\n",
       "    <tr>\n",
       "      <th>13</th>\n",
       "      <td>Little Italy</td>\n",
       "      <td>8.700000</td>\n",
       "      <td>3</td>\n",
       "    </tr>\n",
       "    <tr>\n",
       "      <th>14</th>\n",
       "      <td>Livermore</td>\n",
       "      <td>7.250000</td>\n",
       "      <td>2</td>\n",
       "    </tr>\n",
       "    <tr>\n",
       "      <th>15</th>\n",
       "      <td>Lower Pacific Heights</td>\n",
       "      <td>9.200000</td>\n",
       "      <td>1</td>\n",
       "    </tr>\n",
       "    <tr>\n",
       "      <th>16</th>\n",
       "      <td>Midtown Manhattan</td>\n",
       "      <td>9.400000</td>\n",
       "      <td>1</td>\n",
       "    </tr>\n",
       "    <tr>\n",
       "      <th>17</th>\n",
       "      <td>Mira Mesa</td>\n",
       "      <td>8.575000</td>\n",
       "      <td>4</td>\n",
       "    </tr>\n",
       "    <tr>\n",
       "      <th>18</th>\n",
       "      <td>Near North</td>\n",
       "      <td>7.350000</td>\n",
       "      <td>2</td>\n",
       "    </tr>\n",
       "    <tr>\n",
       "      <th>19</th>\n",
       "      <td>North Beach</td>\n",
       "      <td>8.850000</td>\n",
       "      <td>2</td>\n",
       "    </tr>\n",
       "    <tr>\n",
       "      <th>20</th>\n",
       "      <td>North Park</td>\n",
       "      <td>7.100000</td>\n",
       "      <td>2</td>\n",
       "    </tr>\n",
       "    <tr>\n",
       "      <th>21</th>\n",
       "      <td>Northwest Carmel</td>\n",
       "      <td>9.200000</td>\n",
       "      <td>1</td>\n",
       "    </tr>\n",
       "    <tr>\n",
       "      <th>22</th>\n",
       "      <td>Old Town</td>\n",
       "      <td>8.266667</td>\n",
       "      <td>3</td>\n",
       "    </tr>\n",
       "    <tr>\n",
       "      <th>23</th>\n",
       "      <td>Pacific Beach</td>\n",
       "      <td>9.900000</td>\n",
       "      <td>1</td>\n",
       "    </tr>\n",
       "    <tr>\n",
       "      <th>24</th>\n",
       "      <td>Pleasanton</td>\n",
       "      <td>7.650000</td>\n",
       "      <td>6</td>\n",
       "    </tr>\n",
       "    <tr>\n",
       "      <th>25</th>\n",
       "      <td>River North</td>\n",
       "      <td>7.800000</td>\n",
       "      <td>2</td>\n",
       "    </tr>\n",
       "    <tr>\n",
       "      <th>26</th>\n",
       "      <td>San Diego</td>\n",
       "      <td>8.500000</td>\n",
       "      <td>1</td>\n",
       "    </tr>\n",
       "    <tr>\n",
       "      <th>27</th>\n",
       "      <td>San Ramon</td>\n",
       "      <td>7.000000</td>\n",
       "      <td>1</td>\n",
       "    </tr>\n",
       "    <tr>\n",
       "      <th>28</th>\n",
       "      <td>Sorrento Mesa</td>\n",
       "      <td>7.700000</td>\n",
       "      <td>1</td>\n",
       "    </tr>\n",
       "    <tr>\n",
       "      <th>29</th>\n",
       "      <td>South Village</td>\n",
       "      <td>7.800000</td>\n",
       "      <td>1</td>\n",
       "    </tr>\n",
       "    <tr>\n",
       "      <th>30</th>\n",
       "      <td>Tenderloin</td>\n",
       "      <td>9.300000</td>\n",
       "      <td>1</td>\n",
       "    </tr>\n",
       "    <tr>\n",
       "      <th>31</th>\n",
       "      <td>The Heights</td>\n",
       "      <td>6.700000</td>\n",
       "      <td>1</td>\n",
       "    </tr>\n",
       "    <tr>\n",
       "      <th>32</th>\n",
       "      <td>Union Street</td>\n",
       "      <td>8.100000</td>\n",
       "      <td>1</td>\n",
       "    </tr>\n",
       "    <tr>\n",
       "      <th>33</th>\n",
       "      <td>University City</td>\n",
       "      <td>7.840000</td>\n",
       "      <td>10</td>\n",
       "    </tr>\n",
       "    <tr>\n",
       "      <th>34</th>\n",
       "      <td>Village of La Jolla</td>\n",
       "      <td>8.200000</td>\n",
       "      <td>3</td>\n",
       "    </tr>\n",
       "    <tr>\n",
       "      <th>35</th>\n",
       "      <td>Yerba Buena</td>\n",
       "      <td>9.200000</td>\n",
       "      <td>1</td>\n",
       "    </tr>\n",
       "  </tbody>\n",
       "</table>\n",
       "</div>"
      ],
      "text/plain": [
       "                 Location       mean  count\n",
       "0                  Avalon   7.000000      1\n",
       "1            Captain Cook   9.200000      1\n",
       "2             Chula Vista   9.900000      1\n",
       "3            City Heights  10.000000      1\n",
       "4              Clairemont   9.700000      1\n",
       "5                 Del Mar   8.600000      1\n",
       "6                  Dublin   7.966667      3\n",
       "7              Food Truck   8.000000      1\n",
       "8               Hillcrest   7.100000      1\n",
       "9             Kailua-Kona   7.550000      2\n",
       "10            Kearny Mesa   9.200000      4\n",
       "11               La Jolla   8.109091     22\n",
       "12       La Jolla Village   7.700000      2\n",
       "13           Little Italy   8.700000      3\n",
       "14              Livermore   7.250000      2\n",
       "15  Lower Pacific Heights   9.200000      1\n",
       "16      Midtown Manhattan   9.400000      1\n",
       "17              Mira Mesa   8.575000      4\n",
       "18             Near North   7.350000      2\n",
       "19            North Beach   8.850000      2\n",
       "20             North Park   7.100000      2\n",
       "21       Northwest Carmel   9.200000      1\n",
       "22               Old Town   8.266667      3\n",
       "23          Pacific Beach   9.900000      1\n",
       "24             Pleasanton   7.650000      6\n",
       "25            River North   7.800000      2\n",
       "26              San Diego   8.500000      1\n",
       "27              San Ramon   7.000000      1\n",
       "28          Sorrento Mesa   7.700000      1\n",
       "29          South Village   7.800000      1\n",
       "30             Tenderloin   9.300000      1\n",
       "31            The Heights   6.700000      1\n",
       "32           Union Street   8.100000      1\n",
       "33        University City   7.840000     10\n",
       "34    Village of La Jolla   8.200000      3\n",
       "35            Yerba Buena   9.200000      1"
      ]
     },
     "execution_count": 27,
     "metadata": {},
     "output_type": "execute_result"
    }
   ],
   "source": [
    "location_ratings = df.groupby('Location')['Ratings'].agg(['mean', 'count']).reset_index()\n",
    "location_ratings"
   ]
  },
  {
   "cell_type": "code",
   "execution_count": 28,
   "id": "32105ecf",
   "metadata": {},
   "outputs": [
    {
     "data": {
      "application/vnd.plotly.v1+json": {
       "config": {
        "plotlyServerURL": "https://plot.ly"
       },
       "data": [
        {
         "alignmentgroup": "True",
         "hovertemplate": "Location=%{x}<br>Ratings=%{y}<extra></extra>",
         "legendgroup": "",
         "marker": {
          "color": "#636efa"
         },
         "name": "",
         "notched": false,
         "offsetgroup": "",
         "orientation": "v",
         "showlegend": false,
         "type": "box",
         "x": [
          "City Heights",
          "Kearny Mesa",
          "Pleasanton",
          "Village of La Jolla",
          "Chula Vista",
          "Pacific Beach",
          "La Jolla",
          "Village of La Jolla",
          "La Jolla",
          "University City",
          "Clairemont",
          "Kearny Mesa",
          "Mira Mesa",
          "La Jolla",
          "Little Italy",
          "La Jolla",
          "Midtown Manhattan",
          "Tenderloin",
          "North Beach",
          "University City",
          "Kearny Mesa",
          "Yerba Buena",
          "Lower Pacific Heights",
          "Old Town",
          "Captain Cook",
          "University City",
          "University City",
          "La Jolla",
          "Northwest Carmel",
          "La Jolla",
          "La Jolla",
          "La Jolla",
          "North Park",
          "Dublin",
          "River North",
          "Mira Mesa",
          "La Jolla",
          "Mira Mesa",
          "Del Mar",
          "San Diego",
          "North Beach",
          "Dublin",
          "Old Town",
          "Little Italy",
          "La Jolla",
          "Livermore",
          "Little Italy",
          "La Jolla",
          "University City",
          "University City",
          "Union Street",
          "Food Truck",
          "Pleasanton",
          "Kearny Mesa",
          "La Jolla",
          "University City",
          "South Village",
          "La Jolla",
          "Near North",
          "Kailua-Kona",
          "Sorrento Mesa",
          "La Jolla Village",
          "La Jolla",
          "University City",
          "La Jolla Village",
          "La Jolla",
          "Kailua-Kona",
          "La Jolla",
          "Mira Mesa",
          "Pleasanton",
          "La Jolla",
          "La Jolla",
          "La Jolla",
          "Old Town",
          "La Jolla",
          "Hillcrest",
          "Near North",
          "Avalon",
          "San Ramon",
          "Pleasanton",
          "River North",
          "Pleasanton",
          "Dublin",
          "Pleasanton",
          "La Jolla",
          "The Heights",
          "Livermore",
          "University City",
          "North Park",
          "Village of La Jolla",
          "La Jolla",
          "University City"
         ],
         "x0": " ",
         "xaxis": "x",
         "y": [
          10,
          10,
          10,
          9.9,
          9.9,
          9.9,
          9.9,
          9.7,
          9.7,
          9.7,
          9.7,
          9.7,
          9.7,
          9.7,
          9.5,
          9.4,
          9.4,
          9.3,
          9.3,
          9.3,
          9.2,
          9.2,
          9.2,
          9.2,
          9.2,
          9.2,
          9.2,
          9.2,
          9.2,
          9.2,
          9.2,
          9.2,
          9.2,
          8.7,
          8.7,
          8.6,
          8.6,
          8.6,
          8.6,
          8.5,
          8.4,
          8.4,
          8.4,
          8.4,
          8.3,
          8.3,
          8.2,
          8.2,
          8.2,
          8.2,
          8.1,
          8,
          8,
          7.9,
          7.9,
          7.9,
          7.8,
          7.8,
          7.7,
          7.7,
          7.7,
          7.7,
          7.7,
          7.7,
          7.7,
          7.5,
          7.4,
          7.4,
          7.4,
          7.3,
          7.3,
          7.2,
          7.2,
          7.2,
          7.1,
          7.1,
          7,
          7,
          7,
          6.9,
          6.9,
          6.9,
          6.8,
          6.8,
          6.7,
          6.7,
          6.2,
          5.6,
          5,
          5,
          4,
          3.4
         ],
         "y0": " ",
         "yaxis": "y"
        }
       ],
       "layout": {
        "boxmode": "group",
        "legend": {
         "tracegroupgap": 0
        },
        "template": {
         "data": {
          "bar": [
           {
            "error_x": {
             "color": "#2a3f5f"
            },
            "error_y": {
             "color": "#2a3f5f"
            },
            "marker": {
             "line": {
              "color": "#E5ECF6",
              "width": 0.5
             },
             "pattern": {
              "fillmode": "overlay",
              "size": 10,
              "solidity": 0.2
             }
            },
            "type": "bar"
           }
          ],
          "barpolar": [
           {
            "marker": {
             "line": {
              "color": "#E5ECF6",
              "width": 0.5
             },
             "pattern": {
              "fillmode": "overlay",
              "size": 10,
              "solidity": 0.2
             }
            },
            "type": "barpolar"
           }
          ],
          "carpet": [
           {
            "aaxis": {
             "endlinecolor": "#2a3f5f",
             "gridcolor": "white",
             "linecolor": "white",
             "minorgridcolor": "white",
             "startlinecolor": "#2a3f5f"
            },
            "baxis": {
             "endlinecolor": "#2a3f5f",
             "gridcolor": "white",
             "linecolor": "white",
             "minorgridcolor": "white",
             "startlinecolor": "#2a3f5f"
            },
            "type": "carpet"
           }
          ],
          "choropleth": [
           {
            "colorbar": {
             "outlinewidth": 0,
             "ticks": ""
            },
            "type": "choropleth"
           }
          ],
          "contour": [
           {
            "colorbar": {
             "outlinewidth": 0,
             "ticks": ""
            },
            "colorscale": [
             [
              0,
              "#0d0887"
             ],
             [
              0.1111111111111111,
              "#46039f"
             ],
             [
              0.2222222222222222,
              "#7201a8"
             ],
             [
              0.3333333333333333,
              "#9c179e"
             ],
             [
              0.4444444444444444,
              "#bd3786"
             ],
             [
              0.5555555555555556,
              "#d8576b"
             ],
             [
              0.6666666666666666,
              "#ed7953"
             ],
             [
              0.7777777777777778,
              "#fb9f3a"
             ],
             [
              0.8888888888888888,
              "#fdca26"
             ],
             [
              1,
              "#f0f921"
             ]
            ],
            "type": "contour"
           }
          ],
          "contourcarpet": [
           {
            "colorbar": {
             "outlinewidth": 0,
             "ticks": ""
            },
            "type": "contourcarpet"
           }
          ],
          "heatmap": [
           {
            "colorbar": {
             "outlinewidth": 0,
             "ticks": ""
            },
            "colorscale": [
             [
              0,
              "#0d0887"
             ],
             [
              0.1111111111111111,
              "#46039f"
             ],
             [
              0.2222222222222222,
              "#7201a8"
             ],
             [
              0.3333333333333333,
              "#9c179e"
             ],
             [
              0.4444444444444444,
              "#bd3786"
             ],
             [
              0.5555555555555556,
              "#d8576b"
             ],
             [
              0.6666666666666666,
              "#ed7953"
             ],
             [
              0.7777777777777778,
              "#fb9f3a"
             ],
             [
              0.8888888888888888,
              "#fdca26"
             ],
             [
              1,
              "#f0f921"
             ]
            ],
            "type": "heatmap"
           }
          ],
          "heatmapgl": [
           {
            "colorbar": {
             "outlinewidth": 0,
             "ticks": ""
            },
            "colorscale": [
             [
              0,
              "#0d0887"
             ],
             [
              0.1111111111111111,
              "#46039f"
             ],
             [
              0.2222222222222222,
              "#7201a8"
             ],
             [
              0.3333333333333333,
              "#9c179e"
             ],
             [
              0.4444444444444444,
              "#bd3786"
             ],
             [
              0.5555555555555556,
              "#d8576b"
             ],
             [
              0.6666666666666666,
              "#ed7953"
             ],
             [
              0.7777777777777778,
              "#fb9f3a"
             ],
             [
              0.8888888888888888,
              "#fdca26"
             ],
             [
              1,
              "#f0f921"
             ]
            ],
            "type": "heatmapgl"
           }
          ],
          "histogram": [
           {
            "marker": {
             "pattern": {
              "fillmode": "overlay",
              "size": 10,
              "solidity": 0.2
             }
            },
            "type": "histogram"
           }
          ],
          "histogram2d": [
           {
            "colorbar": {
             "outlinewidth": 0,
             "ticks": ""
            },
            "colorscale": [
             [
              0,
              "#0d0887"
             ],
             [
              0.1111111111111111,
              "#46039f"
             ],
             [
              0.2222222222222222,
              "#7201a8"
             ],
             [
              0.3333333333333333,
              "#9c179e"
             ],
             [
              0.4444444444444444,
              "#bd3786"
             ],
             [
              0.5555555555555556,
              "#d8576b"
             ],
             [
              0.6666666666666666,
              "#ed7953"
             ],
             [
              0.7777777777777778,
              "#fb9f3a"
             ],
             [
              0.8888888888888888,
              "#fdca26"
             ],
             [
              1,
              "#f0f921"
             ]
            ],
            "type": "histogram2d"
           }
          ],
          "histogram2dcontour": [
           {
            "colorbar": {
             "outlinewidth": 0,
             "ticks": ""
            },
            "colorscale": [
             [
              0,
              "#0d0887"
             ],
             [
              0.1111111111111111,
              "#46039f"
             ],
             [
              0.2222222222222222,
              "#7201a8"
             ],
             [
              0.3333333333333333,
              "#9c179e"
             ],
             [
              0.4444444444444444,
              "#bd3786"
             ],
             [
              0.5555555555555556,
              "#d8576b"
             ],
             [
              0.6666666666666666,
              "#ed7953"
             ],
             [
              0.7777777777777778,
              "#fb9f3a"
             ],
             [
              0.8888888888888888,
              "#fdca26"
             ],
             [
              1,
              "#f0f921"
             ]
            ],
            "type": "histogram2dcontour"
           }
          ],
          "mesh3d": [
           {
            "colorbar": {
             "outlinewidth": 0,
             "ticks": ""
            },
            "type": "mesh3d"
           }
          ],
          "parcoords": [
           {
            "line": {
             "colorbar": {
              "outlinewidth": 0,
              "ticks": ""
             }
            },
            "type": "parcoords"
           }
          ],
          "pie": [
           {
            "automargin": true,
            "type": "pie"
           }
          ],
          "scatter": [
           {
            "fillpattern": {
             "fillmode": "overlay",
             "size": 10,
             "solidity": 0.2
            },
            "type": "scatter"
           }
          ],
          "scatter3d": [
           {
            "line": {
             "colorbar": {
              "outlinewidth": 0,
              "ticks": ""
             }
            },
            "marker": {
             "colorbar": {
              "outlinewidth": 0,
              "ticks": ""
             }
            },
            "type": "scatter3d"
           }
          ],
          "scattercarpet": [
           {
            "marker": {
             "colorbar": {
              "outlinewidth": 0,
              "ticks": ""
             }
            },
            "type": "scattercarpet"
           }
          ],
          "scattergeo": [
           {
            "marker": {
             "colorbar": {
              "outlinewidth": 0,
              "ticks": ""
             }
            },
            "type": "scattergeo"
           }
          ],
          "scattergl": [
           {
            "marker": {
             "colorbar": {
              "outlinewidth": 0,
              "ticks": ""
             }
            },
            "type": "scattergl"
           }
          ],
          "scattermapbox": [
           {
            "marker": {
             "colorbar": {
              "outlinewidth": 0,
              "ticks": ""
             }
            },
            "type": "scattermapbox"
           }
          ],
          "scatterpolar": [
           {
            "marker": {
             "colorbar": {
              "outlinewidth": 0,
              "ticks": ""
             }
            },
            "type": "scatterpolar"
           }
          ],
          "scatterpolargl": [
           {
            "marker": {
             "colorbar": {
              "outlinewidth": 0,
              "ticks": ""
             }
            },
            "type": "scatterpolargl"
           }
          ],
          "scatterternary": [
           {
            "marker": {
             "colorbar": {
              "outlinewidth": 0,
              "ticks": ""
             }
            },
            "type": "scatterternary"
           }
          ],
          "surface": [
           {
            "colorbar": {
             "outlinewidth": 0,
             "ticks": ""
            },
            "colorscale": [
             [
              0,
              "#0d0887"
             ],
             [
              0.1111111111111111,
              "#46039f"
             ],
             [
              0.2222222222222222,
              "#7201a8"
             ],
             [
              0.3333333333333333,
              "#9c179e"
             ],
             [
              0.4444444444444444,
              "#bd3786"
             ],
             [
              0.5555555555555556,
              "#d8576b"
             ],
             [
              0.6666666666666666,
              "#ed7953"
             ],
             [
              0.7777777777777778,
              "#fb9f3a"
             ],
             [
              0.8888888888888888,
              "#fdca26"
             ],
             [
              1,
              "#f0f921"
             ]
            ],
            "type": "surface"
           }
          ],
          "table": [
           {
            "cells": {
             "fill": {
              "color": "#EBF0F8"
             },
             "line": {
              "color": "white"
             }
            },
            "header": {
             "fill": {
              "color": "#C8D4E3"
             },
             "line": {
              "color": "white"
             }
            },
            "type": "table"
           }
          ]
         },
         "layout": {
          "annotationdefaults": {
           "arrowcolor": "#2a3f5f",
           "arrowhead": 0,
           "arrowwidth": 1
          },
          "autotypenumbers": "strict",
          "coloraxis": {
           "colorbar": {
            "outlinewidth": 0,
            "ticks": ""
           }
          },
          "colorscale": {
           "diverging": [
            [
             0,
             "#8e0152"
            ],
            [
             0.1,
             "#c51b7d"
            ],
            [
             0.2,
             "#de77ae"
            ],
            [
             0.3,
             "#f1b6da"
            ],
            [
             0.4,
             "#fde0ef"
            ],
            [
             0.5,
             "#f7f7f7"
            ],
            [
             0.6,
             "#e6f5d0"
            ],
            [
             0.7,
             "#b8e186"
            ],
            [
             0.8,
             "#7fbc41"
            ],
            [
             0.9,
             "#4d9221"
            ],
            [
             1,
             "#276419"
            ]
           ],
           "sequential": [
            [
             0,
             "#0d0887"
            ],
            [
             0.1111111111111111,
             "#46039f"
            ],
            [
             0.2222222222222222,
             "#7201a8"
            ],
            [
             0.3333333333333333,
             "#9c179e"
            ],
            [
             0.4444444444444444,
             "#bd3786"
            ],
            [
             0.5555555555555556,
             "#d8576b"
            ],
            [
             0.6666666666666666,
             "#ed7953"
            ],
            [
             0.7777777777777778,
             "#fb9f3a"
            ],
            [
             0.8888888888888888,
             "#fdca26"
            ],
            [
             1,
             "#f0f921"
            ]
           ],
           "sequentialminus": [
            [
             0,
             "#0d0887"
            ],
            [
             0.1111111111111111,
             "#46039f"
            ],
            [
             0.2222222222222222,
             "#7201a8"
            ],
            [
             0.3333333333333333,
             "#9c179e"
            ],
            [
             0.4444444444444444,
             "#bd3786"
            ],
            [
             0.5555555555555556,
             "#d8576b"
            ],
            [
             0.6666666666666666,
             "#ed7953"
            ],
            [
             0.7777777777777778,
             "#fb9f3a"
            ],
            [
             0.8888888888888888,
             "#fdca26"
            ],
            [
             1,
             "#f0f921"
            ]
           ]
          },
          "colorway": [
           "#636efa",
           "#EF553B",
           "#00cc96",
           "#ab63fa",
           "#FFA15A",
           "#19d3f3",
           "#FF6692",
           "#B6E880",
           "#FF97FF",
           "#FECB52"
          ],
          "font": {
           "color": "#2a3f5f"
          },
          "geo": {
           "bgcolor": "white",
           "lakecolor": "white",
           "landcolor": "#E5ECF6",
           "showlakes": true,
           "showland": true,
           "subunitcolor": "white"
          },
          "hoverlabel": {
           "align": "left"
          },
          "hovermode": "closest",
          "mapbox": {
           "style": "light"
          },
          "paper_bgcolor": "white",
          "plot_bgcolor": "#E5ECF6",
          "polar": {
           "angularaxis": {
            "gridcolor": "white",
            "linecolor": "white",
            "ticks": ""
           },
           "bgcolor": "#E5ECF6",
           "radialaxis": {
            "gridcolor": "white",
            "linecolor": "white",
            "ticks": ""
           }
          },
          "scene": {
           "xaxis": {
            "backgroundcolor": "#E5ECF6",
            "gridcolor": "white",
            "gridwidth": 2,
            "linecolor": "white",
            "showbackground": true,
            "ticks": "",
            "zerolinecolor": "white"
           },
           "yaxis": {
            "backgroundcolor": "#E5ECF6",
            "gridcolor": "white",
            "gridwidth": 2,
            "linecolor": "white",
            "showbackground": true,
            "ticks": "",
            "zerolinecolor": "white"
           },
           "zaxis": {
            "backgroundcolor": "#E5ECF6",
            "gridcolor": "white",
            "gridwidth": 2,
            "linecolor": "white",
            "showbackground": true,
            "ticks": "",
            "zerolinecolor": "white"
           }
          },
          "shapedefaults": {
           "line": {
            "color": "#2a3f5f"
           }
          },
          "ternary": {
           "aaxis": {
            "gridcolor": "white",
            "linecolor": "white",
            "ticks": ""
           },
           "baxis": {
            "gridcolor": "white",
            "linecolor": "white",
            "ticks": ""
           },
           "bgcolor": "#E5ECF6",
           "caxis": {
            "gridcolor": "white",
            "linecolor": "white",
            "ticks": ""
           }
          },
          "title": {
           "x": 0.05
          },
          "xaxis": {
           "automargin": true,
           "gridcolor": "white",
           "linecolor": "white",
           "ticks": "",
           "title": {
            "standoff": 15
           },
           "zerolinecolor": "white",
           "zerolinewidth": 2
          },
          "yaxis": {
           "automargin": true,
           "gridcolor": "white",
           "linecolor": "white",
           "ticks": "",
           "title": {
            "standoff": 15
           },
           "zerolinecolor": "white",
           "zerolinewidth": 2
          }
         }
        },
        "title": {
         "text": "Distribution of Ratings in La Jolla"
        },
        "xaxis": {
         "anchor": "y",
         "domain": [
          0,
          1
         ],
         "title": {
          "text": "Location"
         }
        },
        "yaxis": {
         "anchor": "x",
         "domain": [
          0,
          1
         ],
         "title": {
          "text": "Ratings"
         }
        }
       }
      }
     },
     "metadata": {},
     "output_type": "display_data"
    }
   ],
   "source": [
    "fig7 = px.box(df, x = 'Location', y = 'Ratings', \n",
    "            title = 'Distribution of Ratings in La Jolla')\n",
    "fig7.show()"
   ]
  },
  {
   "cell_type": "markdown",
   "id": "74ee6856",
   "metadata": {},
   "source": [
    "### La Jolla Data"
   ]
  },
  {
   "cell_type": "code",
   "execution_count": 29,
   "id": "81adfa61",
   "metadata": {},
   "outputs": [
    {
     "data": {
      "text/html": [
       "<div>\n",
       "<style scoped>\n",
       "    .dataframe tbody tr th:only-of-type {\n",
       "        vertical-align: middle;\n",
       "    }\n",
       "\n",
       "    .dataframe tbody tr th {\n",
       "        vertical-align: top;\n",
       "    }\n",
       "\n",
       "    .dataframe thead th {\n",
       "        text-align: right;\n",
       "    }\n",
       "</style>\n",
       "<table border=\"1\" class=\"dataframe\">\n",
       "  <thead>\n",
       "    <tr style=\"text-align: right;\">\n",
       "      <th></th>\n",
       "      <th>Name</th>\n",
       "      <th>URL</th>\n",
       "      <th>Notes</th>\n",
       "      <th>Cuisines</th>\n",
       "      <th>Location</th>\n",
       "      <th>Ratings</th>\n",
       "    </tr>\n",
       "  </thead>\n",
       "  <tbody>\n",
       "    <tr>\n",
       "      <th>6</th>\n",
       "      <td>Caroline's Seaside Cafe by Giuseppe</td>\n",
       "      <td>http://carolinesseasidecafe.com/</td>\n",
       "      <td>good sandwich, fries are top tier, and the dis...</td>\n",
       "      <td>[American, Burgers, Sandwiches]</td>\n",
       "      <td>La Jolla</td>\n",
       "      <td>9.9</td>\n",
       "    </tr>\n",
       "    <tr>\n",
       "      <th>8</th>\n",
       "      <td>Nozomi Sushi La Jolla</td>\n",
       "      <td>https://www.nozomilajolla.com/</td>\n",
       "      <td>No Notes</td>\n",
       "      <td>[Japanese, Korean, Sushi]</td>\n",
       "      <td>La Jolla</td>\n",
       "      <td>9.7</td>\n",
       "    </tr>\n",
       "    <tr>\n",
       "      <th>13</th>\n",
       "      <td>Tous Les Jours</td>\n",
       "      <td>https://order.online/store/touslesjourslajolla...</td>\n",
       "      <td>No Notes</td>\n",
       "      <td>[Bakery, Korean, French]</td>\n",
       "      <td>La Jolla</td>\n",
       "      <td>9.7</td>\n",
       "    </tr>\n",
       "    <tr>\n",
       "      <th>15</th>\n",
       "      <td>Tahini Authentic Middle Eastern Street Food</td>\n",
       "      <td>http://www.tahinistreetfood.com/</td>\n",
       "      <td>everyone knows i’m in love with this place and...</td>\n",
       "      <td>[Mediterranean]</td>\n",
       "      <td>La Jolla</td>\n",
       "      <td>9.4</td>\n",
       "    </tr>\n",
       "    <tr>\n",
       "      <th>27</th>\n",
       "      <td>Shorehouse Kitchen</td>\n",
       "      <td>http://www.shorehousekitchen.com/</td>\n",
       "      <td>No Notes</td>\n",
       "      <td>[Breakfast, Brunch, Californian]</td>\n",
       "      <td>La Jolla</td>\n",
       "      <td>9.2</td>\n",
       "    </tr>\n",
       "    <tr>\n",
       "      <th>29</th>\n",
       "      <td>Hennessey's Tavern</td>\n",
       "      <td>http://hennesseystavern.com/</td>\n",
       "      <td>No Notes</td>\n",
       "      <td>[American]</td>\n",
       "      <td>La Jolla</td>\n",
       "      <td>9.2</td>\n",
       "    </tr>\n",
       "    <tr>\n",
       "      <th>30</th>\n",
       "      <td>AROI</td>\n",
       "      <td>http://www.aroithailajolla.com/</td>\n",
       "      <td>No Notes</td>\n",
       "      <td>[Thai]</td>\n",
       "      <td>La Jolla</td>\n",
       "      <td>9.2</td>\n",
       "    </tr>\n",
       "    <tr>\n",
       "      <th>31</th>\n",
       "      <td>Micheline's Pita House</td>\n",
       "      <td>https://www.pitahousesd.com/</td>\n",
       "      <td>No Notes</td>\n",
       "      <td>[Mediterranean]</td>\n",
       "      <td>La Jolla</td>\n",
       "      <td>9.2</td>\n",
       "    </tr>\n",
       "    <tr>\n",
       "      <th>36</th>\n",
       "      <td>Pho La Jolla</td>\n",
       "      <td>http://www.pholajolla.com/</td>\n",
       "      <td>No Notes</td>\n",
       "      <td>[Vietnamese]</td>\n",
       "      <td>La Jolla</td>\n",
       "      <td>8.6</td>\n",
       "    </tr>\n",
       "    <tr>\n",
       "      <th>44</th>\n",
       "      <td>Blue Bowl Superfoods</td>\n",
       "      <td>http://mybluebowl.com/</td>\n",
       "      <td>I LOVE BLUE BOWL i stuff that shit in the bowl...</td>\n",
       "      <td>[Açaí Bowls]</td>\n",
       "      <td>La Jolla</td>\n",
       "      <td>8.3</td>\n",
       "    </tr>\n",
       "    <tr>\n",
       "      <th>47</th>\n",
       "      <td>Harry's Coffee Shop</td>\n",
       "      <td>http://harryscoffeeshop.com/</td>\n",
       "      <td>No Notes</td>\n",
       "      <td>[Breakfast, Brunch, American]</td>\n",
       "      <td>La Jolla</td>\n",
       "      <td>8.2</td>\n",
       "    </tr>\n",
       "    <tr>\n",
       "      <th>54</th>\n",
       "      <td>Santorini Greek Island Grill</td>\n",
       "      <td>No URL</td>\n",
       "      <td>mfs know if im not at tahini, im at santorini ...</td>\n",
       "      <td>[Mediterranean, Greek]</td>\n",
       "      <td>La Jolla</td>\n",
       "      <td>7.9</td>\n",
       "    </tr>\n",
       "    <tr>\n",
       "      <th>57</th>\n",
       "      <td>Poki One N Half</td>\n",
       "      <td>No URL</td>\n",
       "      <td>the poke was good. only thing is they charge a...</td>\n",
       "      <td>[Hawaiian, Poke]</td>\n",
       "      <td>La Jolla</td>\n",
       "      <td>7.8</td>\n",
       "    </tr>\n",
       "    <tr>\n",
       "      <th>62</th>\n",
       "      <td>Turmeric Thai Garden</td>\n",
       "      <td>https://www.turmericthai.com/</td>\n",
       "      <td>i had drunken noodles and i had a spicy level ...</td>\n",
       "      <td>[Thai]</td>\n",
       "      <td>La Jolla</td>\n",
       "      <td>7.7</td>\n",
       "    </tr>\n",
       "    <tr>\n",
       "      <th>65</th>\n",
       "      <td>ChickfilA</td>\n",
       "      <td>https://www.chickfila.com/locations/ca/lajolla...</td>\n",
       "      <td>i always eat here if i’m not at cava or ike’s</td>\n",
       "      <td>[Chicken, Fast Food]</td>\n",
       "      <td>La Jolla</td>\n",
       "      <td>7.5</td>\n",
       "    </tr>\n",
       "    <tr>\n",
       "      <th>67</th>\n",
       "      <td>Ike's Love &amp; Sandwiches</td>\n",
       "      <td>https://locations.ikessandwich.com/ca/lajolla/...</td>\n",
       "      <td>No Notes</td>\n",
       "      <td>[Sandwiches]</td>\n",
       "      <td>La Jolla</td>\n",
       "      <td>7.4</td>\n",
       "    </tr>\n",
       "    <tr>\n",
       "      <th>70</th>\n",
       "      <td>Plant Power Fast Food</td>\n",
       "      <td>https://www.plantpowerfastfood.com/ucsd</td>\n",
       "      <td>i think this place is good for a last minute s...</td>\n",
       "      <td>[Vegan]</td>\n",
       "      <td>La Jolla</td>\n",
       "      <td>7.3</td>\n",
       "    </tr>\n",
       "    <tr>\n",
       "      <th>71</th>\n",
       "      <td>The Kebab Shop</td>\n",
       "      <td>https://thekebabshop.com/locations/ca/sandiego...</td>\n",
       "      <td>i ate the thing in my profile pic. twas good a...</td>\n",
       "      <td>[Mediterranean, Kebab, Lebanese]</td>\n",
       "      <td>La Jolla</td>\n",
       "      <td>7.2</td>\n",
       "    </tr>\n",
       "    <tr>\n",
       "      <th>72</th>\n",
       "      <td>Shōwa Ramen</td>\n",
       "      <td>http://www.showaramen.com/</td>\n",
       "      <td>i usually get their fried rice it’s rlly good....</td>\n",
       "      <td>[Ramen, Japanese]</td>\n",
       "      <td>La Jolla</td>\n",
       "      <td>7.2</td>\n",
       "    </tr>\n",
       "    <tr>\n",
       "      <th>74</th>\n",
       "      <td>Regents Pizzeria</td>\n",
       "      <td>https://regentspizza.com/</td>\n",
       "      <td>yo got the rigatoni chicken pesto. enjoyed the...</td>\n",
       "      <td>[Pizza]</td>\n",
       "      <td>La Jolla</td>\n",
       "      <td>7.1</td>\n",
       "    </tr>\n",
       "    <tr>\n",
       "      <th>84</th>\n",
       "      <td>Barbarella Restaurant &amp; Bar</td>\n",
       "      <td>https://barbarellarestaurant.com/?y_source=1_M...</td>\n",
       "      <td>the pasta al forno was good! i think imo leeks...</td>\n",
       "      <td>[Italian]</td>\n",
       "      <td>La Jolla</td>\n",
       "      <td>6.7</td>\n",
       "    </tr>\n",
       "    <tr>\n",
       "      <th>90</th>\n",
       "      <td>The Melt</td>\n",
       "      <td>http://www.themelt.com/</td>\n",
       "      <td>No Notes</td>\n",
       "      <td>[American]</td>\n",
       "      <td>La Jolla</td>\n",
       "      <td>4.0</td>\n",
       "    </tr>\n",
       "  </tbody>\n",
       "</table>\n",
       "</div>"
      ],
      "text/plain": [
       "                                           Name  \\\n",
       "6           Caroline's Seaside Cafe by Giuseppe   \n",
       "8                         Nozomi Sushi La Jolla   \n",
       "13                               Tous Les Jours   \n",
       "15  Tahini Authentic Middle Eastern Street Food   \n",
       "27                           Shorehouse Kitchen   \n",
       "29                           Hennessey's Tavern   \n",
       "30                                         AROI   \n",
       "31                       Micheline's Pita House   \n",
       "36                                 Pho La Jolla   \n",
       "44                         Blue Bowl Superfoods   \n",
       "47                          Harry's Coffee Shop   \n",
       "54                 Santorini Greek Island Grill   \n",
       "57                              Poki One N Half   \n",
       "62                         Turmeric Thai Garden   \n",
       "65                                    ChickfilA   \n",
       "67                      Ike's Love & Sandwiches   \n",
       "70                        Plant Power Fast Food   \n",
       "71                               The Kebab Shop   \n",
       "72                                  Shōwa Ramen   \n",
       "74                             Regents Pizzeria   \n",
       "84                  Barbarella Restaurant & Bar   \n",
       "90                                     The Melt   \n",
       "\n",
       "                                                  URL  \\\n",
       "6                    http://carolinesseasidecafe.com/   \n",
       "8                      https://www.nozomilajolla.com/   \n",
       "13  https://order.online/store/touslesjourslajolla...   \n",
       "15                   http://www.tahinistreetfood.com/   \n",
       "27                  http://www.shorehousekitchen.com/   \n",
       "29                       http://hennesseystavern.com/   \n",
       "30                    http://www.aroithailajolla.com/   \n",
       "31                       https://www.pitahousesd.com/   \n",
       "36                         http://www.pholajolla.com/   \n",
       "44                             http://mybluebowl.com/   \n",
       "47                       http://harryscoffeeshop.com/   \n",
       "54                                             No URL   \n",
       "57                                             No URL   \n",
       "62                      https://www.turmericthai.com/   \n",
       "65  https://www.chickfila.com/locations/ca/lajolla...   \n",
       "67  https://locations.ikessandwich.com/ca/lajolla/...   \n",
       "70            https://www.plantpowerfastfood.com/ucsd   \n",
       "71  https://thekebabshop.com/locations/ca/sandiego...   \n",
       "72                         http://www.showaramen.com/   \n",
       "74                          https://regentspizza.com/   \n",
       "84  https://barbarellarestaurant.com/?y_source=1_M...   \n",
       "90                            http://www.themelt.com/   \n",
       "\n",
       "                                                Notes  \\\n",
       "6   good sandwich, fries are top tier, and the dis...   \n",
       "8                                            No Notes   \n",
       "13                                           No Notes   \n",
       "15  everyone knows i’m in love with this place and...   \n",
       "27                                           No Notes   \n",
       "29                                           No Notes   \n",
       "30                                           No Notes   \n",
       "31                                           No Notes   \n",
       "36                                           No Notes   \n",
       "44  I LOVE BLUE BOWL i stuff that shit in the bowl...   \n",
       "47                                           No Notes   \n",
       "54  mfs know if im not at tahini, im at santorini ...   \n",
       "57  the poke was good. only thing is they charge a...   \n",
       "62  i had drunken noodles and i had a spicy level ...   \n",
       "65      i always eat here if i’m not at cava or ike’s   \n",
       "67                                           No Notes   \n",
       "70  i think this place is good for a last minute s...   \n",
       "71  i ate the thing in my profile pic. twas good a...   \n",
       "72  i usually get their fried rice it’s rlly good....   \n",
       "74  yo got the rigatoni chicken pesto. enjoyed the...   \n",
       "84  the pasta al forno was good! i think imo leeks...   \n",
       "90                                           No Notes   \n",
       "\n",
       "                            Cuisines  Location  Ratings  \n",
       "6    [American, Burgers, Sandwiches]  La Jolla      9.9  \n",
       "8          [Japanese, Korean, Sushi]  La Jolla      9.7  \n",
       "13          [Bakery, Korean, French]  La Jolla      9.7  \n",
       "15                   [Mediterranean]  La Jolla      9.4  \n",
       "27  [Breakfast, Brunch, Californian]  La Jolla      9.2  \n",
       "29                        [American]  La Jolla      9.2  \n",
       "30                            [Thai]  La Jolla      9.2  \n",
       "31                   [Mediterranean]  La Jolla      9.2  \n",
       "36                      [Vietnamese]  La Jolla      8.6  \n",
       "44                      [Açaí Bowls]  La Jolla      8.3  \n",
       "47     [Breakfast, Brunch, American]  La Jolla      8.2  \n",
       "54            [Mediterranean, Greek]  La Jolla      7.9  \n",
       "57                  [Hawaiian, Poke]  La Jolla      7.8  \n",
       "62                            [Thai]  La Jolla      7.7  \n",
       "65              [Chicken, Fast Food]  La Jolla      7.5  \n",
       "67                      [Sandwiches]  La Jolla      7.4  \n",
       "70                           [Vegan]  La Jolla      7.3  \n",
       "71  [Mediterranean, Kebab, Lebanese]  La Jolla      7.2  \n",
       "72                 [Ramen, Japanese]  La Jolla      7.2  \n",
       "74                           [Pizza]  La Jolla      7.1  \n",
       "84                         [Italian]  La Jolla      6.7  \n",
       "90                        [American]  La Jolla      4.0  "
      ]
     },
     "execution_count": 29,
     "metadata": {},
     "output_type": "execute_result"
    }
   ],
   "source": [
    "la_jolla = df[df['Location'] == 'La Jolla']\n",
    "la_jolla"
   ]
  },
  {
   "cell_type": "code",
   "execution_count": 30,
   "id": "17ebbd65",
   "metadata": {},
   "outputs": [
    {
     "data": {
      "application/vnd.plotly.v1+json": {
       "config": {
        "plotlyServerURL": "https://plot.ly"
       },
       "data": [
        {
         "alignmentgroup": "True",
         "hovertemplate": "Ratings=%{y}<extra></extra>",
         "legendgroup": "",
         "marker": {
          "color": "#636efa"
         },
         "name": "",
         "notched": false,
         "offsetgroup": "",
         "orientation": "v",
         "showlegend": false,
         "type": "box",
         "x0": " ",
         "xaxis": "x",
         "y": [
          9.9,
          9.7,
          9.7,
          9.4,
          9.2,
          9.2,
          9.2,
          9.2,
          8.6,
          8.3,
          8.2,
          7.9,
          7.8,
          7.7,
          7.5,
          7.4,
          7.3,
          7.2,
          7.2,
          7.1,
          6.7,
          4
         ],
         "y0": " ",
         "yaxis": "y"
        }
       ],
       "layout": {
        "boxmode": "group",
        "legend": {
         "tracegroupgap": 0
        },
        "template": {
         "data": {
          "bar": [
           {
            "error_x": {
             "color": "#2a3f5f"
            },
            "error_y": {
             "color": "#2a3f5f"
            },
            "marker": {
             "line": {
              "color": "#E5ECF6",
              "width": 0.5
             },
             "pattern": {
              "fillmode": "overlay",
              "size": 10,
              "solidity": 0.2
             }
            },
            "type": "bar"
           }
          ],
          "barpolar": [
           {
            "marker": {
             "line": {
              "color": "#E5ECF6",
              "width": 0.5
             },
             "pattern": {
              "fillmode": "overlay",
              "size": 10,
              "solidity": 0.2
             }
            },
            "type": "barpolar"
           }
          ],
          "carpet": [
           {
            "aaxis": {
             "endlinecolor": "#2a3f5f",
             "gridcolor": "white",
             "linecolor": "white",
             "minorgridcolor": "white",
             "startlinecolor": "#2a3f5f"
            },
            "baxis": {
             "endlinecolor": "#2a3f5f",
             "gridcolor": "white",
             "linecolor": "white",
             "minorgridcolor": "white",
             "startlinecolor": "#2a3f5f"
            },
            "type": "carpet"
           }
          ],
          "choropleth": [
           {
            "colorbar": {
             "outlinewidth": 0,
             "ticks": ""
            },
            "type": "choropleth"
           }
          ],
          "contour": [
           {
            "colorbar": {
             "outlinewidth": 0,
             "ticks": ""
            },
            "colorscale": [
             [
              0,
              "#0d0887"
             ],
             [
              0.1111111111111111,
              "#46039f"
             ],
             [
              0.2222222222222222,
              "#7201a8"
             ],
             [
              0.3333333333333333,
              "#9c179e"
             ],
             [
              0.4444444444444444,
              "#bd3786"
             ],
             [
              0.5555555555555556,
              "#d8576b"
             ],
             [
              0.6666666666666666,
              "#ed7953"
             ],
             [
              0.7777777777777778,
              "#fb9f3a"
             ],
             [
              0.8888888888888888,
              "#fdca26"
             ],
             [
              1,
              "#f0f921"
             ]
            ],
            "type": "contour"
           }
          ],
          "contourcarpet": [
           {
            "colorbar": {
             "outlinewidth": 0,
             "ticks": ""
            },
            "type": "contourcarpet"
           }
          ],
          "heatmap": [
           {
            "colorbar": {
             "outlinewidth": 0,
             "ticks": ""
            },
            "colorscale": [
             [
              0,
              "#0d0887"
             ],
             [
              0.1111111111111111,
              "#46039f"
             ],
             [
              0.2222222222222222,
              "#7201a8"
             ],
             [
              0.3333333333333333,
              "#9c179e"
             ],
             [
              0.4444444444444444,
              "#bd3786"
             ],
             [
              0.5555555555555556,
              "#d8576b"
             ],
             [
              0.6666666666666666,
              "#ed7953"
             ],
             [
              0.7777777777777778,
              "#fb9f3a"
             ],
             [
              0.8888888888888888,
              "#fdca26"
             ],
             [
              1,
              "#f0f921"
             ]
            ],
            "type": "heatmap"
           }
          ],
          "heatmapgl": [
           {
            "colorbar": {
             "outlinewidth": 0,
             "ticks": ""
            },
            "colorscale": [
             [
              0,
              "#0d0887"
             ],
             [
              0.1111111111111111,
              "#46039f"
             ],
             [
              0.2222222222222222,
              "#7201a8"
             ],
             [
              0.3333333333333333,
              "#9c179e"
             ],
             [
              0.4444444444444444,
              "#bd3786"
             ],
             [
              0.5555555555555556,
              "#d8576b"
             ],
             [
              0.6666666666666666,
              "#ed7953"
             ],
             [
              0.7777777777777778,
              "#fb9f3a"
             ],
             [
              0.8888888888888888,
              "#fdca26"
             ],
             [
              1,
              "#f0f921"
             ]
            ],
            "type": "heatmapgl"
           }
          ],
          "histogram": [
           {
            "marker": {
             "pattern": {
              "fillmode": "overlay",
              "size": 10,
              "solidity": 0.2
             }
            },
            "type": "histogram"
           }
          ],
          "histogram2d": [
           {
            "colorbar": {
             "outlinewidth": 0,
             "ticks": ""
            },
            "colorscale": [
             [
              0,
              "#0d0887"
             ],
             [
              0.1111111111111111,
              "#46039f"
             ],
             [
              0.2222222222222222,
              "#7201a8"
             ],
             [
              0.3333333333333333,
              "#9c179e"
             ],
             [
              0.4444444444444444,
              "#bd3786"
             ],
             [
              0.5555555555555556,
              "#d8576b"
             ],
             [
              0.6666666666666666,
              "#ed7953"
             ],
             [
              0.7777777777777778,
              "#fb9f3a"
             ],
             [
              0.8888888888888888,
              "#fdca26"
             ],
             [
              1,
              "#f0f921"
             ]
            ],
            "type": "histogram2d"
           }
          ],
          "histogram2dcontour": [
           {
            "colorbar": {
             "outlinewidth": 0,
             "ticks": ""
            },
            "colorscale": [
             [
              0,
              "#0d0887"
             ],
             [
              0.1111111111111111,
              "#46039f"
             ],
             [
              0.2222222222222222,
              "#7201a8"
             ],
             [
              0.3333333333333333,
              "#9c179e"
             ],
             [
              0.4444444444444444,
              "#bd3786"
             ],
             [
              0.5555555555555556,
              "#d8576b"
             ],
             [
              0.6666666666666666,
              "#ed7953"
             ],
             [
              0.7777777777777778,
              "#fb9f3a"
             ],
             [
              0.8888888888888888,
              "#fdca26"
             ],
             [
              1,
              "#f0f921"
             ]
            ],
            "type": "histogram2dcontour"
           }
          ],
          "mesh3d": [
           {
            "colorbar": {
             "outlinewidth": 0,
             "ticks": ""
            },
            "type": "mesh3d"
           }
          ],
          "parcoords": [
           {
            "line": {
             "colorbar": {
              "outlinewidth": 0,
              "ticks": ""
             }
            },
            "type": "parcoords"
           }
          ],
          "pie": [
           {
            "automargin": true,
            "type": "pie"
           }
          ],
          "scatter": [
           {
            "fillpattern": {
             "fillmode": "overlay",
             "size": 10,
             "solidity": 0.2
            },
            "type": "scatter"
           }
          ],
          "scatter3d": [
           {
            "line": {
             "colorbar": {
              "outlinewidth": 0,
              "ticks": ""
             }
            },
            "marker": {
             "colorbar": {
              "outlinewidth": 0,
              "ticks": ""
             }
            },
            "type": "scatter3d"
           }
          ],
          "scattercarpet": [
           {
            "marker": {
             "colorbar": {
              "outlinewidth": 0,
              "ticks": ""
             }
            },
            "type": "scattercarpet"
           }
          ],
          "scattergeo": [
           {
            "marker": {
             "colorbar": {
              "outlinewidth": 0,
              "ticks": ""
             }
            },
            "type": "scattergeo"
           }
          ],
          "scattergl": [
           {
            "marker": {
             "colorbar": {
              "outlinewidth": 0,
              "ticks": ""
             }
            },
            "type": "scattergl"
           }
          ],
          "scattermapbox": [
           {
            "marker": {
             "colorbar": {
              "outlinewidth": 0,
              "ticks": ""
             }
            },
            "type": "scattermapbox"
           }
          ],
          "scatterpolar": [
           {
            "marker": {
             "colorbar": {
              "outlinewidth": 0,
              "ticks": ""
             }
            },
            "type": "scatterpolar"
           }
          ],
          "scatterpolargl": [
           {
            "marker": {
             "colorbar": {
              "outlinewidth": 0,
              "ticks": ""
             }
            },
            "type": "scatterpolargl"
           }
          ],
          "scatterternary": [
           {
            "marker": {
             "colorbar": {
              "outlinewidth": 0,
              "ticks": ""
             }
            },
            "type": "scatterternary"
           }
          ],
          "surface": [
           {
            "colorbar": {
             "outlinewidth": 0,
             "ticks": ""
            },
            "colorscale": [
             [
              0,
              "#0d0887"
             ],
             [
              0.1111111111111111,
              "#46039f"
             ],
             [
              0.2222222222222222,
              "#7201a8"
             ],
             [
              0.3333333333333333,
              "#9c179e"
             ],
             [
              0.4444444444444444,
              "#bd3786"
             ],
             [
              0.5555555555555556,
              "#d8576b"
             ],
             [
              0.6666666666666666,
              "#ed7953"
             ],
             [
              0.7777777777777778,
              "#fb9f3a"
             ],
             [
              0.8888888888888888,
              "#fdca26"
             ],
             [
              1,
              "#f0f921"
             ]
            ],
            "type": "surface"
           }
          ],
          "table": [
           {
            "cells": {
             "fill": {
              "color": "#EBF0F8"
             },
             "line": {
              "color": "white"
             }
            },
            "header": {
             "fill": {
              "color": "#C8D4E3"
             },
             "line": {
              "color": "white"
             }
            },
            "type": "table"
           }
          ]
         },
         "layout": {
          "annotationdefaults": {
           "arrowcolor": "#2a3f5f",
           "arrowhead": 0,
           "arrowwidth": 1
          },
          "autotypenumbers": "strict",
          "coloraxis": {
           "colorbar": {
            "outlinewidth": 0,
            "ticks": ""
           }
          },
          "colorscale": {
           "diverging": [
            [
             0,
             "#8e0152"
            ],
            [
             0.1,
             "#c51b7d"
            ],
            [
             0.2,
             "#de77ae"
            ],
            [
             0.3,
             "#f1b6da"
            ],
            [
             0.4,
             "#fde0ef"
            ],
            [
             0.5,
             "#f7f7f7"
            ],
            [
             0.6,
             "#e6f5d0"
            ],
            [
             0.7,
             "#b8e186"
            ],
            [
             0.8,
             "#7fbc41"
            ],
            [
             0.9,
             "#4d9221"
            ],
            [
             1,
             "#276419"
            ]
           ],
           "sequential": [
            [
             0,
             "#0d0887"
            ],
            [
             0.1111111111111111,
             "#46039f"
            ],
            [
             0.2222222222222222,
             "#7201a8"
            ],
            [
             0.3333333333333333,
             "#9c179e"
            ],
            [
             0.4444444444444444,
             "#bd3786"
            ],
            [
             0.5555555555555556,
             "#d8576b"
            ],
            [
             0.6666666666666666,
             "#ed7953"
            ],
            [
             0.7777777777777778,
             "#fb9f3a"
            ],
            [
             0.8888888888888888,
             "#fdca26"
            ],
            [
             1,
             "#f0f921"
            ]
           ],
           "sequentialminus": [
            [
             0,
             "#0d0887"
            ],
            [
             0.1111111111111111,
             "#46039f"
            ],
            [
             0.2222222222222222,
             "#7201a8"
            ],
            [
             0.3333333333333333,
             "#9c179e"
            ],
            [
             0.4444444444444444,
             "#bd3786"
            ],
            [
             0.5555555555555556,
             "#d8576b"
            ],
            [
             0.6666666666666666,
             "#ed7953"
            ],
            [
             0.7777777777777778,
             "#fb9f3a"
            ],
            [
             0.8888888888888888,
             "#fdca26"
            ],
            [
             1,
             "#f0f921"
            ]
           ]
          },
          "colorway": [
           "#636efa",
           "#EF553B",
           "#00cc96",
           "#ab63fa",
           "#FFA15A",
           "#19d3f3",
           "#FF6692",
           "#B6E880",
           "#FF97FF",
           "#FECB52"
          ],
          "font": {
           "color": "#2a3f5f"
          },
          "geo": {
           "bgcolor": "white",
           "lakecolor": "white",
           "landcolor": "#E5ECF6",
           "showlakes": true,
           "showland": true,
           "subunitcolor": "white"
          },
          "hoverlabel": {
           "align": "left"
          },
          "hovermode": "closest",
          "mapbox": {
           "style": "light"
          },
          "paper_bgcolor": "white",
          "plot_bgcolor": "#E5ECF6",
          "polar": {
           "angularaxis": {
            "gridcolor": "white",
            "linecolor": "white",
            "ticks": ""
           },
           "bgcolor": "#E5ECF6",
           "radialaxis": {
            "gridcolor": "white",
            "linecolor": "white",
            "ticks": ""
           }
          },
          "scene": {
           "xaxis": {
            "backgroundcolor": "#E5ECF6",
            "gridcolor": "white",
            "gridwidth": 2,
            "linecolor": "white",
            "showbackground": true,
            "ticks": "",
            "zerolinecolor": "white"
           },
           "yaxis": {
            "backgroundcolor": "#E5ECF6",
            "gridcolor": "white",
            "gridwidth": 2,
            "linecolor": "white",
            "showbackground": true,
            "ticks": "",
            "zerolinecolor": "white"
           },
           "zaxis": {
            "backgroundcolor": "#E5ECF6",
            "gridcolor": "white",
            "gridwidth": 2,
            "linecolor": "white",
            "showbackground": true,
            "ticks": "",
            "zerolinecolor": "white"
           }
          },
          "shapedefaults": {
           "line": {
            "color": "#2a3f5f"
           }
          },
          "ternary": {
           "aaxis": {
            "gridcolor": "white",
            "linecolor": "white",
            "ticks": ""
           },
           "baxis": {
            "gridcolor": "white",
            "linecolor": "white",
            "ticks": ""
           },
           "bgcolor": "#E5ECF6",
           "caxis": {
            "gridcolor": "white",
            "linecolor": "white",
            "ticks": ""
           }
          },
          "title": {
           "x": 0.05
          },
          "xaxis": {
           "automargin": true,
           "gridcolor": "white",
           "linecolor": "white",
           "ticks": "",
           "title": {
            "standoff": 15
           },
           "zerolinecolor": "white",
           "zerolinewidth": 2
          },
          "yaxis": {
           "automargin": true,
           "gridcolor": "white",
           "linecolor": "white",
           "ticks": "",
           "title": {
            "standoff": 15
           },
           "zerolinecolor": "white",
           "zerolinewidth": 2
          }
         }
        },
        "title": {
         "text": "Distribution of Ratings in La Jolla"
        },
        "xaxis": {
         "anchor": "y",
         "domain": [
          0,
          1
         ]
        },
        "yaxis": {
         "anchor": "x",
         "domain": [
          0,
          1
         ],
         "title": {
          "text": "Ratings"
         }
        }
       }
      }
     },
     "metadata": {},
     "output_type": "display_data"
    }
   ],
   "source": [
    "rating_la_jolla = la_jolla[['Ratings']]\n",
    "fig4 = px.box(rating_la_jolla, y = 'Ratings', \n",
    "            title = 'Distribution of Ratings in La Jolla')\n",
    "fig4.show()"
   ]
  },
  {
   "cell_type": "code",
   "execution_count": 31,
   "id": "62354a45",
   "metadata": {},
   "outputs": [
    {
     "data": {
      "application/vnd.plotly.v1+json": {
       "config": {
        "plotlyServerURL": "https://plot.ly"
       },
       "data": [
        {
         "alignmentgroup": "True",
         "hovertemplate": "Cuisine=%{x}<br>Count of Cuisine=%{y}<extra></extra>",
         "legendgroup": "",
         "marker": {
          "color": "#636efa",
          "pattern": {
           "shape": ""
          }
         },
         "name": "",
         "offsetgroup": "",
         "orientation": "v",
         "showlegend": false,
         "textposition": "inside",
         "texttemplate": "%{y}",
         "type": "bar",
         "x": [
          "American",
          "Mediterranean",
          "Sandwiches",
          "Japanese",
          "Korean",
          "Breakfast",
          "Brunch",
          "Thai",
          "Poke",
          "Pizza",
          "Ramen",
          "Lebanese",
          "Kebab",
          "Vegan",
          "Fast Food",
          "Chicken",
          "Vietnamese",
          "Hawaiian",
          "Greek",
          "Açaí Bowls",
          "Burgers",
          "Californian",
          "French",
          "Bakery",
          "Sushi",
          "Italian"
         ],
         "xaxis": "x",
         "y": [
          4,
          4,
          2,
          2,
          2,
          2,
          2,
          2,
          1,
          1,
          1,
          1,
          1,
          1,
          1,
          1,
          1,
          1,
          1,
          1,
          1,
          1,
          1,
          1,
          1,
          1
         ],
         "yaxis": "y"
        }
       ],
       "layout": {
        "barmode": "relative",
        "legend": {
         "tracegroupgap": 0
        },
        "template": {
         "data": {
          "bar": [
           {
            "error_x": {
             "color": "#2a3f5f"
            },
            "error_y": {
             "color": "#2a3f5f"
            },
            "marker": {
             "line": {
              "color": "#E5ECF6",
              "width": 0.5
             },
             "pattern": {
              "fillmode": "overlay",
              "size": 10,
              "solidity": 0.2
             }
            },
            "type": "bar"
           }
          ],
          "barpolar": [
           {
            "marker": {
             "line": {
              "color": "#E5ECF6",
              "width": 0.5
             },
             "pattern": {
              "fillmode": "overlay",
              "size": 10,
              "solidity": 0.2
             }
            },
            "type": "barpolar"
           }
          ],
          "carpet": [
           {
            "aaxis": {
             "endlinecolor": "#2a3f5f",
             "gridcolor": "white",
             "linecolor": "white",
             "minorgridcolor": "white",
             "startlinecolor": "#2a3f5f"
            },
            "baxis": {
             "endlinecolor": "#2a3f5f",
             "gridcolor": "white",
             "linecolor": "white",
             "minorgridcolor": "white",
             "startlinecolor": "#2a3f5f"
            },
            "type": "carpet"
           }
          ],
          "choropleth": [
           {
            "colorbar": {
             "outlinewidth": 0,
             "ticks": ""
            },
            "type": "choropleth"
           }
          ],
          "contour": [
           {
            "colorbar": {
             "outlinewidth": 0,
             "ticks": ""
            },
            "colorscale": [
             [
              0,
              "#0d0887"
             ],
             [
              0.1111111111111111,
              "#46039f"
             ],
             [
              0.2222222222222222,
              "#7201a8"
             ],
             [
              0.3333333333333333,
              "#9c179e"
             ],
             [
              0.4444444444444444,
              "#bd3786"
             ],
             [
              0.5555555555555556,
              "#d8576b"
             ],
             [
              0.6666666666666666,
              "#ed7953"
             ],
             [
              0.7777777777777778,
              "#fb9f3a"
             ],
             [
              0.8888888888888888,
              "#fdca26"
             ],
             [
              1,
              "#f0f921"
             ]
            ],
            "type": "contour"
           }
          ],
          "contourcarpet": [
           {
            "colorbar": {
             "outlinewidth": 0,
             "ticks": ""
            },
            "type": "contourcarpet"
           }
          ],
          "heatmap": [
           {
            "colorbar": {
             "outlinewidth": 0,
             "ticks": ""
            },
            "colorscale": [
             [
              0,
              "#0d0887"
             ],
             [
              0.1111111111111111,
              "#46039f"
             ],
             [
              0.2222222222222222,
              "#7201a8"
             ],
             [
              0.3333333333333333,
              "#9c179e"
             ],
             [
              0.4444444444444444,
              "#bd3786"
             ],
             [
              0.5555555555555556,
              "#d8576b"
             ],
             [
              0.6666666666666666,
              "#ed7953"
             ],
             [
              0.7777777777777778,
              "#fb9f3a"
             ],
             [
              0.8888888888888888,
              "#fdca26"
             ],
             [
              1,
              "#f0f921"
             ]
            ],
            "type": "heatmap"
           }
          ],
          "heatmapgl": [
           {
            "colorbar": {
             "outlinewidth": 0,
             "ticks": ""
            },
            "colorscale": [
             [
              0,
              "#0d0887"
             ],
             [
              0.1111111111111111,
              "#46039f"
             ],
             [
              0.2222222222222222,
              "#7201a8"
             ],
             [
              0.3333333333333333,
              "#9c179e"
             ],
             [
              0.4444444444444444,
              "#bd3786"
             ],
             [
              0.5555555555555556,
              "#d8576b"
             ],
             [
              0.6666666666666666,
              "#ed7953"
             ],
             [
              0.7777777777777778,
              "#fb9f3a"
             ],
             [
              0.8888888888888888,
              "#fdca26"
             ],
             [
              1,
              "#f0f921"
             ]
            ],
            "type": "heatmapgl"
           }
          ],
          "histogram": [
           {
            "marker": {
             "pattern": {
              "fillmode": "overlay",
              "size": 10,
              "solidity": 0.2
             }
            },
            "type": "histogram"
           }
          ],
          "histogram2d": [
           {
            "colorbar": {
             "outlinewidth": 0,
             "ticks": ""
            },
            "colorscale": [
             [
              0,
              "#0d0887"
             ],
             [
              0.1111111111111111,
              "#46039f"
             ],
             [
              0.2222222222222222,
              "#7201a8"
             ],
             [
              0.3333333333333333,
              "#9c179e"
             ],
             [
              0.4444444444444444,
              "#bd3786"
             ],
             [
              0.5555555555555556,
              "#d8576b"
             ],
             [
              0.6666666666666666,
              "#ed7953"
             ],
             [
              0.7777777777777778,
              "#fb9f3a"
             ],
             [
              0.8888888888888888,
              "#fdca26"
             ],
             [
              1,
              "#f0f921"
             ]
            ],
            "type": "histogram2d"
           }
          ],
          "histogram2dcontour": [
           {
            "colorbar": {
             "outlinewidth": 0,
             "ticks": ""
            },
            "colorscale": [
             [
              0,
              "#0d0887"
             ],
             [
              0.1111111111111111,
              "#46039f"
             ],
             [
              0.2222222222222222,
              "#7201a8"
             ],
             [
              0.3333333333333333,
              "#9c179e"
             ],
             [
              0.4444444444444444,
              "#bd3786"
             ],
             [
              0.5555555555555556,
              "#d8576b"
             ],
             [
              0.6666666666666666,
              "#ed7953"
             ],
             [
              0.7777777777777778,
              "#fb9f3a"
             ],
             [
              0.8888888888888888,
              "#fdca26"
             ],
             [
              1,
              "#f0f921"
             ]
            ],
            "type": "histogram2dcontour"
           }
          ],
          "mesh3d": [
           {
            "colorbar": {
             "outlinewidth": 0,
             "ticks": ""
            },
            "type": "mesh3d"
           }
          ],
          "parcoords": [
           {
            "line": {
             "colorbar": {
              "outlinewidth": 0,
              "ticks": ""
             }
            },
            "type": "parcoords"
           }
          ],
          "pie": [
           {
            "automargin": true,
            "type": "pie"
           }
          ],
          "scatter": [
           {
            "fillpattern": {
             "fillmode": "overlay",
             "size": 10,
             "solidity": 0.2
            },
            "type": "scatter"
           }
          ],
          "scatter3d": [
           {
            "line": {
             "colorbar": {
              "outlinewidth": 0,
              "ticks": ""
             }
            },
            "marker": {
             "colorbar": {
              "outlinewidth": 0,
              "ticks": ""
             }
            },
            "type": "scatter3d"
           }
          ],
          "scattercarpet": [
           {
            "marker": {
             "colorbar": {
              "outlinewidth": 0,
              "ticks": ""
             }
            },
            "type": "scattercarpet"
           }
          ],
          "scattergeo": [
           {
            "marker": {
             "colorbar": {
              "outlinewidth": 0,
              "ticks": ""
             }
            },
            "type": "scattergeo"
           }
          ],
          "scattergl": [
           {
            "marker": {
             "colorbar": {
              "outlinewidth": 0,
              "ticks": ""
             }
            },
            "type": "scattergl"
           }
          ],
          "scattermapbox": [
           {
            "marker": {
             "colorbar": {
              "outlinewidth": 0,
              "ticks": ""
             }
            },
            "type": "scattermapbox"
           }
          ],
          "scatterpolar": [
           {
            "marker": {
             "colorbar": {
              "outlinewidth": 0,
              "ticks": ""
             }
            },
            "type": "scatterpolar"
           }
          ],
          "scatterpolargl": [
           {
            "marker": {
             "colorbar": {
              "outlinewidth": 0,
              "ticks": ""
             }
            },
            "type": "scatterpolargl"
           }
          ],
          "scatterternary": [
           {
            "marker": {
             "colorbar": {
              "outlinewidth": 0,
              "ticks": ""
             }
            },
            "type": "scatterternary"
           }
          ],
          "surface": [
           {
            "colorbar": {
             "outlinewidth": 0,
             "ticks": ""
            },
            "colorscale": [
             [
              0,
              "#0d0887"
             ],
             [
              0.1111111111111111,
              "#46039f"
             ],
             [
              0.2222222222222222,
              "#7201a8"
             ],
             [
              0.3333333333333333,
              "#9c179e"
             ],
             [
              0.4444444444444444,
              "#bd3786"
             ],
             [
              0.5555555555555556,
              "#d8576b"
             ],
             [
              0.6666666666666666,
              "#ed7953"
             ],
             [
              0.7777777777777778,
              "#fb9f3a"
             ],
             [
              0.8888888888888888,
              "#fdca26"
             ],
             [
              1,
              "#f0f921"
             ]
            ],
            "type": "surface"
           }
          ],
          "table": [
           {
            "cells": {
             "fill": {
              "color": "#EBF0F8"
             },
             "line": {
              "color": "white"
             }
            },
            "header": {
             "fill": {
              "color": "#C8D4E3"
             },
             "line": {
              "color": "white"
             }
            },
            "type": "table"
           }
          ]
         },
         "layout": {
          "annotationdefaults": {
           "arrowcolor": "#2a3f5f",
           "arrowhead": 0,
           "arrowwidth": 1
          },
          "autotypenumbers": "strict",
          "coloraxis": {
           "colorbar": {
            "outlinewidth": 0,
            "ticks": ""
           }
          },
          "colorscale": {
           "diverging": [
            [
             0,
             "#8e0152"
            ],
            [
             0.1,
             "#c51b7d"
            ],
            [
             0.2,
             "#de77ae"
            ],
            [
             0.3,
             "#f1b6da"
            ],
            [
             0.4,
             "#fde0ef"
            ],
            [
             0.5,
             "#f7f7f7"
            ],
            [
             0.6,
             "#e6f5d0"
            ],
            [
             0.7,
             "#b8e186"
            ],
            [
             0.8,
             "#7fbc41"
            ],
            [
             0.9,
             "#4d9221"
            ],
            [
             1,
             "#276419"
            ]
           ],
           "sequential": [
            [
             0,
             "#0d0887"
            ],
            [
             0.1111111111111111,
             "#46039f"
            ],
            [
             0.2222222222222222,
             "#7201a8"
            ],
            [
             0.3333333333333333,
             "#9c179e"
            ],
            [
             0.4444444444444444,
             "#bd3786"
            ],
            [
             0.5555555555555556,
             "#d8576b"
            ],
            [
             0.6666666666666666,
             "#ed7953"
            ],
            [
             0.7777777777777778,
             "#fb9f3a"
            ],
            [
             0.8888888888888888,
             "#fdca26"
            ],
            [
             1,
             "#f0f921"
            ]
           ],
           "sequentialminus": [
            [
             0,
             "#0d0887"
            ],
            [
             0.1111111111111111,
             "#46039f"
            ],
            [
             0.2222222222222222,
             "#7201a8"
            ],
            [
             0.3333333333333333,
             "#9c179e"
            ],
            [
             0.4444444444444444,
             "#bd3786"
            ],
            [
             0.5555555555555556,
             "#d8576b"
            ],
            [
             0.6666666666666666,
             "#ed7953"
            ],
            [
             0.7777777777777778,
             "#fb9f3a"
            ],
            [
             0.8888888888888888,
             "#fdca26"
            ],
            [
             1,
             "#f0f921"
            ]
           ]
          },
          "colorway": [
           "#636efa",
           "#EF553B",
           "#00cc96",
           "#ab63fa",
           "#FFA15A",
           "#19d3f3",
           "#FF6692",
           "#B6E880",
           "#FF97FF",
           "#FECB52"
          ],
          "font": {
           "color": "#2a3f5f"
          },
          "geo": {
           "bgcolor": "white",
           "lakecolor": "white",
           "landcolor": "#E5ECF6",
           "showlakes": true,
           "showland": true,
           "subunitcolor": "white"
          },
          "hoverlabel": {
           "align": "left"
          },
          "hovermode": "closest",
          "mapbox": {
           "style": "light"
          },
          "paper_bgcolor": "white",
          "plot_bgcolor": "#E5ECF6",
          "polar": {
           "angularaxis": {
            "gridcolor": "white",
            "linecolor": "white",
            "ticks": ""
           },
           "bgcolor": "#E5ECF6",
           "radialaxis": {
            "gridcolor": "white",
            "linecolor": "white",
            "ticks": ""
           }
          },
          "scene": {
           "xaxis": {
            "backgroundcolor": "#E5ECF6",
            "gridcolor": "white",
            "gridwidth": 2,
            "linecolor": "white",
            "showbackground": true,
            "ticks": "",
            "zerolinecolor": "white"
           },
           "yaxis": {
            "backgroundcolor": "#E5ECF6",
            "gridcolor": "white",
            "gridwidth": 2,
            "linecolor": "white",
            "showbackground": true,
            "ticks": "",
            "zerolinecolor": "white"
           },
           "zaxis": {
            "backgroundcolor": "#E5ECF6",
            "gridcolor": "white",
            "gridwidth": 2,
            "linecolor": "white",
            "showbackground": true,
            "ticks": "",
            "zerolinecolor": "white"
           }
          },
          "shapedefaults": {
           "line": {
            "color": "#2a3f5f"
           }
          },
          "ternary": {
           "aaxis": {
            "gridcolor": "white",
            "linecolor": "white",
            "ticks": ""
           },
           "baxis": {
            "gridcolor": "white",
            "linecolor": "white",
            "ticks": ""
           },
           "bgcolor": "#E5ECF6",
           "caxis": {
            "gridcolor": "white",
            "linecolor": "white",
            "ticks": ""
           }
          },
          "title": {
           "x": 0.05
          },
          "xaxis": {
           "automargin": true,
           "gridcolor": "white",
           "linecolor": "white",
           "ticks": "",
           "title": {
            "standoff": 15
           },
           "zerolinecolor": "white",
           "zerolinewidth": 2
          },
          "yaxis": {
           "automargin": true,
           "gridcolor": "white",
           "linecolor": "white",
           "ticks": "",
           "title": {
            "standoff": 15
           },
           "zerolinecolor": "white",
           "zerolinewidth": 2
          }
         }
        },
        "title": {
         "text": "Frequency of Cuisines in La Jolla"
        },
        "uniformtext": {
         "minsize": 8
        },
        "xaxis": {
         "anchor": "y",
         "domain": [
          0,
          1
         ],
         "title": {
          "text": "Cuisine"
         }
        },
        "yaxis": {
         "anchor": "x",
         "domain": [
          0,
          1
         ],
         "title": {
          "text": "Count of Cuisine"
         }
        }
       }
      }
     },
     "metadata": {},
     "output_type": "display_data"
    }
   ],
   "source": [
    "lj_cuisines = la_jolla.explode('Cuisines')\n",
    "lj_cuisines = lj_cuisines['Cuisines'].value_counts().reset_index()\n",
    "lj_cuisines.columns = ['Cuisine', 'Count']\n",
    "\n",
    "\n",
    "\n",
    "fig6 = px.bar(lj_cuisines, \n",
    "              x = 'Cuisine',\n",
    "              y = 'Count',  \n",
    "              title = 'Frequency of Cuisines in La Jolla', \n",
    "              labels = {'Count' : 'Count of Cuisine'},\n",
    "              text_auto= True)\n",
    "fig6.update_traces(textposition='inside')\n",
    "fig6.update_layout(uniformtext_minsize=8) \n",
    "fig6.show()\n"
   ]
  },
  {
   "cell_type": "markdown",
   "id": "95065f93",
   "metadata": {},
   "source": [
    "## ML Model"
   ]
  },
  {
   "cell_type": "markdown",
   "id": "3f4da99d",
   "metadata": {},
   "source": [
    "### Feature Engineering"
   ]
  },
  {
   "cell_type": "code",
   "execution_count": null,
   "id": "cbf4713f",
   "metadata": {},
   "outputs": [],
   "source": [
    "class RestaurantFeatureExtractor:\n",
    "    def __init__(self):\n",
    "        self.text_model = SentenceTransformer('all-MiniLM-L6-v2')\n",
    "        self.cuisine_encoder = LabelEncoder()\n",
    "        self.scaler = StandardScaler()\n",
    "        self.feature_names = []\n",
    "        self.sentiment_analyzer = pipeline('sentiment-analysis', model = 'siebert/sentiment-roberta-large-english', return_all_scores = True)\n",
    "    \n",
    "    def extract_all_features(self, df):\n",
    "        \"\"\"Extract all features from restaurant data\"\"\"\n",
    "        print('Extracting text features..')\n",
    "        text_features = self._extract_text_features(df)\n",
    "\n",
    "        print('Extracting name features..')\n",
    "        name_features = self._extract_name_features(df)\n",
    "\n",
    "        print(\"Extracting cuisine features..\")\n",
    "        cuisine_features = self._extract_cuisine_features(df)\n",
    "        \n",
    "        print(\"Extracting URL features..\")\n",
    "        url_features = self._extract_url_features(df)\n",
    "        \n",
    "        print(\"Creating missing data indicators..\")\n",
    "        missing_indicators = self._create_missing_indicators(df)\n",
    "\n",
    "        all_features = np.hstack([\n",
    "            text_features,\n",
    "            name_features,\n",
    "            cuisine_features,\n",
    "            url_features,\n",
    "            missing_indicators\n",
    "        ])\n",
    "\n",
    "        print(f'Total Feature Dimensions: {all_features.shape[1]}')\n",
    "        return all_features\n",
    "    \n",
    "    def _extract_text_features(self, df):\n",
    "        \"\"\"Extract features from notes using Sentence-BERT embeddings\"\"\"\n",
    "        text_embeddings = []\n",
    "        text_stats = []\n",
    "        for notes in df['Notes']:\n",
    "            if pd.isna(notes) or str(notes).strip() == 'No Notes':\n",
    "                embedding = np.zeroes(384)\n",
    "                stats = [0] * 5\n",
    "            else:\n",
    "                notes_string = str(notes)\n",
    "                embedding = self.text_model([notes_string])[0]\n",
    "\n",
    "                sentiment = self.sentiment_analyzer(notes_string, truncation = True)[0]\n",
    "                pos_score = \n",
    "\n",
    "                stats = [\n",
    "                len(notes_string),\n",
    "                len(notes_string.split()),\n",
    "                \n",
    "                ]\n",
    "            text_embeddings.append(embedding)\n",
    "            text_stats.append(stats)\n",
    "        self.feature_names.extend([f'embedding_{i}' for i in range(384)])\n",
    "        self.feature_names.extend(text_stats)\n",
    "\n"
   ]
  },
  {
   "cell_type": "code",
   "execution_count": null,
   "id": "aa3ad52d",
   "metadata": {},
   "outputs": [],
   "source": []
  }
 ],
 "metadata": {
  "kernelspec": {
   "display_name": "base",
   "language": "python",
   "name": "python3"
  },
  "language_info": {
   "codemirror_mode": {
    "name": "ipython",
    "version": 3
   },
   "file_extension": ".py",
   "mimetype": "text/x-python",
   "name": "python",
   "nbconvert_exporter": "python",
   "pygments_lexer": "ipython3",
   "version": "3.12.2"
  }
 },
 "nbformat": 4,
 "nbformat_minor": 5
}

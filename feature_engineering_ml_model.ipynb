{
 "cells": [
  {
   "cell_type": "code",
   "execution_count": 1,
   "id": "12c0396f",
   "metadata": {},
   "outputs": [],
   "source": [
    "import pandas as pd\n",
    "import numpy as np\n",
    "import re\n",
    "\n",
    "from sentence_transformers import SentenceTransformer\n",
    "from sklearn.preprocessing import LabelEncoder, StandardScaler\n",
    "from sklearn.model_selection import train_test_split, TimeSeriesSplit, cross_val_score\n",
    "from transformers import pipeline\n",
    "\n",
    "from sklearn.ensemble import RandomForestRegressor\n",
    "from sklearn.metrics import mean_squared_error, r2_score"
   ]
  },
  {
   "cell_type": "markdown",
   "id": "0e53b848",
   "metadata": {},
   "source": [
    "## Feature Engineering Prototyping"
   ]
  },
  {
   "cell_type": "code",
   "execution_count": null,
   "id": "36bf8d95",
   "metadata": {},
   "outputs": [],
   "source": [
    "class RestaurantFeatureExtractor:\n",
    "    def __init__(self):\n",
    "        self.text_model = SentenceTransformer('')\n",
    "        self.cuisine_encoder = LabelEncoder()\n",
    "        self.scaler = StandardScaler()\n",
    "        self.feature_names = []\n",
    "        self.sentiment_analyzer = pipeline('sentiment-analysis', model = 'siebert/sentiment-roberta-large-english', return_all_scores = True)\n",
    "    \n",
    "    def extract_all_features(self, df):\n",
    "        \"\"\"Extract all features from restaurant data\"\"\"\n",
    "       \n",
    "        text_features = self._extract_text_features(df)\n",
    "\n",
    "       \n",
    "        name_features = self._extract_name_features(df)\n",
    "\n",
    "        \n",
    "        cuisine_features = self._extract_cuisine_features(df)\n",
    "        \n",
    "        \n",
    "        url_features = self._extract_url_features(df)\n",
    "        \n",
    "        \n",
    "        missing_indicators = self._create_missing_indicators(df)\n",
    "\n",
    "        all_features = np.hstack([\n",
    "            text_features,\n",
    "            name_features,\n",
    "            cuisine_features,\n",
    "            url_features,\n",
    "            missing_indicators\n",
    "        ])\n",
    "\n",
    "        print(f'Total Feature Dimensions: {all_features.shape[1]}')\n",
    "        return all_features\n",
    "    \n",
    "    def _extract_text_features(self, df):\n",
    "        \"\"\"Extract features from notes using Sentence-BERT embeddings\"\"\"\n",
    "        text_embeddings = []\n",
    "        text_stats = []\n",
    "        for notes in df['Notes']:\n",
    "            if pd.isna(notes) or str(notes).strip() == 'No Notes':\n",
    "                embedding = np.zeroes(384)\n",
    "                stats = [0] * 5\n",
    "            else:\n",
    "                notes_string = str(notes)\n",
    "                embedding = self.text_model([notes_string])[0]\n",
    "\n",
    "                sentiment = self.sentiment_analyzer(notes_string, truncation = True)[0]\n",
    "                pos_score = \n",
    "\n",
    "                stats = [\n",
    "                len(notes_string),\n",
    "                len(notes_string.split()),\n",
    "                \n",
    "                ]\n",
    "            text_embeddings.append(embedding)\n",
    "            text_stats.append(stats)\n",
    "        self.feature_names.extend([f'embedding_{i}' for i in range(384)])\n",
    "        self.feature_names.extend(text_stats)\n"
   ]
  },
  {
   "cell_type": "code",
   "execution_count": 4,
   "id": "965e141f",
   "metadata": {},
   "outputs": [],
   "source": [
    "test_df = pd.read_csv('cleaned_beli.csv')\n",
    "test_df = test_df.head(3)"
   ]
  },
  {
   "cell_type": "code",
   "execution_count": null,
   "id": "2dffaa3b",
   "metadata": {},
   "outputs": [],
   "source": []
  }
 ],
 "metadata": {
  "kernelspec": {
   "display_name": "base",
   "language": "python",
   "name": "python3"
  },
  "language_info": {
   "codemirror_mode": {
    "name": "ipython",
    "version": 3
   },
   "file_extension": ".py",
   "mimetype": "text/x-python",
   "name": "python",
   "nbconvert_exporter": "python",
   "pygments_lexer": "ipython3",
   "version": "3.13.7"
  }
 },
 "nbformat": 4,
 "nbformat_minor": 5
}
